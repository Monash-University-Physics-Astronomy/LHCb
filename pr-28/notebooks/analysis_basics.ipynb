{
 "cells": [
  {
   "cell_type": "markdown",
   "id": "cc959d32-554d-4d93-a9c5-87bcf7c6099d",
   "metadata": {},
   "source": [
    "# Reading and processing LHCb data files"
   ]
  },
  {
   "cell_type": "markdown",
   "id": "9dbf94aa-3fe8-4356-9ea8-178c5a0abbf8",
   "metadata": {},
   "source": [
    "LHCb data files that are ready for analysis (nTuples) are stored as **TTree** objects within ROOT files.\n",
    "\n",
    "ROOT files are compressed binary files that in general need a ROOT installation to be read. \n",
    "\n",
    "There are numerous different ways to go about reading and processing these types of datasets. Today, I will cover a few of the methods I use and discuss some pros and cons for each of them.\n",
    "\n",
    "I will be using a small Run 3 simulated sample of $B^0 \\to K^{*0}\\mu^+\\mu^-$ decays.\n"
   ]
  },
  {
   "cell_type": "markdown",
   "id": "f5a1fd92-1662-4551-8001-bd6092f9c13a",
   "metadata": {},
   "source": [
    "## The classic way with C++"
   ]
  },
  {
   "cell_type": "markdown",
   "id": "2d2bb6d2-0a1a-498b-9b6e-69bdf7c10b86",
   "metadata": {},
   "source": [
    "The traditional way to process datasets in the form of TTrees is using the ROOT library directly in C++.\n",
    "\n",
    "This requires that a ROOT installation is available on your system. On most remote systems we work on, e.g. lxplus, nectar, etc., ROOT is available via CVMFS. Otherwise, you can install it locally.\n",
    "\n",
    "For this tutorial, I have installed ROOT using conda:\n",
    "```\n",
    "conda create -c conda-forge --name root_conda root python=3.8\n",
    "conda activate root_conda\n",
    "```\n",
    "\n",
    "Using ROOT in C++ directly is generally the fastest approach, but it can be quite challenging to learn, especially if you are unfamiliar with C++.\n",
    "\n",
    "Typically for a C++ project, you would write all of your data processing functions in a set of header/source files and executables and compile it all together before running anything. \n",
    "\n",
    "But ROOT actually allows you to use C++ interactively, including within this (nominally python based) Jupyter notebook.\n",
    "\n",
    "Note: **Working interactively is not a recommended or sustainable approach for real physics analyses, this is just for illustration purposes.**"
   ]
  },
  {
   "cell_type": "code",
   "execution_count": 1,
   "id": "9a68f363-1410-4118-974c-05920d7d00d7",
   "metadata": {},
   "outputs": [],
   "source": [
    "import ROOT"
   ]
  },
  {
   "cell_type": "code",
   "execution_count": 2,
   "id": "b439c2c4-2dcf-4d00-a80b-740a12608e4a",
   "metadata": {},
   "outputs": [],
   "source": [
    "%jsroot on"
   ]
  },
  {
   "cell_type": "markdown",
   "id": "1468b36a-3e2f-4a42-bd64-74011106d152",
   "metadata": {},
   "source": [
    "ROOT lets you write C++ code in a python based Jupyter notebook.\n",
    "\n",
    "Just add the `%%cpp` magic.\n",
    "\n",
    "The only issue with this seems to be that syntax highlighting doesn't work properly (at least not for me).\n",
    "\n",
    "Note: you can also run a C++ kernel for the notebook and then mix in python code using the `%%python` magic\n",
    "\n",
    "Below is an example of how to read and display the contents of a dataset using ROOT:"
   ]
  },
  {
   "cell_type": "code",
   "execution_count": 3,
   "id": "3045007d-0ddb-4dc1-b9e3-28c985a0e56c",
   "metadata": {
    "scrolled": true
   },
   "outputs": [],
   "source": [
    "%%cpp\n",
    "// Open the file\n",
    "TFile* inFile = TFile::Open(\"B02KstMuMu_w40_42_magup.root\");\n",
    "\n",
    "// Extract the TTree object\n",
    "TTree* tree = (TTree*)inFile->Get(\"DecayTree\");\n",
    "\n",
    "// Uncomment below to display the contents of the tree\n",
    "// tree->Print();"
   ]
  },
  {
   "cell_type": "markdown",
   "id": "dbaab4d0-6c3c-447f-adc3-bf062919b335",
   "metadata": {},
   "source": [
    "You can even access the variables, functions, etc. that you define in the C++ cells using python.\n",
    "\n",
    "For example, the TTree we defined as `tree` above can be accesssed in python as `ROOT.tree`."
   ]
  },
  {
   "cell_type": "code",
   "execution_count": 4,
   "id": "6076dd5a-4455-47ce-b7df-b3cc75657efc",
   "metadata": {},
   "outputs": [
    {
     "name": "stdout",
     "output_type": "stream",
     "text": [
      "<class cppyy.gbl.TTree at 0x558b90bc67c0>\n",
      "128208 entries in the tree.\n"
     ]
    }
   ],
   "source": [
    "tree = ROOT.tree\n",
    "print(type(tree))\n",
    "print(tree.GetEntries(), \"entries in the tree.\")"
   ]
  },
  {
   "cell_type": "markdown",
   "id": "9ac2e850-bd10-46b1-863a-3016e94787fe",
   "metadata": {},
   "source": [
    "In the above, we open the ROOT file, then extract the TTree object from the file.\n",
    "\n",
    "We can also very easily make plots of any branch in the tree."
   ]
  },
  {
   "cell_type": "code",
   "execution_count": 5,
   "id": "4a9f1c76-efaf-4fe0-8fc1-500c4fef09c1",
   "metadata": {
    "scrolled": true
   },
   "outputs": [
    {
     "data": {
      "text/html": [
       "\n",
       "\n",
       "<div id=\"root_plot_1753429425132\" style=\"width: 400px; height: 300px; position: relative\">\n",
       "</div>\n",
       "\n",
       "<script>\n",
       "\n",
       "function display_root_plot_1753429425132(Core) {\n",
       "   let obj = Core.parse({\"_typename\":\"TCanvasWebSnapshot\",\"fUniqueID\":0,\"fBits\":0,\"fObjectID\":\"\",\"fOption\":\"\",\"fKind\":3,\"fSnapshot\":{\"_typename\":\"TCanvas\",\"fUniqueID\":0,\"fBits\":3342344,\"fLineColor\":1,\"fLineStyle\":1,\"fLineWidth\":1,\"fFillColor\":0,\"fFillStyle\":1001,\"fLeftMargin\":0.1,\"fRightMargin\":0.1,\"fBottomMargin\":0.1,\"fTopMargin\":0.1,\"fXfile\":2,\"fYfile\":2,\"fAfile\":1,\"fXstat\":0.99,\"fYstat\":0.99,\"fAstat\":2,\"fFrameFillColor\":0,\"fFrameLineColor\":1,\"fFrameFillStyle\":1001,\"fFrameLineStyle\":1,\"fFrameLineWidth\":1,\"fFrameBorderSize\":1,\"fFrameBorderMode\":0,\"fX1\":4512.49997857958,\"fY1\":-6547.01298779047,\"fX2\":7387.50002142042,\"fY2\":58923.1129877905,\"fXtoAbsPixelk\":-621.547813874742,\"fXtoPixelk\":-621.547813874742,\"fXtoPixel\":0.13773912838231,\"fYtoAbsPixelk\":244.799998378754,\"fYtoPixelk\":244.799998378754,\"fYtoPixel\":-0.00415456662022387,\"fUtoAbsPixelk\":0,\"fUtoPixelk\":0,\"fUtoPixel\":396,\"fVtoAbsPixelk\":272,\"fVtoPixelk\":272,\"fVtoPixel\":-272,\"fAbsPixeltoXk\":4512.49997857958,\"fPixeltoXk\":4512.49997857958,\"fPixeltoX\":7.26010111828495,\"fAbsPixeltoYk\":58923.1129877905,\"fPixeltoYk\":-6547.01298779047,\"fPixeltoY\":-240.698992557283,\"fXlowNDC\":0,\"fYlowNDC\":0,\"fXUpNDC\":1,\"fYUpNDC\":1,\"fWNDC\":1,\"fHNDC\":1,\"fAbsXlowNDC\":0,\"fAbsYlowNDC\":0,\"fAbsWNDC\":1,\"fAbsHNDC\":1,\"fUxmin\":4800,\"fUymin\":0,\"fUxmax\":7100,\"fUymax\":52376.1,\"fTheta\":30,\"fPhi\":30,\"fAspectRatio\":0,\"fNumber\":0,\"fTickx\":0,\"fTicky\":0,\"fLogx\":0,\"fLogy\":0,\"fLogz\":0,\"fPadPaint\":0,\"fCrosshair\":0,\"fCrosshairPos\":0,\"fBorderSize\":2,\"fBorderMode\":0,\"fModified\":false,\"fGridx\":false,\"fGridy\":false,\"fAbsCoord\":false,\"fEditable\":true,\"fFixedAspectRatio\":false,\"fPrimitives\":{\"_typename\":\"TList\",\"name\":\"TList\",\"arr\":[],\"opt\":[]},\"fExecs\":null,\"fName\":\"c\",\"fTitle\":\"c\",\"fNumPaletteColor\":0,\"fNextPaletteColor\":0,\"fDISPLAY\":\"$DISPLAY\",\"fDoubleBuffer\":0,\"fRetained\":true,\"fXsizeUser\":0,\"fYsizeUser\":0,\"fXsizeReal\":20,\"fYsizeReal\":15,\"fWindowTopX\":0,\"fWindowTopY\":0,\"fWindowWidth\":0,\"fWindowHeight\":0,\"fCw\":396,\"fCh\":272,\"fCatt\":{\"_typename\":\"TAttCanvas\",\"fXBetween\":2,\"fYBetween\":2,\"fTitleFromTop\":1.2,\"fXdate\":0.2,\"fYdate\":0.3,\"fAdate\":1},\"kMoveOpaque\":true,\"kResizeOpaque\":true,\"fHighLightColor\":2,\"fBatch\":true,\"kShowEventStatus\":false,\"kAutoExec\":true,\"kMenuBar\":true},\"fActive\":false,\"fReadOnly\":true,\"fWithoutPrimitives\":false,\"fHasExecs\":false,\"fPrimitives\":[{\"_typename\":\"TWebSnapshot\",\"fUniqueID\":0,\"fBits\":0,\"fObjectID\":\"\",\"fOption\":\"\",\"fKind\":4,\"fSnapshot\":{\"_typename\":\"TWebPainting\",\"fUniqueID\":0,\"fBits\":0,\"fOper\":\"0:255,255,255;1:0,0,0;2:255,0,0;3:0,255,0;4:0,0,255;5:255,255,0;6:255,0,255;7:0,255,255;8:89,211,84;9:89,84,216;10:254,254,254;11:192,182,172;12:76,76,76;13:102,102,102;14:127,127,127;15:153,153,153;16:178,178,178;17:204,204,204;18:229,229,229;19:242,242,242;20:204,198,170;21:204,198,170;22:193,191,168;23:186,181,163;24:178,165,150;25:183,163,155;26:173,153,140;27:155,142,130;28:135,102,86;29:175,206,198;30:132,193,163;31:137,168,160;32:130,158,140;33:173,188,198;34:122,142,153;35:117,137,145;36:104,130,150;37:109,122,132;38:124,153,209;39:127,127,155;40:170,165,191;41:211,206,135;42:221,186,135;43:188,158,130;44:198,153,124;45:191,130,119;46:206,94,96;47:170,142,147;48:165,119,122;49:147,104,112;50:211,89,84;51:146,0,255;52:122,0,255;53:98,0,255;54:74,0,255;55:51,0,255;56:27,0,255;57:3,0,255;58:0,20,255;59:0,44,255;60:0,68,255;61:0,91,255;62:0,115,255;63:0,139,255;64:0,163,255;65:0,187,255;66:0,210,255;67:0,234,255;68:0,255,251;69:0,255,227;70:0,255,204;71:0,255,180;72:0,255,156;73:0,255,132;74:0,255,108;75:0,255,85;76:0,255,61;77:0,255,37;78:0,255,13;79:10,255,0;80:34,255,0;81:57,255,0;82:81,255,0;83:105,255,0;84:129,255,0;85:153,255,0;86:176,255,0;87:200,255,0;88:224,255,0;89:248,255,0;90:255,238,0;91:255,214,0;92:255,190,0;93:255,166,0;94:255,142,0;95:255,119,0;96:255,95,0;97:255,71,0;98:255,47,0;99:255,23,0;100:111,45,168;101:165,42,42;102:178,190,181;103:87,144,252;104:248,156,32;105:228,37,54;106:150,74,139;107:156,156,161;108:122,33,221;109:24,69,251;110:255,94,2;111:201,31,22;112:200,73,169;113:173,173,125;114:134,200,221;115:87,141,255;116:101,99,100;117:63,144,218;118:255,169,14;119:189,31,1;120:148,164,162;121:131,45,182;122:169,107,89;123:231,99,0;124:185,172,112;125:113,117,129;126:146,218,221;127:178,178,178;201:91,91,91;202:122,122,122;203:183,183,183;204:214,214,214;205:137,15,15;206:183,20,20;207:234,71,71;208:239,117,117;209:15,137,15;210:20,183,20;211:71,234,71;212:117,239,117;213:15,15,137;214:20,20,183;215:71,71,234;216:117,117,239;217:137,137,15;218:183,183,20;219:234,234,71;220:239,239,117;221:137,15,137;222:183,20,183;223:234,71,234;224:239,117,239;225:15,137,137;226:20,183,183;227:71,234,234;228:117,239,239;390:255,255,204;391:255,255,153;392:204,204,153;393:255,255,102;394:204,204,102;395:153,153,102;396:255,255,51;397:204,204,51;398:153,153,51;399:102,102,51;400:255,255,0;401:204,204,0;402:153,153,0;403:102,102,0;404:51,51,0;406:204,255,204;407:153,255,153;408:153,204,153;409:102,255,102;410:102,204,102;411:102,153,102;412:51,255,51;413:51,204,51;414:51,153,51;415:51,102,51;416:0,255,0;417:0,204,0;418:0,153,0;419:0,102,0;420:0,51,0;422:204,255,255;423:153,255,255;424:153,204,204;425:102,255,255;426:102,204,204;427:102,153,153;428:51,255,255;429:51,204,204;430:51,153,153;431:51,102,102;432:0,255,255;433:0,204,204;434:0,153,153;435:0,102,102;436:0,51,51;590:204,204,255;591:153,153,255;592:153,153,204;593:102,102,255;594:102,102,204;595:102,102,153;596:51,51,255;597:51,51,204;598:51,51,153;599:51,51,102;600:0,0,255;601:0,0,204;602:0,0,153;603:0,0,102;604:0,0,51;606:255,204,255;607:255,153,255;608:204,153,204;609:255,102,255;610:204,102,204;611:153,102,153;612:255,51,255;613:204,51,204;614:153,51,153;615:102,51,102;616:255,0,255;617:204,0,204;618:153,0,153;619:102,0,102;620:51,0,51;622:255,204,204;623:255,153,153;624:204,153,153;625:255,102,102;626:204,102,102;627:153,102,102;628:255,51,51;629:204,51,51;630:153,51,51;631:102,51,51;632:255,0,0;633:204,0,0;634:153,0,0;635:102,0,0;636:51,0,0;791:255,204,153;792:204,153,102;793:153,102,51;794:153,102,0;795:204,153,51;796:255,204,102;797:255,153,0;798:255,204,51;799:204,153,0;800:255,204,0;801:255,153,51;802:204,102,0;803:102,51,0;804:153,51,0;805:204,102,51;806:255,153,102;807:255,102,0;808:255,102,51;809:204,51,0;810:255,51,0;811:153,255,51;812:102,204,0;813:51,102,0;814:51,153,0;815:102,204,51;816:153,255,102;817:102,255,0;818:102,255,51;819:51,204,0;820:51,255,0;821:204,255,153;822:153,204,102;823:102,153,51;824:102,153,0;825:153,204,51;826:204,255,102;827:153,255,0;828:204,255,51;829:153,204,0;830:204,255,0;831:153,255,204;832:102,204,153;833:51,153,102;834:0,153,102;835:51,204,153;836:102,255,204;837:0,255,102;838:51,255,204;839:0,204,153;840:0,255,204;841:51,255,153;842:0,204,102;843:0,102,51;844:0,153,51;845:51,204,102;846:102,255,153;847:0,255,153;848:51,255,102;849:0,204,51;850:0,255,51;851:153,204,255;852:102,153,204;853:51,102,153;854:0,51,153;855:51,102,204;856:102,153,255;857:0,102,255;858:51,102,255;859:0,51,204;860:0,51,255;861:51,153,255;862:0,102,204;863:0,51,102;864:0,102,153;865:51,153,204;866:102,204,255;867:0,153,255;868:51,204,255;869:0,153,204;870:0,204,255;871:204,153,255;872:153,102,204;873:102,51,153;874:102,0,153;875:153,51,204;876:204,102,255;877:153,0,255;878:204,51,255;879:153,0,204;880:204,0,255;881:153,51,255;882:102,0,204;883:51,0,102;884:51,0,153;885:102,51,204;886:153,102,255;887:102,0,255;888:102,51,255;889:51,0,204;890:51,0,255;891:255,51,153;892:204,0,102;893:102,0,51;894:153,0,51;895:204,51,102;896:255,102,153;897:255,0,102;898:255,51,102;899:204,0,51;900:255,0,51;901:255,153,204;902:204,102,153;903:153,51,102;904:153,0,102;905:204,51,153;906:255,102,204;907:255,0,153;908:204,0,153;909:255,51,204;910:255,0,153;920:204,204,204;921:153,153,153;922:102,102,102;923:51,51,51;924:53,42,134;925:51,44,137;926:50,45,140;927:49,47,143;928:48,48,146;929:46,50,148;930:45,51,151;931:44,53,154;932:43,55,157;933:42,56,160;934:40,58,162;935:39,59,165;936:38,61,168;937:37,63,171;938:35,64,174;939:34,66,176;940:33,67,179;941:32,69,182;942:31,71,185;943:29,72,187;944:28,74,190;945:27,75,193;946:26,77,196;947:24,79,199;948:23,80,201;949:22,82,204;950:21,83,207;951:19,85,210;952:18,86,213;953:17,88,215;954:16,90,218;955:15,91,221;956:15,92,221;957:15,94,220;958:15,95,220;959:15,96,220;960:15,97,220;961:15,98,220;962:16,99,219;963:16,100,219;964:16,102,219;965:16,103,219;966:16,104,218;967:16,105,218;968:17,106,218;969:17,107,218;970:17,109,217;971:17,110,217;972:17,111,217;973:17,112,217;974:17,113,216;975:18,114,216;976:18,115,216;977:18,117,216;978:18,118,215;979:18,119,215;980:18,120,215;981:18,121,215;982:19,122,215;983:19,123,214;984:19,125,214;985:19,126,214;986:19,127,214;987:19,128,213;988:19,129,213;989:19,130,213;990:18,131,212;991:18,132,212;992:17,134,211;993:17,135,211;994:16,136,211;995:16,137,210;996:15,138,210;997:15,139,210;998:15,140,209;999:14,141,209;1000:14,142,208;1001:13,143,208;1002:13,145,208;1003:12,146,207;1004:12,147,207;1005:12,148,207;1006:11,149,206;1007:11,150,206;1008:10,151,205;1009:10,152,205;1010:9,153,205;1011:9,154,204;1012:8,155,204;1013:8,157,204;1014:8,158,203;1015:7,159,203;1016:7,160,202;1017:6,161,202;1018:6,162,202;1019:5,163,201;1020:7,164,200;1021:8,164,199;1022:9,165,198;1023:10,166,197;1024:12,166,195;1025:13,167,194;1026:14,167,193;1027:15,168,192;1028:17,169,191;1029:18,169,189;1030:19,170,188;1031:20,170,187;1032:22,171,186;1033:23,172,185;1034:24,172,184;1035:25,173,182;1036:27,173,181;1037:28,174,180;1038:29,175,179;1039:30,175,178;1040:32,176,176;1041:33,176,175;1042:34,177,174;1043:35,178,173;1044:37,178,172;1045:38,179,170;1046:39,180,169;1047:40,180,168;1048:42,181,167;1049:43,181,166;1050:44,182,165;1051:45,183,163;1052:48,183,162;1053:51,183,161;1054:54,183,159;1055:57,184,158;1056:59,184,156;1057:62,184,155;1058:65,184,154;1059:68,185,152;1060:71,185,151;1061:73,185,149;1062:76,185,148;1063:79,186,146;1064:82,186,145;1065:84,186,144;1066:87,186,142;1067:90,187,141;1068:93,187,139;1069:96,187,138;1070:98,187,137;1071:101,188,135;1072:104,188,134;1073:107,188,132;1074:110,188,131;1075:112,189,130;1076:115,189,128;1077:118,189,127;1078:121,189,125;1079:124,190,124;1080:126,190,123;1081:129,190,121;1082:132,190,120;1083:135,191,118;1084:137,190,117;1085:139,190,117;1086:142,190,116;1087:144,190,115;1088:146,190,114;1089:148,190,113;1090:151,190,112;1091:153,190,111;1092:155,189,110;1093:158,189,109;1094:160,189,108;1095:162,189,107;1096:165,189,106;1097:167,189,105;1098:169,189,104;1099:171,188,104;1100:174,188,103;1101:176,188,102;1102:178,188,101;1103:181,188,100;1104:183,188,99;1105:185,188,98;1106:188,188,97;1107:190,187,96;1108:192,187,95;1109:194,187,94;1110:197,187,93;1111:199,187,92;1112:201,187,92;1113:204,187,91;1114:206,186,90;1115:208,186,89;1116:210,187,88;1117:211,187,86;1118:212,188,85;1119:214,188,84;1120:215,188,83;1121:217,189,81;1122:218,189,80;1123:220,190,79;1124:221,190,78;1125:222,191,77;1126:224,191,75;1127:225,191,74;1128:227,192,73;1129:228,192,72;1130:229,193,70;1131:231,193,69;1132:232,194,68;1133:234,194,67;1134:235,194,66;1135:236,195,64;1136:238,195,63;1137:239,196,62;1138:241,196,61;1139:242,197,59;1140:244,197,58;1141:245,197,57;1142:246,198,56;1143:248,198,55;1144:249,199,53;1145:251,199,52;1146:252,200,51;1147:253,200,50;1148:253,202,49;1149:253,203,47;1150:253,205,46;1151:253,206,45;1152:253,208,44;1153:252,209,43;1154:252,211,42;1155:252,213,41;1156:252,214,39;1157:252,216,38;1158:252,217,37;1159:252,219,36;1160:251,220,35;1161:251,222,34;1162:251,224,33;1163:251,225,31;1164:251,227,30;1165:251,228,29;1166:250,230,28;1167:250,231,27;1168:250,233,26;1169:250,235,25;1170:250,236,23;1171:250,238,22;1172:250,239,21;1173:249,241,20;1174:249,242,19;1175:249,244,18;1176:249,246,17;1177:249,247,16;1178:249,249,14\",\"fBuf\":{\"$arr\":\"Float32\",\"len\":255,\"v\":[924,925,926,927,928,929,930,931,932,933,934,935,936,937,938,939,940,941,942,943,944,945,946,947,948,949,950,951,952,953,954,955,956,957,958,959,960,961,962,963,964,965,966,967,968,969,970,971,972,973,974,975,976,977,978,979,980,981,982,983,984,985,986,987,988,989,990,991,992,993,994,995,996,997,998,999,1000,1001,1002,1003,1004,1005,1006,1007,1008,1009,1010,1011,1012,1013,1014,1015,1016,1017,1018,1019,1020,1021,1022,1023,1024,1025,1026,1027,1028,1029,1030,1031,1032,1033,1034,1035,1036,1037,1038,1039,1040,1041,1042,1043,1044,1045,1046,1047,1048,1049,1050,1051,1052,1053,1054,1055,1056,1057,1058,1059,1060,1061,1062,1063,1064,1065,1066,1067,1068,1069,1070,1071,1072,1073,1074,1075,1076,1077,1078,1079,1080,1081,1082,1083,1084,1085,1086,1087,1088,1089,1090,1091,1092,1093,1094,1095,1096,1097,1098,1099,1100,1101,1102,1103,1104,1105,1106,1107,1108,1109,1110,1111,1112,1113,1114,1115,1116,1117,1118,1119,1120,1121,1122,1123,1124,1125,1126,1127,1128,1129,1130,1131,1132,1133,1134,1135,1136,1137,1138,1139,1140,1141,1142,1143,1144,1145,1146,1147,1148,1149,1150,1151,1152,1153,1154,1155,1156,1157,1158,1159,1160,1161,1162,1163,1164,1165,1166,1167,1168,1169,1170,1171,1172,1173,1174,1175,1176,1177,1178]}}},{\"_typename\":\"TWebSnapshot\",\"fUniqueID\":0,\"fBits\":0,\"fObjectID\":\"\",\"fOption\":\"\",\"fKind\":5,\"fSnapshot\":{\"_typename\":\"TStyle\",\"fUniqueID\":0,\"fBits\":0,\"fName\":\"Modern\",\"fTitle\":\"Modern Style\",\"fLineColor\":1,\"fLineStyle\":1,\"fLineWidth\":1,\"fFillColor\":19,\"fFillStyle\":1001,\"fMarkerColor\":1,\"fMarkerStyle\":1,\"fMarkerSize\":1,\"fTextAngle\":0,\"fTextSize\":0.05,\"fTextAlign\":11,\"fTextColor\":1,\"fTextFont\":62,\"fXaxis\":{\"_typename\":\"TAttAxis\",\"fNdivisions\":510,\"fAxisColor\":1,\"fLabelColor\":1,\"fLabelFont\":42,\"fLabelOffset\":0.005,\"fLabelSize\":0.035,\"fTickLength\":0.03,\"fTitleOffset\":1,\"fTitleSize\":0.035,\"fTitleColor\":1,\"fTitleFont\":42},\"fYaxis\":{\"_typename\":\"TAttAxis\",\"fNdivisions\":510,\"fAxisColor\":1,\"fLabelColor\":1,\"fLabelFont\":42,\"fLabelOffset\":0.005,\"fLabelSize\":0.035,\"fTickLength\":0.03,\"fTitleOffset\":0,\"fTitleSize\":0.035,\"fTitleColor\":1,\"fTitleFont\":42},\"fZaxis\":{\"_typename\":\"TAttAxis\",\"fNdivisions\":510,\"fAxisColor\":1,\"fLabelColor\":1,\"fLabelFont\":42,\"fLabelOffset\":0.005,\"fLabelSize\":0.035,\"fTickLength\":0.03,\"fTitleOffset\":1,\"fTitleSize\":0.035,\"fTitleColor\":1,\"fTitleFont\":42},\"fBarWidth\":1,\"fBarOffset\":0,\"fColorModelPS\":0,\"fDrawBorder\":0,\"fOptLogx\":0,\"fOptLogy\":0,\"fOptLogz\":0,\"fOptDate\":0,\"fOptStat\":1111,\"fOptTitle\":1,\"fOptFile\":0,\"fOptFit\":0,\"fShowEventStatus\":0,\"fShowEditor\":0,\"fShowToolBar\":0,\"fNumberContours\":20,\"fAttDate\":{\"_typename\":\"TAttText\",\"fTextAngle\":0,\"fTextSize\":0.025,\"fTextAlign\":11,\"fTextColor\":1,\"fTextFont\":62},\"fDateX\":0.01,\"fDateY\":0.01,\"fEndErrorSize\":2,\"fErrorX\":0.5,\"fFuncColor\":2,\"fFuncStyle\":1,\"fFuncWidth\":2,\"fGridColor\":0,\"fGridStyle\":3,\"fGridWidth\":1,\"fLegendBorderSize\":1,\"fLegendFillColor\":0,\"fLegendFillStyle\":1001,\"fLegendFont\":42,\"fLegendTextSize\":0,\"fHatchesLineWidth\":1,\"fHatchesSpacing\":1,\"fFrameFillColor\":0,\"fFrameLineColor\":1,\"fFrameFillStyle\":1001,\"fFrameLineStyle\":1,\"fFrameLineWidth\":1,\"fFrameBorderSize\":1,\"fFrameBorderMode\":0,\"fHistFillColor\":0,\"fHistLineColor\":602,\"fHistFillStyle\":1001,\"fHistLineStyle\":1,\"fHistLineWidth\":1,\"fHistMinimumZero\":false,\"fHistTopMargin\":0.05,\"fCanvasPreferGL\":false,\"fCanvasColor\":0,\"fCanvasBorderSize\":2,\"fCanvasBorderMode\":0,\"fCanvasDefH\":500,\"fCanvasDefW\":700,\"fCanvasDefX\":10,\"fCanvasDefY\":10,\"fPadColor\":0,\"fPadBorderSize\":2,\"fPadBorderMode\":0,\"fPadBottomMargin\":0.1,\"fPadTopMargin\":0.1,\"fPadLeftMargin\":0.1,\"fPadRightMargin\":0.1,\"fPadGridX\":false,\"fPadGridY\":false,\"fPadTickX\":0,\"fPadTickY\":0,\"fPaperSizeX\":20,\"fPaperSizeY\":26,\"fScreenFactor\":1,\"fStatColor\":0,\"fStatTextColor\":1,\"fStatBorderSize\":1,\"fStatFont\":42,\"fStatFontSize\":0,\"fStatStyle\":1001,\"fStatFormat\":\"6.4g\",\"fStatX\":0.98,\"fStatY\":0.935,\"fStatW\":0.2,\"fStatH\":0.16,\"fStripDecimals\":true,\"fTitleAlign\":23,\"fTitleColor\":0,\"fTitleTextColor\":1,\"fTitleBorderSize\":0,\"fTitleFont\":42,\"fTitleFontSize\":0.05,\"fTitleStyle\":0,\"fTitleX\":0.5,\"fTitleY\":0.995,\"fTitleW\":0,\"fTitleH\":0,\"fLegoInnerR\":0.5,\"fLineStyles\":[\"\",\"  \",\" 12 12\",\" 4 8\",\" 12 16 4 16\",\" 20 12 4 12\",\" 20 12 4 12 4 12 4 12\",\" 20 20\",\" 20 12 4 12 4 12\",\" 80 20\",\" 80 40 4 40\",\"  \",\"  \",\"  \",\"  \",\"  \",\"  \",\"  \",\"  \",\"  \",\"  \",\"  \",\"  \",\"  \",\"  \",\"  \",\"  \",\"  \",\"  \",\"  \"],\"fHeaderPS\":\"\",\"fTitlePS\":\"\",\"fFitFormat\":\"5.4g\",\"fPaintTextFormat\":\"g\",\"fLineScalePS\":3,\"fJoinLinePS\":0,\"fCapLinePS\":0,\"fTimeOffset\":788918400,\"fImageScaling\":1,\"fCandleWhiskerRange\":1,\"fCandleBoxRange\":0.5,\"fCandleScaled\":false,\"fViolinScaled\":true,\"fXAxisExpXOffset\":0,\"fXAxisExpYOffset\":0,\"fYAxisExpXOffset\":0,\"fYAxisExpYOffset\":0,\"fAxisMaxDigits\":5,\"fOrthoCamera\":false}},{\"_typename\":\"TWebSnapshot\",\"fUniqueID\":0,\"fBits\":0,\"fObjectID\":\"\",\"fOption\":\"\",\"fKind\":1,\"fSnapshot\":{\"_typename\":\"TFrame\",\"fUniqueID\":0,\"fBits\":8,\"fLineColor\":1,\"fLineStyle\":1,\"fLineWidth\":1,\"fFillColor\":0,\"fFillStyle\":1001,\"fX1\":4800,\"fY1\":0,\"fX2\":7100,\"fY2\":52376.1,\"fBorderSize\":1,\"fBorderMode\":0}},{\"_typename\":\"TWebSnapshot\",\"fUniqueID\":0,\"fBits\":0,\"fObjectID\":\"\",\"fOption\":\"\",\"fKind\":1,\"fSnapshot\":{\"_typename\":\"TH1D\",\"fUniqueID\":0,\"fBits\":8,\"fName\":\"hBM\",\"fTitle\":\"\",\"fLineColor\":602,\"fLineStyle\":1,\"fLineWidth\":1,\"fFillColor\":0,\"fFillStyle\":1001,\"fMarkerColor\":1,\"fMarkerStyle\":1,\"fMarkerSize\":1,\"fNcells\":102,\"fXaxis\":{\"_typename\":\"TAxis\",\"fUniqueID\":0,\"fBits\":0,\"fName\":\"xaxis\",\"fTitle\":\"#it{m(B)} [GeV\\/#it{c}^{2}]\",\"fNdivisions\":510,\"fAxisColor\":1,\"fLabelColor\":1,\"fLabelFont\":42,\"fLabelOffset\":0.005,\"fLabelSize\":0.035,\"fTickLength\":0.03,\"fTitleOffset\":1,\"fTitleSize\":0.035,\"fTitleColor\":1,\"fTitleFont\":42,\"fNbins\":100,\"fXmin\":4800,\"fXmax\":7100,\"fXbins\":[],\"fFirst\":0,\"fLast\":0,\"fBits2\":0,\"fTimeDisplay\":false,\"fTimeFormat\":\"\",\"fLabels\":null,\"fModLabs\":null},\"fYaxis\":{\"_typename\":\"TAxis\",\"fUniqueID\":0,\"fBits\":0,\"fName\":\"yaxis\",\"fTitle\":\"Events\",\"fNdivisions\":510,\"fAxisColor\":1,\"fLabelColor\":1,\"fLabelFont\":42,\"fLabelOffset\":0.005,\"fLabelSize\":0.035,\"fTickLength\":0.03,\"fTitleOffset\":0,\"fTitleSize\":0.035,\"fTitleColor\":1,\"fTitleFont\":42,\"fNbins\":1,\"fXmin\":0,\"fXmax\":1,\"fXbins\":[],\"fFirst\":0,\"fLast\":0,\"fBits2\":0,\"fTimeDisplay\":false,\"fTimeFormat\":\"\",\"fLabels\":null,\"fModLabs\":null},\"fZaxis\":{\"_typename\":\"TAxis\",\"fUniqueID\":0,\"fBits\":0,\"fName\":\"zaxis\",\"fTitle\":\"\",\"fNdivisions\":510,\"fAxisColor\":1,\"fLabelColor\":1,\"fLabelFont\":42,\"fLabelOffset\":0.005,\"fLabelSize\":0.035,\"fTickLength\":0.03,\"fTitleOffset\":1,\"fTitleSize\":0.035,\"fTitleColor\":1,\"fTitleFont\":42,\"fNbins\":1,\"fXmin\":0,\"fXmax\":1,\"fXbins\":[],\"fFirst\":0,\"fLast\":0,\"fBits2\":0,\"fTimeDisplay\":false,\"fTimeFormat\":\"\",\"fLabels\":null,\"fModLabs\":null},\"fBarOffset\":0,\"fBarWidth\":1000,\"fEntries\":128208,\"fTsumw\":126170,\"fTsumw2\":126170,\"fTsumwx\":670313891.164063,\"fTsumwx2\":3567158663631.87,\"fMaximum\":-1111,\"fMinimum\":-1111,\"fNormFactor\":0,\"fContour\":[],\"fSumw2\":[],\"fOption\":\"\",\"fFunctions\":{\"_typename\":\"TList\",\"name\":\"TList\",\"arr\":[{\"_typename\":\"TPaveStats\",\"fUniqueID\":0,\"fBits\":9,\"fLineColor\":1,\"fLineStyle\":1,\"fLineWidth\":1,\"fFillColor\":0,\"fFillStyle\":1001,\"fX1\":6755.00005826354,\"fY1\":44192.3350335171,\"fX2\":7330.00007539988,\"fY2\":54667.5549554707,\"fX1NDC\":0.780000016093254,\"fY1NDC\":0.775000005960464,\"fX2NDC\":0.980000019073486,\"fY2NDC\":0.935000002384186,\"fBorderSize\":1,\"fInit\":1,\"fShadowColor\":1,\"fCornerRadius\":0,\"fOption\":\"brNDC\",\"fName\":\"stats\",\"fTextAngle\":0,\"fTextSize\":0,\"fTextAlign\":12,\"fTextColor\":1,\"fTextFont\":42,\"fLabel\":\"\",\"fLongest\":18,\"fMargin\":0.05,\"fLines\":{\"_typename\":\"TList\",\"name\":\"TList\",\"arr\":[{\"_typename\":\"TLatex\",\"fUniqueID\":0,\"fBits\":0,\"fName\":\"\",\"fTitle\":\"hBM\",\"fTextAngle\":0,\"fTextSize\":0.0368,\"fTextAlign\":0,\"fTextColor\":0,\"fTextFont\":0,\"fX\":0,\"fY\":0,\"fLineColor\":1,\"fLineStyle\":1,\"fLineWidth\":2,\"fLimitFactorSize\":3,\"fOriginSize\":0.0368000008165836},{\"_typename\":\"TLatex\",\"fUniqueID\":0,\"fBits\":0,\"fName\":\"\",\"fTitle\":\"Entries = 128208 \",\"fTextAngle\":0,\"fTextSize\":0,\"fTextAlign\":0,\"fTextColor\":0,\"fTextFont\":0,\"fX\":0,\"fY\":0,\"fLineColor\":1,\"fLineStyle\":1,\"fLineWidth\":2,\"fLimitFactorSize\":3,\"fOriginSize\":0.04},{\"_typename\":\"TLatex\",\"fUniqueID\":0,\"fBits\":0,\"fName\":\"\",\"fTitle\":\"Mean  =   5313\",\"fTextAngle\":0,\"fTextSize\":0,\"fTextAlign\":0,\"fTextColor\":0,\"fTextFont\":0,\"fX\":0,\"fY\":0,\"fLineColor\":1,\"fLineStyle\":1,\"fLineWidth\":2,\"fLimitFactorSize\":3,\"fOriginSize\":0.04},{\"_typename\":\"TLatex\",\"fUniqueID\":0,\"fBits\":0,\"fName\":\"\",\"fTitle\":\"Std Dev   =  216.7\",\"fTextAngle\":0,\"fTextSize\":0,\"fTextAlign\":0,\"fTextColor\":0,\"fTextFont\":0,\"fX\":0,\"fY\":0,\"fLineColor\":1,\"fLineStyle\":1,\"fLineWidth\":2,\"fLimitFactorSize\":3,\"fOriginSize\":0.04}],\"opt\":[\"\",\"\",\"\",\"\"]},\"fOptFit\":0,\"fOptStat\":1111,\"fFitFormat\":\"5.4g\",\"fStatFormat\":\"6.4g\",\"fParent\":{\"$ref\":15}}],\"opt\":[\"brNDC\"]},\"fBufferSize\":0,\"fBuffer\":[],\"fBinStatErrOpt\":0,\"fStatOverflows\":2,\"fArray\":{\"$arr\":\"Float64\",\"len\":102,\"v\":[2038,229,245,263,260,324,310,342,344,402,464,523,532,620,678,789,987,1150,1435,2689,12130,49882,35138,4454,669,438,440,417,361,373,342,328,351,291,319,319,296,294,283,288,243,277,225,231,238,193,194,208,205,193,199,156,174,156,148,134,137,151,136,129,128,104,125,99,109,106,100,86,92,102,88,72,64,75,72,71,53,68,56,61,72,55,55,50,44,45,45,37,50,41,46,24,33,37,30,28,21]}}}],\"fScripts\":\"\",\"fHighlightConnect\":false,\"fFixedSize\":false});\n",
       "   Core.settings.HandleKeys = false;\n",
       "   Core.draw(\"root_plot_1753429425132\", obj, \"\");\n",
       "}\n",
       "\n",
       "function script_load_root_plot_1753429425132(src, on_error) {\n",
       "    let script = document.createElement('script');\n",
       "    script.src = src;\n",
       "    script.onload = function() { display_root_plot_1753429425132(JSROOT); };\n",
       "    script.onerror = function() { script.remove(); on_error(); };\n",
       "    document.head.appendChild(script);\n",
       "}\n",
       "\n",
       "if (typeof requirejs !== 'undefined') {\n",
       "\n",
       "    // We are in jupyter notebooks, use require.js which should be configured already\n",
       "    requirejs.config({\n",
       "       paths: { 'JSRootCore' : [ 'build/jsroot', 'https://root.cern/js/7.7.4/build/jsroot', 'https://jsroot.gsi.de/7.7.4/build/jsroot' ] }\n",
       "    })(['JSRootCore'],  function(Core) {\n",
       "       display_root_plot_1753429425132(Core);\n",
       "    });\n",
       "\n",
       "} else if (typeof JSROOT !== 'undefined') {\n",
       "\n",
       "   // JSROOT already loaded, just use it\n",
       "   display_root_plot_1753429425132(JSROOT);\n",
       "\n",
       "} else {\n",
       "\n",
       "    // We are in jupyterlab without require.js, directly loading jsroot\n",
       "    // Jupyterlab might be installed in a different base_url so we need to know it.\n",
       "    try {\n",
       "        var base_url = JSON.parse(document.getElementById('jupyter-config-data').innerHTML).baseUrl;\n",
       "    } catch(_) {\n",
       "        var base_url = '/';\n",
       "    }\n",
       "\n",
       "    // Try loading a local version of requirejs and fallback to cdn if not possible.\n",
       "    script_load_root_plot_1753429425132(base_url + 'static/build/jsroot.js', function(){\n",
       "        console.error('Fail to load JSROOT locally, please check your jupyter_notebook_config.py file');\n",
       "        script_load_root_plot_1753429425132('https://root.cern/js/7.7.4/build/jsroot.js', function(){\n",
       "            document.getElementById(\"root_plot_1753429425132\").innerHTML = \"Failed to load JSROOT\";\n",
       "        });\n",
       "    });\n",
       "}\n",
       "\n",
       "</script>\n"
      ],
      "text/plain": [
       "<IPython.core.display.HTML object>"
      ]
     },
     "metadata": {},
     "output_type": "display_data"
    }
   ],
   "source": [
    "%%cpp\n",
    "TCanvas c(\"c\", \"c\", 400, 300);\n",
    "TH1D hBM(\"hBM\", \";#it{m(B)} [GeV/#it{c}^{2}];Events\", 100, 4800, 7100);\n",
    "tree->Draw(\"B_M>>hBM\");\n",
    "hBM.Draw();\n",
    "c.Draw();"
   ]
  },
  {
   "cell_type": "code",
   "execution_count": 6,
   "id": "02c0d760-08b4-49c5-b375-c746bcf4894e",
   "metadata": {},
   "outputs": [
    {
     "data": {
      "text/html": [
       "\n",
       "\n",
       "<div id=\"root_plot_1753429431732\" style=\"width: 400px; height: 300px; position: relative\">\n",
       "</div>\n",
       "\n",
       "<script>\n",
       "\n",
       "function display_root_plot_1753429431732(Core) {\n",
       "   let obj = Core.parse({\"_typename\":\"TCanvasWebSnapshot\",\"fUniqueID\":0,\"fBits\":0,\"fObjectID\":\"\",\"fOption\":\"\",\"fKind\":3,\"fSnapshot\":{\"_typename\":\"TCanvas\",\"fUniqueID\":0,\"fBits\":3342344,\"fLineColor\":1,\"fLineStyle\":1,\"fLineWidth\":1,\"fFillColor\":0,\"fFillStyle\":1001,\"fLeftMargin\":0.1,\"fRightMargin\":0.1,\"fBottomMargin\":0.1,\"fTopMargin\":0.1,\"fXfile\":2,\"fYfile\":2,\"fAfile\":1,\"fXstat\":0.99,\"fYstat\":0.99,\"fAstat\":2,\"fFrameFillColor\":0,\"fFrameLineColor\":1,\"fFrameFillStyle\":1001,\"fFrameLineStyle\":1,\"fFrameLineWidth\":1,\"fFrameBorderSize\":1,\"fFrameBorderMode\":0,\"fX1\":-3.43750025611372,\"fY1\":-1342.68760003802,\"fX2\":30.9375002561137,\"fY2\":12084.187600038,\"fXtoAbsPixelk\":39.600002360344,\"fXtoPixelk\":39.600002360344,\"fXtoPixel\":11.5199998283386,\"fYtoAbsPixelk\":244.799998378754,\"fYtoPixelk\":244.799998378754,\"fYtoPixel\":-0.0202578780205285,\"fUtoAbsPixelk\":0,\"fUtoPixelk\":0,\"fUtoPixel\":396,\"fVtoAbsPixelk\":272,\"fVtoPixelk\":272,\"fVtoPixel\":-272,\"fAbsPixeltoXk\":-3.43750025611372,\"fPixeltoXk\":-3.43750025611372,\"fPixeltoX\":0.0868055568490592,\"fAbsPixeltoYk\":12084.187600038,\"fPixeltoYk\":-1342.68760003802,\"fPixeltoY\":-49.3635117649854,\"fXlowNDC\":0,\"fYlowNDC\":0,\"fXUpNDC\":1,\"fYUpNDC\":1,\"fWNDC\":1,\"fHNDC\":1,\"fAbsXlowNDC\":0,\"fAbsYlowNDC\":0,\"fAbsWNDC\":1,\"fAbsHNDC\":1,\"fUxmin\":0,\"fUymin\":0,\"fUxmax\":27.5,\"fUymax\":10741.5,\"fTheta\":30,\"fPhi\":30,\"fAspectRatio\":0,\"fNumber\":0,\"fTickx\":0,\"fTicky\":0,\"fLogx\":0,\"fLogy\":0,\"fLogz\":0,\"fPadPaint\":0,\"fCrosshair\":0,\"fCrosshairPos\":0,\"fBorderSize\":2,\"fBorderMode\":0,\"fModified\":false,\"fGridx\":false,\"fGridy\":false,\"fAbsCoord\":false,\"fEditable\":true,\"fFixedAspectRatio\":false,\"fPrimitives\":{\"_typename\":\"TList\",\"name\":\"TList\",\"arr\":[],\"opt\":[]},\"fExecs\":null,\"fName\":\"c1\",\"fTitle\":\"c1\",\"fNumPaletteColor\":0,\"fNextPaletteColor\":0,\"fDISPLAY\":\"$DISPLAY\",\"fDoubleBuffer\":0,\"fRetained\":true,\"fXsizeUser\":0,\"fYsizeUser\":0,\"fXsizeReal\":20,\"fYsizeReal\":15,\"fWindowTopX\":0,\"fWindowTopY\":0,\"fWindowWidth\":0,\"fWindowHeight\":0,\"fCw\":396,\"fCh\":272,\"fCatt\":{\"_typename\":\"TAttCanvas\",\"fXBetween\":2,\"fYBetween\":2,\"fTitleFromTop\":1.2,\"fXdate\":0.2,\"fYdate\":0.3,\"fAdate\":1},\"kMoveOpaque\":true,\"kResizeOpaque\":true,\"fHighLightColor\":2,\"fBatch\":true,\"kShowEventStatus\":false,\"kAutoExec\":true,\"kMenuBar\":true},\"fActive\":false,\"fReadOnly\":true,\"fWithoutPrimitives\":false,\"fHasExecs\":false,\"fPrimitives\":[{\"_typename\":\"TWebSnapshot\",\"fUniqueID\":0,\"fBits\":0,\"fObjectID\":\"\",\"fOption\":\"\",\"fKind\":4,\"fSnapshot\":{\"_typename\":\"TWebPainting\",\"fUniqueID\":0,\"fBits\":0,\"fOper\":\"0:255,255,255;1:0,0,0;2:255,0,0;3:0,255,0;4:0,0,255;5:255,255,0;6:255,0,255;7:0,255,255;8:89,211,84;9:89,84,216;10:254,254,254;11:192,182,172;12:76,76,76;13:102,102,102;14:127,127,127;15:153,153,153;16:178,178,178;17:204,204,204;18:229,229,229;19:242,242,242;20:204,198,170;21:204,198,170;22:193,191,168;23:186,181,163;24:178,165,150;25:183,163,155;26:173,153,140;27:155,142,130;28:135,102,86;29:175,206,198;30:132,193,163;31:137,168,160;32:130,158,140;33:173,188,198;34:122,142,153;35:117,137,145;36:104,130,150;37:109,122,132;38:124,153,209;39:127,127,155;40:170,165,191;41:211,206,135;42:221,186,135;43:188,158,130;44:198,153,124;45:191,130,119;46:206,94,96;47:170,142,147;48:165,119,122;49:147,104,112;50:211,89,84;51:146,0,255;52:122,0,255;53:98,0,255;54:74,0,255;55:51,0,255;56:27,0,255;57:3,0,255;58:0,20,255;59:0,44,255;60:0,68,255;61:0,91,255;62:0,115,255;63:0,139,255;64:0,163,255;65:0,187,255;66:0,210,255;67:0,234,255;68:0,255,251;69:0,255,227;70:0,255,204;71:0,255,180;72:0,255,156;73:0,255,132;74:0,255,108;75:0,255,85;76:0,255,61;77:0,255,37;78:0,255,13;79:10,255,0;80:34,255,0;81:57,255,0;82:81,255,0;83:105,255,0;84:129,255,0;85:153,255,0;86:176,255,0;87:200,255,0;88:224,255,0;89:248,255,0;90:255,238,0;91:255,214,0;92:255,190,0;93:255,166,0;94:255,142,0;95:255,119,0;96:255,95,0;97:255,71,0;98:255,47,0;99:255,23,0;100:111,45,168;101:165,42,42;102:178,190,181;103:87,144,252;104:248,156,32;105:228,37,54;106:150,74,139;107:156,156,161;108:122,33,221;109:24,69,251;110:255,94,2;111:201,31,22;112:200,73,169;113:173,173,125;114:134,200,221;115:87,141,255;116:101,99,100;117:63,144,218;118:255,169,14;119:189,31,1;120:148,164,162;121:131,45,182;122:169,107,89;123:231,99,0;124:185,172,112;125:113,117,129;126:146,218,221;127:178,178,178;201:91,91,91;202:122,122,122;203:183,183,183;204:214,214,214;205:137,15,15;206:183,20,20;207:234,71,71;208:239,117,117;209:15,137,15;210:20,183,20;211:71,234,71;212:117,239,117;213:15,15,137;214:20,20,183;215:71,71,234;216:117,117,239;217:137,137,15;218:183,183,20;219:234,234,71;220:239,239,117;221:137,15,137;222:183,20,183;223:234,71,234;224:239,117,239;225:15,137,137;226:20,183,183;227:71,234,234;228:117,239,239;390:255,255,204;391:255,255,153;392:204,204,153;393:255,255,102;394:204,204,102;395:153,153,102;396:255,255,51;397:204,204,51;398:153,153,51;399:102,102,51;400:255,255,0;401:204,204,0;402:153,153,0;403:102,102,0;404:51,51,0;406:204,255,204;407:153,255,153;408:153,204,153;409:102,255,102;410:102,204,102;411:102,153,102;412:51,255,51;413:51,204,51;414:51,153,51;415:51,102,51;416:0,255,0;417:0,204,0;418:0,153,0;419:0,102,0;420:0,51,0;422:204,255,255;423:153,255,255;424:153,204,204;425:102,255,255;426:102,204,204;427:102,153,153;428:51,255,255;429:51,204,204;430:51,153,153;431:51,102,102;432:0,255,255;433:0,204,204;434:0,153,153;435:0,102,102;436:0,51,51;590:204,204,255;591:153,153,255;592:153,153,204;593:102,102,255;594:102,102,204;595:102,102,153;596:51,51,255;597:51,51,204;598:51,51,153;599:51,51,102;600:0,0,255;601:0,0,204;602:0,0,153;603:0,0,102;604:0,0,51;606:255,204,255;607:255,153,255;608:204,153,204;609:255,102,255;610:204,102,204;611:153,102,153;612:255,51,255;613:204,51,204;614:153,51,153;615:102,51,102;616:255,0,255;617:204,0,204;618:153,0,153;619:102,0,102;620:51,0,51;622:255,204,204;623:255,153,153;624:204,153,153;625:255,102,102;626:204,102,102;627:153,102,102;628:255,51,51;629:204,51,51;630:153,51,51;631:102,51,51;632:255,0,0;633:204,0,0;634:153,0,0;635:102,0,0;636:51,0,0;791:255,204,153;792:204,153,102;793:153,102,51;794:153,102,0;795:204,153,51;796:255,204,102;797:255,153,0;798:255,204,51;799:204,153,0;800:255,204,0;801:255,153,51;802:204,102,0;803:102,51,0;804:153,51,0;805:204,102,51;806:255,153,102;807:255,102,0;808:255,102,51;809:204,51,0;810:255,51,0;811:153,255,51;812:102,204,0;813:51,102,0;814:51,153,0;815:102,204,51;816:153,255,102;817:102,255,0;818:102,255,51;819:51,204,0;820:51,255,0;821:204,255,153;822:153,204,102;823:102,153,51;824:102,153,0;825:153,204,51;826:204,255,102;827:153,255,0;828:204,255,51;829:153,204,0;830:204,255,0;831:153,255,204;832:102,204,153;833:51,153,102;834:0,153,102;835:51,204,153;836:102,255,204;837:0,255,102;838:51,255,204;839:0,204,153;840:0,255,204;841:51,255,153;842:0,204,102;843:0,102,51;844:0,153,51;845:51,204,102;846:102,255,153;847:0,255,153;848:51,255,102;849:0,204,51;850:0,255,51;851:153,204,255;852:102,153,204;853:51,102,153;854:0,51,153;855:51,102,204;856:102,153,255;857:0,102,255;858:51,102,255;859:0,51,204;860:0,51,255;861:51,153,255;862:0,102,204;863:0,51,102;864:0,102,153;865:51,153,204;866:102,204,255;867:0,153,255;868:51,204,255;869:0,153,204;870:0,204,255;871:204,153,255;872:153,102,204;873:102,51,153;874:102,0,153;875:153,51,204;876:204,102,255;877:153,0,255;878:204,51,255;879:153,0,204;880:204,0,255;881:153,51,255;882:102,0,204;883:51,0,102;884:51,0,153;885:102,51,204;886:153,102,255;887:102,0,255;888:102,51,255;889:51,0,204;890:51,0,255;891:255,51,153;892:204,0,102;893:102,0,51;894:153,0,51;895:204,51,102;896:255,102,153;897:255,0,102;898:255,51,102;899:204,0,51;900:255,0,51;901:255,153,204;902:204,102,153;903:153,51,102;904:153,0,102;905:204,51,153;906:255,102,204;907:255,0,153;908:204,0,153;909:255,51,204;910:255,0,153;920:204,204,204;921:153,153,153;922:102,102,102;923:51,51,51;924:53,42,134;925:51,44,137;926:50,45,140;927:49,47,143;928:48,48,146;929:46,50,148;930:45,51,151;931:44,53,154;932:43,55,157;933:42,56,160;934:40,58,162;935:39,59,165;936:38,61,168;937:37,63,171;938:35,64,174;939:34,66,176;940:33,67,179;941:32,69,182;942:31,71,185;943:29,72,187;944:28,74,190;945:27,75,193;946:26,77,196;947:24,79,199;948:23,80,201;949:22,82,204;950:21,83,207;951:19,85,210;952:18,86,213;953:17,88,215;954:16,90,218;955:15,91,221;956:15,92,221;957:15,94,220;958:15,95,220;959:15,96,220;960:15,97,220;961:15,98,220;962:16,99,219;963:16,100,219;964:16,102,219;965:16,103,219;966:16,104,218;967:16,105,218;968:17,106,218;969:17,107,218;970:17,109,217;971:17,110,217;972:17,111,217;973:17,112,217;974:17,113,216;975:18,114,216;976:18,115,216;977:18,117,216;978:18,118,215;979:18,119,215;980:18,120,215;981:18,121,215;982:19,122,215;983:19,123,214;984:19,125,214;985:19,126,214;986:19,127,214;987:19,128,213;988:19,129,213;989:19,130,213;990:18,131,212;991:18,132,212;992:17,134,211;993:17,135,211;994:16,136,211;995:16,137,210;996:15,138,210;997:15,139,210;998:15,140,209;999:14,141,209;1000:14,142,208;1001:13,143,208;1002:13,145,208;1003:12,146,207;1004:12,147,207;1005:12,148,207;1006:11,149,206;1007:11,150,206;1008:10,151,205;1009:10,152,205;1010:9,153,205;1011:9,154,204;1012:8,155,204;1013:8,157,204;1014:8,158,203;1015:7,159,203;1016:7,160,202;1017:6,161,202;1018:6,162,202;1019:5,163,201;1020:7,164,200;1021:8,164,199;1022:9,165,198;1023:10,166,197;1024:12,166,195;1025:13,167,194;1026:14,167,193;1027:15,168,192;1028:17,169,191;1029:18,169,189;1030:19,170,188;1031:20,170,187;1032:22,171,186;1033:23,172,185;1034:24,172,184;1035:25,173,182;1036:27,173,181;1037:28,174,180;1038:29,175,179;1039:30,175,178;1040:32,176,176;1041:33,176,175;1042:34,177,174;1043:35,178,173;1044:37,178,172;1045:38,179,170;1046:39,180,169;1047:40,180,168;1048:42,181,167;1049:43,181,166;1050:44,182,165;1051:45,183,163;1052:48,183,162;1053:51,183,161;1054:54,183,159;1055:57,184,158;1056:59,184,156;1057:62,184,155;1058:65,184,154;1059:68,185,152;1060:71,185,151;1061:73,185,149;1062:76,185,148;1063:79,186,146;1064:82,186,145;1065:84,186,144;1066:87,186,142;1067:90,187,141;1068:93,187,139;1069:96,187,138;1070:98,187,137;1071:101,188,135;1072:104,188,134;1073:107,188,132;1074:110,188,131;1075:112,189,130;1076:115,189,128;1077:118,189,127;1078:121,189,125;1079:124,190,124;1080:126,190,123;1081:129,190,121;1082:132,190,120;1083:135,191,118;1084:137,190,117;1085:139,190,117;1086:142,190,116;1087:144,190,115;1088:146,190,114;1089:148,190,113;1090:151,190,112;1091:153,190,111;1092:155,189,110;1093:158,189,109;1094:160,189,108;1095:162,189,107;1096:165,189,106;1097:167,189,105;1098:169,189,104;1099:171,188,104;1100:174,188,103;1101:176,188,102;1102:178,188,101;1103:181,188,100;1104:183,188,99;1105:185,188,98;1106:188,188,97;1107:190,187,96;1108:192,187,95;1109:194,187,94;1110:197,187,93;1111:199,187,92;1112:201,187,92;1113:204,187,91;1114:206,186,90;1115:208,186,89;1116:210,187,88;1117:211,187,86;1118:212,188,85;1119:214,188,84;1120:215,188,83;1121:217,189,81;1122:218,189,80;1123:220,190,79;1124:221,190,78;1125:222,191,77;1126:224,191,75;1127:225,191,74;1128:227,192,73;1129:228,192,72;1130:229,193,70;1131:231,193,69;1132:232,194,68;1133:234,194,67;1134:235,194,66;1135:236,195,64;1136:238,195,63;1137:239,196,62;1138:241,196,61;1139:242,197,59;1140:244,197,58;1141:245,197,57;1142:246,198,56;1143:248,198,55;1144:249,199,53;1145:251,199,52;1146:252,200,51;1147:253,200,50;1148:253,202,49;1149:253,203,47;1150:253,205,46;1151:253,206,45;1152:253,208,44;1153:252,209,43;1154:252,211,42;1155:252,213,41;1156:252,214,39;1157:252,216,38;1158:252,217,37;1159:252,219,36;1160:251,220,35;1161:251,222,34;1162:251,224,33;1163:251,225,31;1164:251,227,30;1165:251,228,29;1166:250,230,28;1167:250,231,27;1168:250,233,26;1169:250,235,25;1170:250,236,23;1171:250,238,22;1172:250,239,21;1173:249,241,20;1174:249,242,19;1175:249,244,18;1176:249,246,17;1177:249,247,16;1178:249,249,14\",\"fBuf\":{\"$arr\":\"Float32\",\"len\":255,\"v\":[924,925,926,927,928,929,930,931,932,933,934,935,936,937,938,939,940,941,942,943,944,945,946,947,948,949,950,951,952,953,954,955,956,957,958,959,960,961,962,963,964,965,966,967,968,969,970,971,972,973,974,975,976,977,978,979,980,981,982,983,984,985,986,987,988,989,990,991,992,993,994,995,996,997,998,999,1000,1001,1002,1003,1004,1005,1006,1007,1008,1009,1010,1011,1012,1013,1014,1015,1016,1017,1018,1019,1020,1021,1022,1023,1024,1025,1026,1027,1028,1029,1030,1031,1032,1033,1034,1035,1036,1037,1038,1039,1040,1041,1042,1043,1044,1045,1046,1047,1048,1049,1050,1051,1052,1053,1054,1055,1056,1057,1058,1059,1060,1061,1062,1063,1064,1065,1066,1067,1068,1069,1070,1071,1072,1073,1074,1075,1076,1077,1078,1079,1080,1081,1082,1083,1084,1085,1086,1087,1088,1089,1090,1091,1092,1093,1094,1095,1096,1097,1098,1099,1100,1101,1102,1103,1104,1105,1106,1107,1108,1109,1110,1111,1112,1113,1114,1115,1116,1117,1118,1119,1120,1121,1122,1123,1124,1125,1126,1127,1128,1129,1130,1131,1132,1133,1134,1135,1136,1137,1138,1139,1140,1141,1142,1143,1144,1145,1146,1147,1148,1149,1150,1151,1152,1153,1154,1155,1156,1157,1158,1159,1160,1161,1162,1163,1164,1165,1166,1167,1168,1169,1170,1171,1172,1173,1174,1175,1176,1177,1178]}}},{\"_typename\":\"TWebSnapshot\",\"fUniqueID\":0,\"fBits\":0,\"fObjectID\":\"\",\"fOption\":\"\",\"fKind\":5,\"fSnapshot\":{\"_typename\":\"TStyle\",\"fUniqueID\":0,\"fBits\":0,\"fName\":\"Modern\",\"fTitle\":\"Modern Style\",\"fLineColor\":1,\"fLineStyle\":1,\"fLineWidth\":1,\"fFillColor\":19,\"fFillStyle\":1001,\"fMarkerColor\":1,\"fMarkerStyle\":1,\"fMarkerSize\":1,\"fTextAngle\":0,\"fTextSize\":0.05,\"fTextAlign\":11,\"fTextColor\":1,\"fTextFont\":62,\"fXaxis\":{\"_typename\":\"TAttAxis\",\"fNdivisions\":510,\"fAxisColor\":1,\"fLabelColor\":1,\"fLabelFont\":42,\"fLabelOffset\":0.005,\"fLabelSize\":0.035,\"fTickLength\":0.03,\"fTitleOffset\":1,\"fTitleSize\":0.035,\"fTitleColor\":1,\"fTitleFont\":42},\"fYaxis\":{\"_typename\":\"TAttAxis\",\"fNdivisions\":510,\"fAxisColor\":1,\"fLabelColor\":1,\"fLabelFont\":42,\"fLabelOffset\":0.005,\"fLabelSize\":0.035,\"fTickLength\":0.03,\"fTitleOffset\":0,\"fTitleSize\":0.035,\"fTitleColor\":1,\"fTitleFont\":42},\"fZaxis\":{\"_typename\":\"TAttAxis\",\"fNdivisions\":510,\"fAxisColor\":1,\"fLabelColor\":1,\"fLabelFont\":42,\"fLabelOffset\":0.005,\"fLabelSize\":0.035,\"fTickLength\":0.03,\"fTitleOffset\":1,\"fTitleSize\":0.035,\"fTitleColor\":1,\"fTitleFont\":42},\"fBarWidth\":1,\"fBarOffset\":0,\"fColorModelPS\":0,\"fDrawBorder\":0,\"fOptLogx\":0,\"fOptLogy\":0,\"fOptLogz\":0,\"fOptDate\":0,\"fOptStat\":1111,\"fOptTitle\":1,\"fOptFile\":0,\"fOptFit\":0,\"fShowEventStatus\":0,\"fShowEditor\":0,\"fShowToolBar\":0,\"fNumberContours\":20,\"fAttDate\":{\"_typename\":\"TAttText\",\"fTextAngle\":0,\"fTextSize\":0.025,\"fTextAlign\":11,\"fTextColor\":1,\"fTextFont\":62},\"fDateX\":0.01,\"fDateY\":0.01,\"fEndErrorSize\":2,\"fErrorX\":0.5,\"fFuncColor\":2,\"fFuncStyle\":1,\"fFuncWidth\":2,\"fGridColor\":0,\"fGridStyle\":3,\"fGridWidth\":1,\"fLegendBorderSize\":1,\"fLegendFillColor\":0,\"fLegendFillStyle\":1001,\"fLegendFont\":42,\"fLegendTextSize\":0,\"fHatchesLineWidth\":1,\"fHatchesSpacing\":1,\"fFrameFillColor\":0,\"fFrameLineColor\":1,\"fFrameFillStyle\":1001,\"fFrameLineStyle\":1,\"fFrameLineWidth\":1,\"fFrameBorderSize\":1,\"fFrameBorderMode\":0,\"fHistFillColor\":0,\"fHistLineColor\":602,\"fHistFillStyle\":1001,\"fHistLineStyle\":1,\"fHistLineWidth\":1,\"fHistMinimumZero\":false,\"fHistTopMargin\":0.05,\"fCanvasPreferGL\":false,\"fCanvasColor\":0,\"fCanvasBorderSize\":2,\"fCanvasBorderMode\":0,\"fCanvasDefH\":500,\"fCanvasDefW\":700,\"fCanvasDefX\":10,\"fCanvasDefY\":10,\"fPadColor\":0,\"fPadBorderSize\":2,\"fPadBorderMode\":0,\"fPadBottomMargin\":0.1,\"fPadTopMargin\":0.1,\"fPadLeftMargin\":0.1,\"fPadRightMargin\":0.1,\"fPadGridX\":false,\"fPadGridY\":false,\"fPadTickX\":0,\"fPadTickY\":0,\"fPaperSizeX\":20,\"fPaperSizeY\":26,\"fScreenFactor\":1,\"fStatColor\":0,\"fStatTextColor\":1,\"fStatBorderSize\":1,\"fStatFont\":42,\"fStatFontSize\":0,\"fStatStyle\":1001,\"fStatFormat\":\"6.4g\",\"fStatX\":0.98,\"fStatY\":0.935,\"fStatW\":0.2,\"fStatH\":0.16,\"fStripDecimals\":true,\"fTitleAlign\":23,\"fTitleColor\":0,\"fTitleTextColor\":1,\"fTitleBorderSize\":0,\"fTitleFont\":42,\"fTitleFontSize\":0.05,\"fTitleStyle\":0,\"fTitleX\":0.5,\"fTitleY\":0.995,\"fTitleW\":0,\"fTitleH\":0,\"fLegoInnerR\":0.5,\"fLineStyles\":[\"\",\"  \",\" 12 12\",\" 4 8\",\" 12 16 4 16\",\" 20 12 4 12\",\" 20 12 4 12 4 12 4 12\",\" 20 20\",\" 20 12 4 12 4 12\",\" 80 20\",\" 80 40 4 40\",\"  \",\"  \",\"  \",\"  \",\"  \",\"  \",\"  \",\"  \",\"  \",\"  \",\"  \",\"  \",\"  \",\"  \",\"  \",\"  \",\"  \",\"  \",\"  \"],\"fHeaderPS\":\"\",\"fTitlePS\":\"\",\"fFitFormat\":\"5.4g\",\"fPaintTextFormat\":\"g\",\"fLineScalePS\":3,\"fJoinLinePS\":0,\"fCapLinePS\":0,\"fTimeOffset\":788918400,\"fImageScaling\":1,\"fCandleWhiskerRange\":1,\"fCandleBoxRange\":0.5,\"fCandleScaled\":false,\"fViolinScaled\":true,\"fXAxisExpXOffset\":0,\"fXAxisExpYOffset\":0,\"fYAxisExpXOffset\":0,\"fYAxisExpYOffset\":0,\"fAxisMaxDigits\":5,\"fOrthoCamera\":false}},{\"_typename\":\"TWebSnapshot\",\"fUniqueID\":0,\"fBits\":0,\"fObjectID\":\"\",\"fOption\":\"\",\"fKind\":1,\"fSnapshot\":{\"_typename\":\"TFrame\",\"fUniqueID\":0,\"fBits\":8,\"fLineColor\":1,\"fLineStyle\":1,\"fLineWidth\":1,\"fFillColor\":0,\"fFillStyle\":1001,\"fX1\":0,\"fY1\":0,\"fX2\":27.5,\"fY2\":10741.5,\"fBorderSize\":1,\"fBorderMode\":0}},{\"_typename\":\"TWebSnapshot\",\"fUniqueID\":0,\"fBits\":0,\"fObjectID\":\"\",\"fOption\":\"\",\"fKind\":1,\"fSnapshot\":{\"_typename\":\"TH1F\",\"fUniqueID\":0,\"fBits\":9,\"fName\":\"htemp\",\"fTitle\":\"B_BPVIPCHI2\",\"fLineColor\":602,\"fLineStyle\":1,\"fLineWidth\":1,\"fFillColor\":0,\"fFillStyle\":1001,\"fMarkerColor\":1,\"fMarkerStyle\":1,\"fMarkerSize\":1,\"fNcells\":102,\"fXaxis\":{\"_typename\":\"TAxis\",\"fUniqueID\":0,\"fBits\":0,\"fName\":\"xaxis\",\"fTitle\":\"B_BPVIPCHI2\",\"fNdivisions\":510,\"fAxisColor\":1,\"fLabelColor\":1,\"fLabelFont\":42,\"fLabelOffset\":0.005,\"fLabelSize\":0.035,\"fTickLength\":0.03,\"fTitleOffset\":1,\"fTitleSize\":0.035,\"fTitleColor\":1,\"fTitleFont\":42,\"fNbins\":100,\"fXmin\":0,\"fXmax\":27.5,\"fXbins\":[],\"fFirst\":1,\"fLast\":100,\"fBits2\":0,\"fTimeDisplay\":false,\"fTimeFormat\":\"\",\"fLabels\":null,\"fModLabs\":null},\"fYaxis\":{\"_typename\":\"TAxis\",\"fUniqueID\":0,\"fBits\":0,\"fName\":\"yaxis\",\"fTitle\":\"\",\"fNdivisions\":510,\"fAxisColor\":1,\"fLabelColor\":1,\"fLabelFont\":42,\"fLabelOffset\":0.005,\"fLabelSize\":0.035,\"fTickLength\":0.03,\"fTitleOffset\":0,\"fTitleSize\":0.035,\"fTitleColor\":1,\"fTitleFont\":42,\"fNbins\":1,\"fXmin\":0,\"fXmax\":1,\"fXbins\":[],\"fFirst\":0,\"fLast\":0,\"fBits2\":0,\"fTimeDisplay\":false,\"fTimeFormat\":\"\",\"fLabels\":null,\"fModLabs\":null},\"fZaxis\":{\"_typename\":\"TAxis\",\"fUniqueID\":0,\"fBits\":0,\"fName\":\"zaxis\",\"fTitle\":\"\",\"fNdivisions\":510,\"fAxisColor\":1,\"fLabelColor\":1,\"fLabelFont\":42,\"fLabelOffset\":0.005,\"fLabelSize\":0.035,\"fTickLength\":0.03,\"fTitleOffset\":1,\"fTitleSize\":0.035,\"fTitleColor\":1,\"fTitleFont\":42,\"fNbins\":1,\"fXmin\":0,\"fXmax\":1,\"fXbins\":[],\"fFirst\":0,\"fLast\":0,\"fBits2\":0,\"fTimeDisplay\":false,\"fTimeFormat\":\"\",\"fLabels\":null,\"fModLabs\":null},\"fBarOffset\":0,\"fBarWidth\":1000,\"fEntries\":128208,\"fTsumw\":128208,\"fTsumw2\":128208,\"fTsumwx\":507408.772177244,\"fTsumwx2\":4556374.38698112,\"fMaximum\":-1111,\"fMinimum\":-1111,\"fNormFactor\":0,\"fContour\":[],\"fSumw2\":[],\"fOption\":\"\",\"fFunctions\":{\"_typename\":\"TList\",\"name\":\"TList\",\"arr\":[{\"_typename\":\"TPaveStats\",\"fUniqueID\":0,\"fBits\":9,\"fLineColor\":1,\"fLineStyle\":1,\"fLineWidth\":1,\"fFillColor\":0,\"fFillStyle\":1001,\"fX1\":23.3750006966293,\"fY1\":9063.14076005132,\"fX2\":30.2500009015203,\"fY2\":11211.4407440452,\"fX1NDC\":0.780000016093254,\"fY1NDC\":0.775000005960464,\"fX2NDC\":0.980000019073486,\"fY2NDC\":0.935000002384186,\"fBorderSize\":1,\"fInit\":1,\"fShadowColor\":1,\"fCornerRadius\":0,\"fOption\":\"brNDC\",\"fName\":\"stats\",\"fTextAngle\":0,\"fTextSize\":0,\"fTextAlign\":12,\"fTextColor\":1,\"fTextFont\":42,\"fLabel\":\"\",\"fLongest\":18,\"fMargin\":0.05,\"fLines\":{\"_typename\":\"TList\",\"name\":\"TList\",\"arr\":[{\"_typename\":\"TLatex\",\"fUniqueID\":0,\"fBits\":0,\"fName\":\"\",\"fTitle\":\"htemp\",\"fTextAngle\":0,\"fTextSize\":0.0368,\"fTextAlign\":0,\"fTextColor\":0,\"fTextFont\":0,\"fX\":0,\"fY\":0,\"fLineColor\":1,\"fLineStyle\":1,\"fLineWidth\":2,\"fLimitFactorSize\":3,\"fOriginSize\":0.0368000008165836},{\"_typename\":\"TLatex\",\"fUniqueID\":0,\"fBits\":0,\"fName\":\"\",\"fTitle\":\"Entries = 128208 \",\"fTextAngle\":0,\"fTextSize\":0,\"fTextAlign\":0,\"fTextColor\":0,\"fTextFont\":0,\"fX\":0,\"fY\":0,\"fLineColor\":1,\"fLineStyle\":1,\"fLineWidth\":2,\"fLimitFactorSize\":3,\"fOriginSize\":0.04},{\"_typename\":\"TLatex\",\"fUniqueID\":0,\"fBits\":0,\"fName\":\"\",\"fTitle\":\"Mean  =  3.958\",\"fTextAngle\":0,\"fTextSize\":0,\"fTextAlign\":0,\"fTextColor\":0,\"fTextFont\":0,\"fX\":0,\"fY\":0,\"fLineColor\":1,\"fLineStyle\":1,\"fLineWidth\":2,\"fLimitFactorSize\":3,\"fOriginSize\":0.04},{\"_typename\":\"TLatex\",\"fUniqueID\":0,\"fBits\":0,\"fName\":\"\",\"fTitle\":\"Std Dev   =  4.458\",\"fTextAngle\":0,\"fTextSize\":0,\"fTextAlign\":0,\"fTextColor\":0,\"fTextFont\":0,\"fX\":0,\"fY\":0,\"fLineColor\":1,\"fLineStyle\":1,\"fLineWidth\":2,\"fLimitFactorSize\":3,\"fOriginSize\":0.04}],\"opt\":[\"\",\"\",\"\",\"\"]},\"fOptFit\":0,\"fOptStat\":1111,\"fFitFormat\":\"5.4g\",\"fStatFormat\":\"6.4g\",\"fParent\":{\"$ref\":15}}],\"opt\":[\"brNDC\"]},\"fBufferSize\":0,\"fBuffer\":[],\"fBinStatErrOpt\":0,\"fStatOverflows\":2,\"fArray\":{\"$arr\":\"Float32\",\"len\":102,\"p\":1,\"v\":[10230,9339,8397,7730,7071,6331,5756,5379,4724,4437,4196,3812,3416,3112,3023,2709,2452,2281,2086,1956,1749,1675,1537,1429,1333,1255,1209,1035,1016,886,831,813,742,751,654,605,570,520,524,449,460,470,399,407,407,362,344,346,304,305,291,289,246,253,220,229,247,230,185,216,188,182,172,163,160,156,153,159,131,153,136,149,139,131,117,120,136,126,112,105,117,92,106,97,115,101,108,104,84,77,78,11]}}},{\"_typename\":\"TWebSnapshot\",\"fUniqueID\":0,\"fBits\":0,\"fObjectID\":\"\",\"fOption\":\"blNDC\",\"fKind\":1,\"fSnapshot\":{\"_typename\":\"TPaveText\",\"fUniqueID\":0,\"fBits\":9,\"fLineColor\":1,\"fLineStyle\":1,\"fLineWidth\":1,\"fFillColor\":0,\"fFillStyle\":0,\"fX1\":9.413194379821,\"fY1\":11187.7462904102,\"fX2\":18.086805620179,\"fY2\":12017.053288062,\"fX1NDC\":0.373838383838384,\"fY1NDC\":0.933235298886019,\"fX2NDC\":0.626161616161616,\"fY2NDC\":0.995000004768372,\"fBorderSize\":0,\"fInit\":1,\"fShadowColor\":1,\"fCornerRadius\":0,\"fOption\":\"blNDC\",\"fName\":\"title\",\"fTextAngle\":0,\"fTextSize\":0,\"fTextAlign\":22,\"fTextColor\":1,\"fTextFont\":42,\"fLabel\":\"\",\"fLongest\":11,\"fMargin\":0.05,\"fLines\":{\"_typename\":\"TList\",\"name\":\"TList\",\"arr\":[{\"_typename\":\"TLatex\",\"fUniqueID\":0,\"fBits\":0,\"fName\":\"\",\"fTitle\":\"B_BPVIPCHI2\",\"fTextAngle\":0,\"fTextSize\":0,\"fTextAlign\":0,\"fTextColor\":0,\"fTextFont\":0,\"fX\":0,\"fY\":0,\"fLineColor\":1,\"fLineStyle\":1,\"fLineWidth\":2,\"fLimitFactorSize\":3,\"fOriginSize\":0.0524999983608723}],\"opt\":[\"\"]}}}],\"fScripts\":\"\",\"fHighlightConnect\":false,\"fFixedSize\":false});\n",
       "   Core.settings.HandleKeys = false;\n",
       "   Core.draw(\"root_plot_1753429431732\", obj, \"\");\n",
       "}\n",
       "\n",
       "function script_load_root_plot_1753429431732(src, on_error) {\n",
       "    let script = document.createElement('script');\n",
       "    script.src = src;\n",
       "    script.onload = function() { display_root_plot_1753429431732(JSROOT); };\n",
       "    script.onerror = function() { script.remove(); on_error(); };\n",
       "    document.head.appendChild(script);\n",
       "}\n",
       "\n",
       "if (typeof requirejs !== 'undefined') {\n",
       "\n",
       "    // We are in jupyter notebooks, use require.js which should be configured already\n",
       "    requirejs.config({\n",
       "       paths: { 'JSRootCore' : [ 'build/jsroot', 'https://root.cern/js/7.7.4/build/jsroot', 'https://jsroot.gsi.de/7.7.4/build/jsroot' ] }\n",
       "    })(['JSRootCore'],  function(Core) {\n",
       "       display_root_plot_1753429431732(Core);\n",
       "    });\n",
       "\n",
       "} else if (typeof JSROOT !== 'undefined') {\n",
       "\n",
       "   // JSROOT already loaded, just use it\n",
       "   display_root_plot_1753429431732(JSROOT);\n",
       "\n",
       "} else {\n",
       "\n",
       "    // We are in jupyterlab without require.js, directly loading jsroot\n",
       "    // Jupyterlab might be installed in a different base_url so we need to know it.\n",
       "    try {\n",
       "        var base_url = JSON.parse(document.getElementById('jupyter-config-data').innerHTML).baseUrl;\n",
       "    } catch(_) {\n",
       "        var base_url = '/';\n",
       "    }\n",
       "\n",
       "    // Try loading a local version of requirejs and fallback to cdn if not possible.\n",
       "    script_load_root_plot_1753429431732(base_url + 'static/build/jsroot.js', function(){\n",
       "        console.error('Fail to load JSROOT locally, please check your jupyter_notebook_config.py file');\n",
       "        script_load_root_plot_1753429431732('https://root.cern/js/7.7.4/build/jsroot.js', function(){\n",
       "            document.getElementById(\"root_plot_1753429431732\").innerHTML = \"Failed to load JSROOT\";\n",
       "        });\n",
       "    });\n",
       "}\n",
       "\n",
       "</script>\n"
      ],
      "text/plain": [
       "<IPython.core.display.HTML object>"
      ]
     },
     "metadata": {},
     "output_type": "display_data"
    }
   ],
   "source": [
    "%%cpp\n",
    "TCanvas c1(\"c1\", \"c1\", 400, 300);\n",
    "tree->Draw(\"B_BPVIPCHI2\");\n",
    "c1.Draw();"
   ]
  },
  {
   "cell_type": "markdown",
   "id": "57d4290d-e173-418b-adaa-cabd357ec280",
   "metadata": {},
   "source": [
    "#### Simple data processing with an event loop"
   ]
  },
  {
   "cell_type": "markdown",
   "id": "eca1df15-049c-4390-b1d9-f1d77fc382ce",
   "metadata": {},
   "source": [
    "We can use the dedicated methods of the TTree class to access the values of event variables in each branch of the tree, allowing us to do whatever computations we may want with them event-by-event.\n",
    "\n",
    "For example, calculating the squared dimuon mass, $q^2 \\equiv m^2(\\mu\\mu)$ using the four-momentum components of the $\\mu^+$ and the $\\mu^-$."
   ]
  },
  {
   "cell_type": "code",
   "execution_count": 14,
   "id": "676a3c56-cda7-485b-a97a-b636c01bb3f6",
   "metadata": {},
   "outputs": [
    {
     "name": "stdout",
     "output_type": "stream",
     "text": [
      "Initially, the variables are all zero, as I defined them: \n",
      "    mup_px = 0, mup_py = 0, mup_pz = 0, mup_e = 0\n",
      "    mum_px = 0, mum_py = 0, mum_pz = 0, mum_e = 0\n",
      "\n",
      "Called tree->GetEntry()\n",
      "\n",
      "Now the variables hold the values from the first event in the dataset: \n",
      "    mup_px = 812.78, mup_py = -2753.35, mup_pz = 48990.1, mup_e = 49074.2\n",
      "    mum_px = -1723.26, mum_py = -880.76, mum_pz = 35633.5, mum_e = 35686.2\n"
     ]
    }
   ],
   "source": [
    "%%cpp\n",
    "// Define variables to store components of mu_plus and mu_minus momentum\n",
    "float mup_px = 0., mup_py = 0., mup_pz = 0., mup_e = 0.;\n",
    "float mum_px = 0., mum_py = 0., mum_pz = 0., mum_e = 0.;\n",
    "\n",
    "cout<<\"Initially, the variables are all zero, as I defined them: \"<<endl;\n",
    "cout<<\"    mup_px = \"<<mup_px<<\", mup_py = \"<<mup_py<<\", mup_pz = \"<<mup_pz<<\", mup_e = \"<<mup_e<<endl;\n",
    "cout<<\"    mum_px = \"<<mum_px<<\", mum_py = \"<<mum_py<<\", mum_pz = \"<<mum_pz<<\", mum_e = \"<<mum_e<<endl;\n",
    "\n",
    "// Tell the TTree to link these variables to the corresponding branches in the tree by providing the addresses.\n",
    "tree->SetBranchAddress(\"L1_PX\", &mup_px);\n",
    "tree->SetBranchAddress(\"L1_PY\", &mup_py);\n",
    "tree->SetBranchAddress(\"L1_PZ\", &mup_pz);\n",
    "tree->SetBranchAddress(\"L1_PE\", &mup_e);\n",
    "\n",
    "tree->SetBranchAddress(\"L2_PX\", &mum_px);\n",
    "tree->SetBranchAddress(\"L2_PY\", &mum_py);\n",
    "tree->SetBranchAddress(\"L2_PZ\", &mum_pz);\n",
    "tree->SetBranchAddress(\"L2_PE\", &mum_e);\n",
    "\n",
    "\n",
    "// For best performance, we can configure the tree to read in only the branches want \n",
    "// This can make a big difference to the processing speed if there are many branches, as we have here (over 1800 branches reduced to just 8)\n",
    "// First switch everything off\n",
    "tree->SetBranchStatus(\"*\", 0);\n",
    "\n",
    "// Turn on the branches we want, one by one\n",
    "tree->SetBranchStatus(\"L1_PX\", 1);\n",
    "tree->SetBranchStatus(\"L1_PY\", 1);\n",
    "tree->SetBranchStatus(\"L1_PZ\", 1);\n",
    "tree->SetBranchStatus(\"L1_PE\", 1);\n",
    "\n",
    "tree->SetBranchStatus(\"L2_PX\", 1);\n",
    "tree->SetBranchStatus(\"L2_PY\", 1);\n",
    "tree->SetBranchStatus(\"L2_PZ\", 1);\n",
    "tree->SetBranchStatus(\"L2_PE\", 1);\n",
    "\n",
    "\n",
    "// Calling tree->GetEntry() fills the associated variables with the values from the tree\n",
    "tree->GetEntry(0);\n",
    "cout<<endl;\n",
    "cout<<\"Called tree->GetEntry()\"<<endl;\n",
    "cout<<endl;\n",
    "\n",
    "cout<<\"Now the variables hold the values from the first event in the dataset: \"<<endl;\n",
    "cout<<\"    mup_px = \"<<mup_px<<\", mup_py = \"<<mup_py<<\", mup_pz = \"<<mup_pz<<\", mup_e = \"<<mup_e<<endl;\n",
    "cout<<\"    mum_px = \"<<mum_px<<\", mum_py = \"<<mum_py<<\", mum_pz = \"<<mum_pz<<\", mum_e = \"<<mum_e<<endl;\n"
   ]
  },
  {
   "cell_type": "markdown",
   "id": "bbf5715d-26d5-4966-804f-c77576a48c60",
   "metadata": {},
   "source": [
    "Now we will loop over the events in the tree and calculate the $q^2$ value for each event, and store the resulting values in a new tree.\n",
    "\n",
    "When we start the event loop, each time we call `tree->GetEntry()`, the variables we defined will be filled with the values we want from the next event in the tree.\n",
    "\n",
    "In the same way, we can link a new branch to the resulting $q^2$ variable and have the branch be filled each time we call `tree->Fill()`. In this case the new branch will be stored in a separate tree to the original, for reasons that will be explained below."
   ]
  },
  {
   "cell_type": "code",
   "execution_count": 15,
   "id": "cbc1b592-8d70-4c0e-94f9-e6eeab0341bc",
   "metadata": {},
   "outputs": [
    {
     "name": "stdout",
     "output_type": "stream",
     "text": [
      "Event loop took 1943 ms\n",
      "\n",
      "******************************************************************************\n",
      "*Tree    :newTree   : newTree                                                *\n",
      "*Entries :   128208 : Total =          515122 bytes  File  Size =     443084 *\n",
      "*        :          : Tree compression factor =   1.16                       *\n",
      "******************************************************************************\n",
      "*Br    0 :q2        : q2/F                                                   *\n",
      "*Entries :   128208 : Total  Size=     514821 bytes  File Size  =     443084 *\n",
      "*Baskets :       16 : Basket Size=      32000 bytes  Compression=   1.16     *\n",
      "*............................................................................*\n"
     ]
    }
   ],
   "source": [
    "%%cpp\n",
    "// For timing\n",
    "#include <chrono>\n",
    "\n",
    "using std::chrono::high_resolution_clock;\n",
    "using std::chrono::duration_cast;\n",
    "using std::chrono::duration;\n",
    "using std::chrono::milliseconds;\n",
    "\n",
    "// Create a new TFile to store the output\n",
    "// The \"RECREATE\" argument means we will create a new file, overwriting it if it exists already\n",
    "TFile* outFile = TFile::Open(\"q2_tree.root\", \"RECREATE\");\n",
    "\n",
    "// Make a new TTree to store the q2 values\n",
    "TTree* newTree = new TTree(\"newTree\", \"newTree\");\n",
    "\n",
    "// Define a variable to hold the q2 value\n",
    "float q2 = 0.0;\n",
    "\n",
    "// Create a branch in the new tree linked to the q2 variable defined above\n",
    "newTree->Branch(\"q2\", &q2, \"q2/F\");\n",
    "\n",
    "// Time how long the loop takes to execute\n",
    "auto t1 = high_resolution_clock::now();\n",
    "\n",
    "// When we call newTree->Fill(), it will fill the \"q2\" branch with whatever is stored in the q2 variable to which it is linked.\n",
    "for (int i=0; i<tree->GetEntries(); i++){\n",
    "    \n",
    "    tree->GetEntry(i);\n",
    "\n",
    "    // ROOT has built in four-vector classes making kinematic calculations easy\n",
    "    TLorentzVector mup_p4(mup_px, mup_py, mup_pz, mup_e);\n",
    "    TLorentzVector mum_p4(mum_px, mum_py, mum_pz, mum_e);\n",
    "\n",
    "    q2 = ((mup_p4 + mum_p4).M2()) * 1e-6;\n",
    "\n",
    "    newTree->Fill();\n",
    "}\n",
    "auto t2 = high_resolution_clock::now();\n",
    "\n",
    "\n",
    "duration<double, std::milli> ms_double = t2 - t1;\n",
    "\n",
    "cout <<\"Event loop took \" << ms_double.count() << \" ms\\n\";\n",
    "cout<<endl;\n",
    "\n",
    "newTree->Print();\n",
    "\n",
    "\n",
    "// Write the new TTree containing the q2 values to the output file\n",
    "// Note: since we opened a new TFile right before creating the new TTree, the latter is automatically owned by the former \n",
    "// meaning it will be written there by default, and will also be deleted from memory when we close the file.\n",
    "newTree->Write();\n",
    "\n",
    "outFile->Close();"
   ]
  },
  {
   "cell_type": "markdown",
   "id": "3f0dd300-4003-41f3-847a-b25f88fc34c6",
   "metadata": {},
   "source": [
    "#### Writing trees and object ownership"
   ]
  },
  {
   "cell_type": "markdown",
   "id": "8cff6f72-64c6-4e7f-93c5-01199c77d1eb",
   "metadata": {},
   "source": [
    "The concept of object ownership in ROOT can be difficult to get ones head around.\n",
    "\n",
    "As mentioned in the comments above, the new TTree, `newTree` we created was owned by the newly opened TFile `outFile` and was automatically being written into the file as we filled the tree. The tree writing is completed by the `Write()` function.\n",
    "\n",
    "Ownership usually belongs to the most recently open `TFile`. Therefore, if we did not create this new file, the new TTree would have been owned by the original input file.\n",
    "\n",
    "**This is generally not advisable, since you often don't have full write access to wherever your input file is stored. This can potentially lead to corruption of the input file.**\n",
    "\n",
    "**For similar reasons, it is recommended to store derived branches in a separate TTree to the original one, that can be written to a different file.**\n",
    "\n",
    "ROOT has a nice way to link trees from different files that will be covered below. \n",
    "\n",
    "This is also more performant in the sense that only the new branch needs to be written to a file, instead of rewriting the entire original tree (which can have many branches) along with it.\n",
    "\n",
    "When we called `outFile->Close()`, this closed the file and `newTree` was deleted. So in order to use it again, we need to read it back in.\n",
    "\n",
    "Note: We could have avoided this by not closing the file straight away. That was just to further illustrate the concept of ownership."
   ]
  },
  {
   "cell_type": "code",
   "execution_count": 7,
   "id": "842f00f6-13ed-4c9a-a3cd-5002770d2e38",
   "metadata": {},
   "outputs": [],
   "source": [
    "%%cpp\n",
    "// Be sure to change the argument to \"READ\", otherwise we would overwrite the file with a blank one.\n",
    "TFile* q2File = TFile::Open(\"q2_tree.root\", \"READ\");\n",
    "\n",
    "// Get the TTree containing the q2 values\n",
    "TTree* q2Tree = (TTree*)q2File->Get(\"newTree\");"
   ]
  },
  {
   "cell_type": "markdown",
   "id": "2534cf27-805c-4d41-acf9-7deb2174c8f7",
   "metadata": {},
   "source": [
    "Plot the $q^2$ distribution."
   ]
  },
  {
   "cell_type": "code",
   "execution_count": 8,
   "id": "a3e6229e-f379-4d8c-96cb-53a6b22e4c7f",
   "metadata": {},
   "outputs": [
    {
     "data": {
      "text/html": [
       "\n",
       "\n",
       "<div id=\"root_plot_1753429449508\" style=\"width: 400px; height: 300px; position: relative\">\n",
       "</div>\n",
       "\n",
       "<script>\n",
       "\n",
       "function display_root_plot_1753429449508(Core) {\n",
       "   let obj = Core.parse({\"_typename\":\"TCanvasWebSnapshot\",\"fUniqueID\":0,\"fBits\":0,\"fObjectID\":\"\",\"fOption\":\"\",\"fKind\":3,\"fSnapshot\":{\"_typename\":\"TCanvas\",\"fUniqueID\":0,\"fBits\":3342344,\"fLineColor\":1,\"fLineStyle\":1,\"fLineWidth\":1,\"fFillColor\":0,\"fFillStyle\":1001,\"fLeftMargin\":0.1,\"fRightMargin\":0.1,\"fBottomMargin\":0.1,\"fTopMargin\":0.1,\"fXfile\":2,\"fYfile\":2,\"fAfile\":1,\"fXstat\":0.99,\"fYstat\":0.99,\"fAstat\":2,\"fFrameFillColor\":0,\"fFrameLineColor\":1,\"fFrameFillStyle\":1001,\"fFrameLineStyle\":1,\"fFrameLineWidth\":1,\"fFrameBorderSize\":1,\"fFrameBorderMode\":0,\"fX1\":-2.50000018626453,\"fY1\":-1028.8688266567,\"fX2\":22.5000001862645,\"fY2\":9259.8188266567,\"fXtoAbsPixelk\":39.600002360344,\"fXtoPixelk\":39.600002360344,\"fXtoPixel\":15.8399997639656,\"fYtoAbsPixelk\":244.799998378754,\"fYtoPixelk\":244.799998378754,\"fYtoPixel\":-0.0264368021622665,\"fUtoAbsPixelk\":0,\"fUtoPixelk\":0,\"fUtoPixel\":396,\"fVtoAbsPixelk\":272,\"fVtoPixelk\":272,\"fVtoPixel\":-272,\"fAbsPixeltoXk\":-2.50000018626453,\"fPixeltoXk\":-2.50000018626453,\"fPixeltoX\":0.0631313140720431,\"fAbsPixeltoYk\":9259.8188266567,\"fPixeltoYk\":-1028.8688266567,\"fPixeltoY\":-37.8260575489463,\"fXlowNDC\":0,\"fYlowNDC\":0,\"fXUpNDC\":1,\"fYUpNDC\":1,\"fWNDC\":1,\"fHNDC\":1,\"fAbsXlowNDC\":0,\"fAbsYlowNDC\":0,\"fAbsWNDC\":1,\"fAbsHNDC\":1,\"fUxmin\":0,\"fUymin\":0,\"fUxmax\":20,\"fUymax\":8230.95,\"fTheta\":30,\"fPhi\":30,\"fAspectRatio\":0,\"fNumber\":0,\"fTickx\":0,\"fTicky\":0,\"fLogx\":0,\"fLogy\":0,\"fLogz\":0,\"fPadPaint\":0,\"fCrosshair\":0,\"fCrosshairPos\":0,\"fBorderSize\":2,\"fBorderMode\":0,\"fModified\":false,\"fGridx\":false,\"fGridy\":false,\"fAbsCoord\":false,\"fEditable\":true,\"fFixedAspectRatio\":false,\"fPrimitives\":{\"_typename\":\"TList\",\"name\":\"TList\",\"arr\":[],\"opt\":[]},\"fExecs\":null,\"fName\":\"c\",\"fTitle\":\"c\",\"fNumPaletteColor\":0,\"fNextPaletteColor\":0,\"fDISPLAY\":\"$DISPLAY\",\"fDoubleBuffer\":0,\"fRetained\":true,\"fXsizeUser\":0,\"fYsizeUser\":0,\"fXsizeReal\":20,\"fYsizeReal\":15,\"fWindowTopX\":0,\"fWindowTopY\":0,\"fWindowWidth\":0,\"fWindowHeight\":0,\"fCw\":396,\"fCh\":272,\"fCatt\":{\"_typename\":\"TAttCanvas\",\"fXBetween\":2,\"fYBetween\":2,\"fTitleFromTop\":1.2,\"fXdate\":0.2,\"fYdate\":0.3,\"fAdate\":1},\"kMoveOpaque\":true,\"kResizeOpaque\":true,\"fHighLightColor\":2,\"fBatch\":true,\"kShowEventStatus\":false,\"kAutoExec\":true,\"kMenuBar\":true},\"fActive\":false,\"fReadOnly\":true,\"fWithoutPrimitives\":false,\"fHasExecs\":false,\"fPrimitives\":[{\"_typename\":\"TWebSnapshot\",\"fUniqueID\":0,\"fBits\":0,\"fObjectID\":\"\",\"fOption\":\"\",\"fKind\":4,\"fSnapshot\":{\"_typename\":\"TWebPainting\",\"fUniqueID\":0,\"fBits\":0,\"fOper\":\"0:255,255,255;1:0,0,0;2:255,0,0;3:0,255,0;4:0,0,255;5:255,255,0;6:255,0,255;7:0,255,255;8:89,211,84;9:89,84,216;10:254,254,254;11:192,182,172;12:76,76,76;13:102,102,102;14:127,127,127;15:153,153,153;16:178,178,178;17:204,204,204;18:229,229,229;19:242,242,242;20:204,198,170;21:204,198,170;22:193,191,168;23:186,181,163;24:178,165,150;25:183,163,155;26:173,153,140;27:155,142,130;28:135,102,86;29:175,206,198;30:132,193,163;31:137,168,160;32:130,158,140;33:173,188,198;34:122,142,153;35:117,137,145;36:104,130,150;37:109,122,132;38:124,153,209;39:127,127,155;40:170,165,191;41:211,206,135;42:221,186,135;43:188,158,130;44:198,153,124;45:191,130,119;46:206,94,96;47:170,142,147;48:165,119,122;49:147,104,112;50:211,89,84;51:146,0,255;52:122,0,255;53:98,0,255;54:74,0,255;55:51,0,255;56:27,0,255;57:3,0,255;58:0,20,255;59:0,44,255;60:0,68,255;61:0,91,255;62:0,115,255;63:0,139,255;64:0,163,255;65:0,187,255;66:0,210,255;67:0,234,255;68:0,255,251;69:0,255,227;70:0,255,204;71:0,255,180;72:0,255,156;73:0,255,132;74:0,255,108;75:0,255,85;76:0,255,61;77:0,255,37;78:0,255,13;79:10,255,0;80:34,255,0;81:57,255,0;82:81,255,0;83:105,255,0;84:129,255,0;85:153,255,0;86:176,255,0;87:200,255,0;88:224,255,0;89:248,255,0;90:255,238,0;91:255,214,0;92:255,190,0;93:255,166,0;94:255,142,0;95:255,119,0;96:255,95,0;97:255,71,0;98:255,47,0;99:255,23,0;100:111,45,168;101:165,42,42;102:178,190,181;103:87,144,252;104:248,156,32;105:228,37,54;106:150,74,139;107:156,156,161;108:122,33,221;109:24,69,251;110:255,94,2;111:201,31,22;112:200,73,169;113:173,173,125;114:134,200,221;115:87,141,255;116:101,99,100;117:63,144,218;118:255,169,14;119:189,31,1;120:148,164,162;121:131,45,182;122:169,107,89;123:231,99,0;124:185,172,112;125:113,117,129;126:146,218,221;127:178,178,178;201:91,91,91;202:122,122,122;203:183,183,183;204:214,214,214;205:137,15,15;206:183,20,20;207:234,71,71;208:239,117,117;209:15,137,15;210:20,183,20;211:71,234,71;212:117,239,117;213:15,15,137;214:20,20,183;215:71,71,234;216:117,117,239;217:137,137,15;218:183,183,20;219:234,234,71;220:239,239,117;221:137,15,137;222:183,20,183;223:234,71,234;224:239,117,239;225:15,137,137;226:20,183,183;227:71,234,234;228:117,239,239;390:255,255,204;391:255,255,153;392:204,204,153;393:255,255,102;394:204,204,102;395:153,153,102;396:255,255,51;397:204,204,51;398:153,153,51;399:102,102,51;400:255,255,0;401:204,204,0;402:153,153,0;403:102,102,0;404:51,51,0;406:204,255,204;407:153,255,153;408:153,204,153;409:102,255,102;410:102,204,102;411:102,153,102;412:51,255,51;413:51,204,51;414:51,153,51;415:51,102,51;416:0,255,0;417:0,204,0;418:0,153,0;419:0,102,0;420:0,51,0;422:204,255,255;423:153,255,255;424:153,204,204;425:102,255,255;426:102,204,204;427:102,153,153;428:51,255,255;429:51,204,204;430:51,153,153;431:51,102,102;432:0,255,255;433:0,204,204;434:0,153,153;435:0,102,102;436:0,51,51;590:204,204,255;591:153,153,255;592:153,153,204;593:102,102,255;594:102,102,204;595:102,102,153;596:51,51,255;597:51,51,204;598:51,51,153;599:51,51,102;600:0,0,255;601:0,0,204;602:0,0,153;603:0,0,102;604:0,0,51;606:255,204,255;607:255,153,255;608:204,153,204;609:255,102,255;610:204,102,204;611:153,102,153;612:255,51,255;613:204,51,204;614:153,51,153;615:102,51,102;616:255,0,255;617:204,0,204;618:153,0,153;619:102,0,102;620:51,0,51;622:255,204,204;623:255,153,153;624:204,153,153;625:255,102,102;626:204,102,102;627:153,102,102;628:255,51,51;629:204,51,51;630:153,51,51;631:102,51,51;632:255,0,0;633:204,0,0;634:153,0,0;635:102,0,0;636:51,0,0;791:255,204,153;792:204,153,102;793:153,102,51;794:153,102,0;795:204,153,51;796:255,204,102;797:255,153,0;798:255,204,51;799:204,153,0;800:255,204,0;801:255,153,51;802:204,102,0;803:102,51,0;804:153,51,0;805:204,102,51;806:255,153,102;807:255,102,0;808:255,102,51;809:204,51,0;810:255,51,0;811:153,255,51;812:102,204,0;813:51,102,0;814:51,153,0;815:102,204,51;816:153,255,102;817:102,255,0;818:102,255,51;819:51,204,0;820:51,255,0;821:204,255,153;822:153,204,102;823:102,153,51;824:102,153,0;825:153,204,51;826:204,255,102;827:153,255,0;828:204,255,51;829:153,204,0;830:204,255,0;831:153,255,204;832:102,204,153;833:51,153,102;834:0,153,102;835:51,204,153;836:102,255,204;837:0,255,102;838:51,255,204;839:0,204,153;840:0,255,204;841:51,255,153;842:0,204,102;843:0,102,51;844:0,153,51;845:51,204,102;846:102,255,153;847:0,255,153;848:51,255,102;849:0,204,51;850:0,255,51;851:153,204,255;852:102,153,204;853:51,102,153;854:0,51,153;855:51,102,204;856:102,153,255;857:0,102,255;858:51,102,255;859:0,51,204;860:0,51,255;861:51,153,255;862:0,102,204;863:0,51,102;864:0,102,153;865:51,153,204;866:102,204,255;867:0,153,255;868:51,204,255;869:0,153,204;870:0,204,255;871:204,153,255;872:153,102,204;873:102,51,153;874:102,0,153;875:153,51,204;876:204,102,255;877:153,0,255;878:204,51,255;879:153,0,204;880:204,0,255;881:153,51,255;882:102,0,204;883:51,0,102;884:51,0,153;885:102,51,204;886:153,102,255;887:102,0,255;888:102,51,255;889:51,0,204;890:51,0,255;891:255,51,153;892:204,0,102;893:102,0,51;894:153,0,51;895:204,51,102;896:255,102,153;897:255,0,102;898:255,51,102;899:204,0,51;900:255,0,51;901:255,153,204;902:204,102,153;903:153,51,102;904:153,0,102;905:204,51,153;906:255,102,204;907:255,0,153;908:204,0,153;909:255,51,204;910:255,0,153;920:204,204,204;921:153,153,153;922:102,102,102;923:51,51,51;924:53,42,134;925:51,44,137;926:50,45,140;927:49,47,143;928:48,48,146;929:46,50,148;930:45,51,151;931:44,53,154;932:43,55,157;933:42,56,160;934:40,58,162;935:39,59,165;936:38,61,168;937:37,63,171;938:35,64,174;939:34,66,176;940:33,67,179;941:32,69,182;942:31,71,185;943:29,72,187;944:28,74,190;945:27,75,193;946:26,77,196;947:24,79,199;948:23,80,201;949:22,82,204;950:21,83,207;951:19,85,210;952:18,86,213;953:17,88,215;954:16,90,218;955:15,91,221;956:15,92,221;957:15,94,220;958:15,95,220;959:15,96,220;960:15,97,220;961:15,98,220;962:16,99,219;963:16,100,219;964:16,102,219;965:16,103,219;966:16,104,218;967:16,105,218;968:17,106,218;969:17,107,218;970:17,109,217;971:17,110,217;972:17,111,217;973:17,112,217;974:17,113,216;975:18,114,216;976:18,115,216;977:18,117,216;978:18,118,215;979:18,119,215;980:18,120,215;981:18,121,215;982:19,122,215;983:19,123,214;984:19,125,214;985:19,126,214;986:19,127,214;987:19,128,213;988:19,129,213;989:19,130,213;990:18,131,212;991:18,132,212;992:17,134,211;993:17,135,211;994:16,136,211;995:16,137,210;996:15,138,210;997:15,139,210;998:15,140,209;999:14,141,209;1000:14,142,208;1001:13,143,208;1002:13,145,208;1003:12,146,207;1004:12,147,207;1005:12,148,207;1006:11,149,206;1007:11,150,206;1008:10,151,205;1009:10,152,205;1010:9,153,205;1011:9,154,204;1012:8,155,204;1013:8,157,204;1014:8,158,203;1015:7,159,203;1016:7,160,202;1017:6,161,202;1018:6,162,202;1019:5,163,201;1020:7,164,200;1021:8,164,199;1022:9,165,198;1023:10,166,197;1024:12,166,195;1025:13,167,194;1026:14,167,193;1027:15,168,192;1028:17,169,191;1029:18,169,189;1030:19,170,188;1031:20,170,187;1032:22,171,186;1033:23,172,185;1034:24,172,184;1035:25,173,182;1036:27,173,181;1037:28,174,180;1038:29,175,179;1039:30,175,178;1040:32,176,176;1041:33,176,175;1042:34,177,174;1043:35,178,173;1044:37,178,172;1045:38,179,170;1046:39,180,169;1047:40,180,168;1048:42,181,167;1049:43,181,166;1050:44,182,165;1051:45,183,163;1052:48,183,162;1053:51,183,161;1054:54,183,159;1055:57,184,158;1056:59,184,156;1057:62,184,155;1058:65,184,154;1059:68,185,152;1060:71,185,151;1061:73,185,149;1062:76,185,148;1063:79,186,146;1064:82,186,145;1065:84,186,144;1066:87,186,142;1067:90,187,141;1068:93,187,139;1069:96,187,138;1070:98,187,137;1071:101,188,135;1072:104,188,134;1073:107,188,132;1074:110,188,131;1075:112,189,130;1076:115,189,128;1077:118,189,127;1078:121,189,125;1079:124,190,124;1080:126,190,123;1081:129,190,121;1082:132,190,120;1083:135,191,118;1084:137,190,117;1085:139,190,117;1086:142,190,116;1087:144,190,115;1088:146,190,114;1089:148,190,113;1090:151,190,112;1091:153,190,111;1092:155,189,110;1093:158,189,109;1094:160,189,108;1095:162,189,107;1096:165,189,106;1097:167,189,105;1098:169,189,104;1099:171,188,104;1100:174,188,103;1101:176,188,102;1102:178,188,101;1103:181,188,100;1104:183,188,99;1105:185,188,98;1106:188,188,97;1107:190,187,96;1108:192,187,95;1109:194,187,94;1110:197,187,93;1111:199,187,92;1112:201,187,92;1113:204,187,91;1114:206,186,90;1115:208,186,89;1116:210,187,88;1117:211,187,86;1118:212,188,85;1119:214,188,84;1120:215,188,83;1121:217,189,81;1122:218,189,80;1123:220,190,79;1124:221,190,78;1125:222,191,77;1126:224,191,75;1127:225,191,74;1128:227,192,73;1129:228,192,72;1130:229,193,70;1131:231,193,69;1132:232,194,68;1133:234,194,67;1134:235,194,66;1135:236,195,64;1136:238,195,63;1137:239,196,62;1138:241,196,61;1139:242,197,59;1140:244,197,58;1141:245,197,57;1142:246,198,56;1143:248,198,55;1144:249,199,53;1145:251,199,52;1146:252,200,51;1147:253,200,50;1148:253,202,49;1149:253,203,47;1150:253,205,46;1151:253,206,45;1152:253,208,44;1153:252,209,43;1154:252,211,42;1155:252,213,41;1156:252,214,39;1157:252,216,38;1158:252,217,37;1159:252,219,36;1160:251,220,35;1161:251,222,34;1162:251,224,33;1163:251,225,31;1164:251,227,30;1165:251,228,29;1166:250,230,28;1167:250,231,27;1168:250,233,26;1169:250,235,25;1170:250,236,23;1171:250,238,22;1172:250,239,21;1173:249,241,20;1174:249,242,19;1175:249,244,18;1176:249,246,17;1177:249,247,16;1178:249,249,14\",\"fBuf\":{\"$arr\":\"Float32\",\"len\":255,\"v\":[924,925,926,927,928,929,930,931,932,933,934,935,936,937,938,939,940,941,942,943,944,945,946,947,948,949,950,951,952,953,954,955,956,957,958,959,960,961,962,963,964,965,966,967,968,969,970,971,972,973,974,975,976,977,978,979,980,981,982,983,984,985,986,987,988,989,990,991,992,993,994,995,996,997,998,999,1000,1001,1002,1003,1004,1005,1006,1007,1008,1009,1010,1011,1012,1013,1014,1015,1016,1017,1018,1019,1020,1021,1022,1023,1024,1025,1026,1027,1028,1029,1030,1031,1032,1033,1034,1035,1036,1037,1038,1039,1040,1041,1042,1043,1044,1045,1046,1047,1048,1049,1050,1051,1052,1053,1054,1055,1056,1057,1058,1059,1060,1061,1062,1063,1064,1065,1066,1067,1068,1069,1070,1071,1072,1073,1074,1075,1076,1077,1078,1079,1080,1081,1082,1083,1084,1085,1086,1087,1088,1089,1090,1091,1092,1093,1094,1095,1096,1097,1098,1099,1100,1101,1102,1103,1104,1105,1106,1107,1108,1109,1110,1111,1112,1113,1114,1115,1116,1117,1118,1119,1120,1121,1122,1123,1124,1125,1126,1127,1128,1129,1130,1131,1132,1133,1134,1135,1136,1137,1138,1139,1140,1141,1142,1143,1144,1145,1146,1147,1148,1149,1150,1151,1152,1153,1154,1155,1156,1157,1158,1159,1160,1161,1162,1163,1164,1165,1166,1167,1168,1169,1170,1171,1172,1173,1174,1175,1176,1177,1178]}}},{\"_typename\":\"TWebSnapshot\",\"fUniqueID\":0,\"fBits\":0,\"fObjectID\":\"\",\"fOption\":\"\",\"fKind\":5,\"fSnapshot\":{\"_typename\":\"TStyle\",\"fUniqueID\":0,\"fBits\":0,\"fName\":\"Modern\",\"fTitle\":\"Modern Style\",\"fLineColor\":1,\"fLineStyle\":1,\"fLineWidth\":1,\"fFillColor\":19,\"fFillStyle\":1001,\"fMarkerColor\":1,\"fMarkerStyle\":1,\"fMarkerSize\":1,\"fTextAngle\":0,\"fTextSize\":0.05,\"fTextAlign\":11,\"fTextColor\":1,\"fTextFont\":62,\"fXaxis\":{\"_typename\":\"TAttAxis\",\"fNdivisions\":510,\"fAxisColor\":1,\"fLabelColor\":1,\"fLabelFont\":42,\"fLabelOffset\":0.005,\"fLabelSize\":0.035,\"fTickLength\":0.03,\"fTitleOffset\":1,\"fTitleSize\":0.035,\"fTitleColor\":1,\"fTitleFont\":42},\"fYaxis\":{\"_typename\":\"TAttAxis\",\"fNdivisions\":510,\"fAxisColor\":1,\"fLabelColor\":1,\"fLabelFont\":42,\"fLabelOffset\":0.005,\"fLabelSize\":0.035,\"fTickLength\":0.03,\"fTitleOffset\":0,\"fTitleSize\":0.035,\"fTitleColor\":1,\"fTitleFont\":42},\"fZaxis\":{\"_typename\":\"TAttAxis\",\"fNdivisions\":510,\"fAxisColor\":1,\"fLabelColor\":1,\"fLabelFont\":42,\"fLabelOffset\":0.005,\"fLabelSize\":0.035,\"fTickLength\":0.03,\"fTitleOffset\":1,\"fTitleSize\":0.035,\"fTitleColor\":1,\"fTitleFont\":42},\"fBarWidth\":1,\"fBarOffset\":0,\"fColorModelPS\":0,\"fDrawBorder\":0,\"fOptLogx\":0,\"fOptLogy\":0,\"fOptLogz\":0,\"fOptDate\":0,\"fOptStat\":1111,\"fOptTitle\":1,\"fOptFile\":0,\"fOptFit\":0,\"fShowEventStatus\":0,\"fShowEditor\":0,\"fShowToolBar\":0,\"fNumberContours\":20,\"fAttDate\":{\"_typename\":\"TAttText\",\"fTextAngle\":0,\"fTextSize\":0.025,\"fTextAlign\":11,\"fTextColor\":1,\"fTextFont\":62},\"fDateX\":0.01,\"fDateY\":0.01,\"fEndErrorSize\":2,\"fErrorX\":0.5,\"fFuncColor\":2,\"fFuncStyle\":1,\"fFuncWidth\":2,\"fGridColor\":0,\"fGridStyle\":3,\"fGridWidth\":1,\"fLegendBorderSize\":1,\"fLegendFillColor\":0,\"fLegendFillStyle\":1001,\"fLegendFont\":42,\"fLegendTextSize\":0,\"fHatchesLineWidth\":1,\"fHatchesSpacing\":1,\"fFrameFillColor\":0,\"fFrameLineColor\":1,\"fFrameFillStyle\":1001,\"fFrameLineStyle\":1,\"fFrameLineWidth\":1,\"fFrameBorderSize\":1,\"fFrameBorderMode\":0,\"fHistFillColor\":0,\"fHistLineColor\":602,\"fHistFillStyle\":1001,\"fHistLineStyle\":1,\"fHistLineWidth\":1,\"fHistMinimumZero\":false,\"fHistTopMargin\":0.05,\"fCanvasPreferGL\":false,\"fCanvasColor\":0,\"fCanvasBorderSize\":2,\"fCanvasBorderMode\":0,\"fCanvasDefH\":500,\"fCanvasDefW\":700,\"fCanvasDefX\":10,\"fCanvasDefY\":10,\"fPadColor\":0,\"fPadBorderSize\":2,\"fPadBorderMode\":0,\"fPadBottomMargin\":0.1,\"fPadTopMargin\":0.1,\"fPadLeftMargin\":0.1,\"fPadRightMargin\":0.1,\"fPadGridX\":false,\"fPadGridY\":false,\"fPadTickX\":0,\"fPadTickY\":0,\"fPaperSizeX\":20,\"fPaperSizeY\":26,\"fScreenFactor\":1,\"fStatColor\":0,\"fStatTextColor\":1,\"fStatBorderSize\":1,\"fStatFont\":42,\"fStatFontSize\":0,\"fStatStyle\":1001,\"fStatFormat\":\"6.4g\",\"fStatX\":0.98,\"fStatY\":0.935,\"fStatW\":0.2,\"fStatH\":0.16,\"fStripDecimals\":true,\"fTitleAlign\":23,\"fTitleColor\":0,\"fTitleTextColor\":1,\"fTitleBorderSize\":0,\"fTitleFont\":42,\"fTitleFontSize\":0.05,\"fTitleStyle\":0,\"fTitleX\":0.5,\"fTitleY\":0.995,\"fTitleW\":0,\"fTitleH\":0,\"fLegoInnerR\":0.5,\"fLineStyles\":[\"\",\"  \",\" 12 12\",\" 4 8\",\" 12 16 4 16\",\" 20 12 4 12\",\" 20 12 4 12 4 12 4 12\",\" 20 20\",\" 20 12 4 12 4 12\",\" 80 20\",\" 80 40 4 40\",\"  \",\"  \",\"  \",\"  \",\"  \",\"  \",\"  \",\"  \",\"  \",\"  \",\"  \",\"  \",\"  \",\"  \",\"  \",\"  \",\"  \",\"  \",\"  \"],\"fHeaderPS\":\"\",\"fTitlePS\":\"\",\"fFitFormat\":\"5.4g\",\"fPaintTextFormat\":\"g\",\"fLineScalePS\":3,\"fJoinLinePS\":0,\"fCapLinePS\":0,\"fTimeOffset\":788918400,\"fImageScaling\":1,\"fCandleWhiskerRange\":1,\"fCandleBoxRange\":0.5,\"fCandleScaled\":false,\"fViolinScaled\":true,\"fXAxisExpXOffset\":0,\"fXAxisExpYOffset\":0,\"fYAxisExpXOffset\":0,\"fYAxisExpYOffset\":0,\"fAxisMaxDigits\":5,\"fOrthoCamera\":false}},{\"_typename\":\"TWebSnapshot\",\"fUniqueID\":0,\"fBits\":0,\"fObjectID\":\"\",\"fOption\":\"\",\"fKind\":1,\"fSnapshot\":{\"_typename\":\"TFrame\",\"fUniqueID\":0,\"fBits\":8,\"fLineColor\":1,\"fLineStyle\":1,\"fLineWidth\":1,\"fFillColor\":0,\"fFillStyle\":1001,\"fX1\":0,\"fY1\":0,\"fX2\":20,\"fY2\":8230.95,\"fBorderSize\":1,\"fBorderMode\":0}},{\"_typename\":\"TWebSnapshot\",\"fUniqueID\":0,\"fBits\":0,\"fObjectID\":\"\",\"fOption\":\"\",\"fKind\":1,\"fSnapshot\":{\"_typename\":\"TH1D\",\"fUniqueID\":0,\"fBits\":8,\"fName\":\"hq2\",\"fTitle\":\"\",\"fLineColor\":602,\"fLineStyle\":1,\"fLineWidth\":1,\"fFillColor\":0,\"fFillStyle\":1001,\"fMarkerColor\":1,\"fMarkerStyle\":1,\"fMarkerSize\":1,\"fNcells\":102,\"fXaxis\":{\"_typename\":\"TAxis\",\"fUniqueID\":0,\"fBits\":0,\"fName\":\"xaxis\",\"fTitle\":\"#it{q}^{2} [GeV^{2}\\/#it{c}^{4}]\",\"fNdivisions\":510,\"fAxisColor\":1,\"fLabelColor\":1,\"fLabelFont\":42,\"fLabelOffset\":0.005,\"fLabelSize\":0.035,\"fTickLength\":0.03,\"fTitleOffset\":1,\"fTitleSize\":0.035,\"fTitleColor\":1,\"fTitleFont\":42,\"fNbins\":100,\"fXmin\":0,\"fXmax\":20,\"fXbins\":[],\"fFirst\":0,\"fLast\":0,\"fBits2\":0,\"fTimeDisplay\":false,\"fTimeFormat\":\"\",\"fLabels\":null,\"fModLabs\":null},\"fYaxis\":{\"_typename\":\"TAxis\",\"fUniqueID\":0,\"fBits\":0,\"fName\":\"yaxis\",\"fTitle\":\"Events\",\"fNdivisions\":510,\"fAxisColor\":1,\"fLabelColor\":1,\"fLabelFont\":42,\"fLabelOffset\":0.005,\"fLabelSize\":0.035,\"fTickLength\":0.03,\"fTitleOffset\":0,\"fTitleSize\":0.035,\"fTitleColor\":1,\"fTitleFont\":42,\"fNbins\":1,\"fXmin\":0,\"fXmax\":1,\"fXbins\":[],\"fFirst\":0,\"fLast\":0,\"fBits2\":0,\"fTimeDisplay\":false,\"fTimeFormat\":\"\",\"fLabels\":null,\"fModLabs\":null},\"fZaxis\":{\"_typename\":\"TAxis\",\"fUniqueID\":0,\"fBits\":0,\"fName\":\"zaxis\",\"fTitle\":\"\",\"fNdivisions\":510,\"fAxisColor\":1,\"fLabelColor\":1,\"fLabelFont\":42,\"fLabelOffset\":0.005,\"fLabelSize\":0.035,\"fTickLength\":0.03,\"fTitleOffset\":1,\"fTitleSize\":0.035,\"fTitleColor\":1,\"fTitleFont\":42,\"fNbins\":1,\"fXmin\":0,\"fXmax\":1,\"fXbins\":[],\"fFirst\":0,\"fLast\":0,\"fBits2\":0,\"fTimeDisplay\":false,\"fTimeFormat\":\"\",\"fLabels\":null,\"fModLabs\":null},\"fBarOffset\":0,\"fBarWidth\":1000,\"fEntries\":128208,\"fTsumw\":128189,\"fTsumw2\":128189,\"fTsumwx\":1112203.47439024,\"fTsumwx2\":13330244.4623382,\"fMaximum\":-1111,\"fMinimum\":-1111,\"fNormFactor\":0,\"fContour\":[],\"fSumw2\":[],\"fOption\":\"\",\"fFunctions\":{\"_typename\":\"TList\",\"name\":\"TList\",\"arr\":[{\"_typename\":\"TPaveStats\",\"fUniqueID\":0,\"fBits\":9,\"fLineColor\":1,\"fLineStyle\":1,\"fLineWidth\":1,\"fFillColor\":0,\"fFillStyle\":1001,\"fX1\":17.0000005066395,\"fY1\":6944.86416598654,\"fX2\":22.0000006556511,\"fY2\":8591.05415372147,\"fX1NDC\":0.780000016093254,\"fY1NDC\":0.775000005960464,\"fX2NDC\":0.980000019073486,\"fY2NDC\":0.935000002384186,\"fBorderSize\":1,\"fInit\":1,\"fShadowColor\":1,\"fCornerRadius\":0,\"fOption\":\"brNDC\",\"fName\":\"stats\",\"fTextAngle\":0,\"fTextSize\":0,\"fTextAlign\":12,\"fTextColor\":1,\"fTextFont\":42,\"fLabel\":\"\",\"fLongest\":18,\"fMargin\":0.05,\"fLines\":{\"_typename\":\"TList\",\"name\":\"TList\",\"arr\":[{\"_typename\":\"TLatex\",\"fUniqueID\":0,\"fBits\":0,\"fName\":\"\",\"fTitle\":\"hq2\",\"fTextAngle\":0,\"fTextSize\":0.0368,\"fTextAlign\":0,\"fTextColor\":0,\"fTextFont\":0,\"fX\":0,\"fY\":0,\"fLineColor\":1,\"fLineStyle\":1,\"fLineWidth\":2,\"fLimitFactorSize\":3,\"fOriginSize\":0.0368000008165836},{\"_typename\":\"TLatex\",\"fUniqueID\":0,\"fBits\":0,\"fName\":\"\",\"fTitle\":\"Entries = 128208 \",\"fTextAngle\":0,\"fTextSize\":0,\"fTextAlign\":0,\"fTextColor\":0,\"fTextFont\":0,\"fX\":0,\"fY\":0,\"fLineColor\":1,\"fLineStyle\":1,\"fLineWidth\":2,\"fLimitFactorSize\":3,\"fOriginSize\":0.04},{\"_typename\":\"TLatex\",\"fUniqueID\":0,\"fBits\":0,\"fName\":\"\",\"fTitle\":\"Mean  =  8.676\",\"fTextAngle\":0,\"fTextSize\":0,\"fTextAlign\":0,\"fTextColor\":0,\"fTextFont\":0,\"fX\":0,\"fY\":0,\"fLineColor\":1,\"fLineStyle\":1,\"fLineWidth\":2,\"fLimitFactorSize\":3,\"fOriginSize\":0.04},{\"_typename\":\"TLatex\",\"fUniqueID\":0,\"fBits\":0,\"fName\":\"\",\"fTitle\":\"Std Dev   =  5.358\",\"fTextAngle\":0,\"fTextSize\":0,\"fTextAlign\":0,\"fTextColor\":0,\"fTextFont\":0,\"fX\":0,\"fY\":0,\"fLineColor\":1,\"fLineStyle\":1,\"fLineWidth\":2,\"fLimitFactorSize\":3,\"fOriginSize\":0.04}],\"opt\":[\"\",\"\",\"\",\"\"]},\"fOptFit\":0,\"fOptStat\":1111,\"fFitFormat\":\"5.4g\",\"fStatFormat\":\"6.4g\",\"fParent\":{\"$ref\":15}}],\"opt\":[\"brNDC\"]},\"fBufferSize\":0,\"fBuffer\":[],\"fBinStatErrOpt\":0,\"fStatOverflows\":2,\"fArray\":{\"$arr\":\"Float64\",\"len\":102,\"p\":1,\"v\":[7839,3683,2258,1616,1341,1184,1111,991,953,991,939,932,897,950,957,948,933,922,969,925,1055,981,1002,1071,1048,1075,1068,1105,1076,1236,1362,1205,1278,1297,1279,1358,1371,1368,1371,1441,1467,1505,1524,1473,1541,1552,1577,1650,1645,1549,1736,1605,1652,1661,1633,1664,1670,1624,1673,1673,1630,1667,1691,1687,1587,1612,1574,1593,1581,1635,1520,1478,1435,1514,1478,1396,1273,1251,1192,1183,1087,1074,979,981,924,848,752,699,652,578,531,468,392,292,233,144,69,29,14,6,19]}}}],\"fScripts\":\"\",\"fHighlightConnect\":false,\"fFixedSize\":false});\n",
       "   Core.settings.HandleKeys = false;\n",
       "   Core.draw(\"root_plot_1753429449508\", obj, \"\");\n",
       "}\n",
       "\n",
       "function script_load_root_plot_1753429449508(src, on_error) {\n",
       "    let script = document.createElement('script');\n",
       "    script.src = src;\n",
       "    script.onload = function() { display_root_plot_1753429449508(JSROOT); };\n",
       "    script.onerror = function() { script.remove(); on_error(); };\n",
       "    document.head.appendChild(script);\n",
       "}\n",
       "\n",
       "if (typeof requirejs !== 'undefined') {\n",
       "\n",
       "    // We are in jupyter notebooks, use require.js which should be configured already\n",
       "    requirejs.config({\n",
       "       paths: { 'JSRootCore' : [ 'build/jsroot', 'https://root.cern/js/7.7.4/build/jsroot', 'https://jsroot.gsi.de/7.7.4/build/jsroot' ] }\n",
       "    })(['JSRootCore'],  function(Core) {\n",
       "       display_root_plot_1753429449508(Core);\n",
       "    });\n",
       "\n",
       "} else if (typeof JSROOT !== 'undefined') {\n",
       "\n",
       "   // JSROOT already loaded, just use it\n",
       "   display_root_plot_1753429449508(JSROOT);\n",
       "\n",
       "} else {\n",
       "\n",
       "    // We are in jupyterlab without require.js, directly loading jsroot\n",
       "    // Jupyterlab might be installed in a different base_url so we need to know it.\n",
       "    try {\n",
       "        var base_url = JSON.parse(document.getElementById('jupyter-config-data').innerHTML).baseUrl;\n",
       "    } catch(_) {\n",
       "        var base_url = '/';\n",
       "    }\n",
       "\n",
       "    // Try loading a local version of requirejs and fallback to cdn if not possible.\n",
       "    script_load_root_plot_1753429449508(base_url + 'static/build/jsroot.js', function(){\n",
       "        console.error('Fail to load JSROOT locally, please check your jupyter_notebook_config.py file');\n",
       "        script_load_root_plot_1753429449508('https://root.cern/js/7.7.4/build/jsroot.js', function(){\n",
       "            document.getElementById(\"root_plot_1753429449508\").innerHTML = \"Failed to load JSROOT\";\n",
       "        });\n",
       "    });\n",
       "}\n",
       "\n",
       "</script>\n"
      ],
      "text/plain": [
       "<IPython.core.display.HTML object>"
      ]
     },
     "metadata": {},
     "output_type": "display_data"
    }
   ],
   "source": [
    "%%cpp\n",
    "c.Clear();\n",
    "TH1D hq2(\"hq2\", \";#it{q}^{2} [GeV^{2}/#it{c}^{4}];Events\", 100, 0, 20);\n",
    "q2Tree->Draw(\"q2>>hq2\");\n",
    "hq2.Draw();\n",
    "c.Draw();"
   ]
  },
  {
   "cell_type": "code",
   "execution_count": 9,
   "id": "ee8a4a88-425d-4516-846c-c2d4e408d16f",
   "metadata": {},
   "outputs": [],
   "source": [
    "%%cpp\n",
    "q2File->Close();"
   ]
  },
  {
   "cell_type": "markdown",
   "id": "030d5b4a-6268-468f-b2bd-da69b57a1627",
   "metadata": {},
   "source": [
    "#### Friend trees\n",
    "\n",
    "Rarely is it ever necessary in ROOT to modify the contents of an existing TTree or the contents of an existing TFile.\n",
    "\n",
    "Creating new derived branches is indeed a very common operation, e.g. for calculating new kinematic varriables as above, for storing event weights, MVA scores, etc.\n",
    "\n",
    "It is tempting to think that it would be much more convenient to have all branches in the one tree. But as discussed above, there are reasons to avoid this.\n",
    "\n",
    "The solution is to use *friend trees*.\n",
    "\n",
    "If new branches need to be created to store derived values, e.g. the $q^2$ value as we did above, then it can be stored in a separate TTree and written to a separate TFile.\n",
    "\n",
    "The new tree can then be listed a *freind* of the original tree, allowing its contents to be accessed as if it were part of the same tree, despite being stored in a different location. \n",
    "\n",
    "**One assumption to keep in mind is that the two trees need to have the same number and ordering of events.**"
   ]
  },
  {
   "cell_type": "code",
   "execution_count": 10,
   "id": "49f5ba23-5876-43af-9ee9-a5ec7d27c440",
   "metadata": {},
   "outputs": [],
   "source": [
    "%%cpp\n",
    "tree->AddFriend(\"newTree\", \"q2_tree.root\");"
   ]
  },
  {
   "cell_type": "code",
   "execution_count": 11,
   "id": "8fe5f0e0-60dc-43bd-a2d3-33b3e07eaa98",
   "metadata": {},
   "outputs": [
    {
     "data": {
      "text/html": [
       "\n",
       "\n",
       "<div id=\"root_plot_1753429463282\" style=\"width: 400px; height: 300px; position: relative\">\n",
       "</div>\n",
       "\n",
       "<script>\n",
       "\n",
       "function display_root_plot_1753429463282(Core) {\n",
       "   let obj = Core.parse({\"_typename\":\"TCanvasWebSnapshot\",\"fUniqueID\":0,\"fBits\":0,\"fObjectID\":\"\",\"fOption\":\"\",\"fKind\":3,\"fSnapshot\":{\"_typename\":\"TCanvas\",\"fUniqueID\":0,\"fBits\":3342344,\"fLineColor\":1,\"fLineStyle\":1,\"fLineWidth\":1,\"fFillColor\":0,\"fFillStyle\":1001,\"fLeftMargin\":0.1,\"fRightMargin\":0.1,\"fBottomMargin\":0.1,\"fTopMargin\":0.1,\"fXfile\":2,\"fYfile\":2,\"fAfile\":1,\"fXstat\":0.99,\"fYstat\":0.99,\"fAstat\":2,\"fFrameFillColor\":0,\"fFrameLineColor\":1,\"fFrameFillStyle\":1001,\"fFrameLineStyle\":1,\"fFrameLineWidth\":1,\"fFrameBorderSize\":1,\"fFrameBorderMode\":0,\"fX1\":-2.50000018626453,\"fY1\":4512.49997857958,\"fX2\":22.5000001862645,\"fY2\":7387.50002142042,\"fXtoAbsPixelk\":39.600002360344,\"fXtoPixelk\":39.600002360344,\"fXtoPixel\":15.8399997639656,\"fYtoAbsPixelk\":698.921730742247,\"fYtoPixelk\":698.921730742247,\"fYtoPixel\":-0.0946086942423944,\"fUtoAbsPixelk\":0,\"fUtoPixelk\":0,\"fUtoPixel\":396,\"fVtoAbsPixelk\":272,\"fVtoPixelk\":272,\"fVtoPixel\":-272,\"fAbsPixeltoXk\":-2.50000018626453,\"fPixeltoXk\":-2.50000018626453,\"fPixeltoX\":0.0631313140720431,\"fAbsPixeltoYk\":7387.50002142042,\"fPixeltoYk\":4512.49997857958,\"fPixeltoY\":-10.5698530986796,\"fXlowNDC\":0,\"fYlowNDC\":0,\"fXUpNDC\":1,\"fYUpNDC\":1,\"fWNDC\":1,\"fHNDC\":1,\"fAbsXlowNDC\":0,\"fAbsYlowNDC\":0,\"fAbsWNDC\":1,\"fAbsHNDC\":1,\"fUxmin\":0,\"fUymin\":4800,\"fUxmax\":20,\"fUymax\":7100,\"fTheta\":30,\"fPhi\":30,\"fAspectRatio\":0,\"fNumber\":0,\"fTickx\":0,\"fTicky\":0,\"fLogx\":0,\"fLogy\":0,\"fLogz\":0,\"fPadPaint\":0,\"fCrosshair\":0,\"fCrosshairPos\":0,\"fBorderSize\":2,\"fBorderMode\":0,\"fModified\":false,\"fGridx\":false,\"fGridy\":false,\"fAbsCoord\":false,\"fEditable\":true,\"fFixedAspectRatio\":false,\"fPrimitives\":{\"_typename\":\"TList\",\"name\":\"TList\",\"arr\":[],\"opt\":[]},\"fExecs\":null,\"fName\":\"c\",\"fTitle\":\"c\",\"fNumPaletteColor\":0,\"fNextPaletteColor\":0,\"fDISPLAY\":\"$DISPLAY\",\"fDoubleBuffer\":0,\"fRetained\":true,\"fXsizeUser\":0,\"fYsizeUser\":0,\"fXsizeReal\":20,\"fYsizeReal\":15,\"fWindowTopX\":0,\"fWindowTopY\":0,\"fWindowWidth\":0,\"fWindowHeight\":0,\"fCw\":396,\"fCh\":272,\"fCatt\":{\"_typename\":\"TAttCanvas\",\"fXBetween\":2,\"fYBetween\":2,\"fTitleFromTop\":1.2,\"fXdate\":0.2,\"fYdate\":0.3,\"fAdate\":1},\"kMoveOpaque\":true,\"kResizeOpaque\":true,\"fHighLightColor\":2,\"fBatch\":true,\"kShowEventStatus\":false,\"kAutoExec\":true,\"kMenuBar\":true},\"fActive\":false,\"fReadOnly\":true,\"fWithoutPrimitives\":false,\"fHasExecs\":false,\"fPrimitives\":[{\"_typename\":\"TWebSnapshot\",\"fUniqueID\":0,\"fBits\":0,\"fObjectID\":\"\",\"fOption\":\"\",\"fKind\":4,\"fSnapshot\":{\"_typename\":\"TWebPainting\",\"fUniqueID\":0,\"fBits\":0,\"fOper\":\"0:255,255,255;1:0,0,0;2:255,0,0;3:0,255,0;4:0,0,255;5:255,255,0;6:255,0,255;7:0,255,255;8:89,211,84;9:89,84,216;10:254,254,254;11:192,182,172;12:76,76,76;13:102,102,102;14:127,127,127;15:153,153,153;16:178,178,178;17:204,204,204;18:229,229,229;19:242,242,242;20:204,198,170;21:204,198,170;22:193,191,168;23:186,181,163;24:178,165,150;25:183,163,155;26:173,153,140;27:155,142,130;28:135,102,86;29:175,206,198;30:132,193,163;31:137,168,160;32:130,158,140;33:173,188,198;34:122,142,153;35:117,137,145;36:104,130,150;37:109,122,132;38:124,153,209;39:127,127,155;40:170,165,191;41:211,206,135;42:221,186,135;43:188,158,130;44:198,153,124;45:191,130,119;46:206,94,96;47:170,142,147;48:165,119,122;49:147,104,112;50:211,89,84;51:146,0,255;52:122,0,255;53:98,0,255;54:74,0,255;55:51,0,255;56:27,0,255;57:3,0,255;58:0,20,255;59:0,44,255;60:0,68,255;61:0,91,255;62:0,115,255;63:0,139,255;64:0,163,255;65:0,187,255;66:0,210,255;67:0,234,255;68:0,255,251;69:0,255,227;70:0,255,204;71:0,255,180;72:0,255,156;73:0,255,132;74:0,255,108;75:0,255,85;76:0,255,61;77:0,255,37;78:0,255,13;79:10,255,0;80:34,255,0;81:57,255,0;82:81,255,0;83:105,255,0;84:129,255,0;85:153,255,0;86:176,255,0;87:200,255,0;88:224,255,0;89:248,255,0;90:255,238,0;91:255,214,0;92:255,190,0;93:255,166,0;94:255,142,0;95:255,119,0;96:255,95,0;97:255,71,0;98:255,47,0;99:255,23,0;100:111,45,168;101:165,42,42;102:178,190,181;103:87,144,252;104:248,156,32;105:228,37,54;106:150,74,139;107:156,156,161;108:122,33,221;109:24,69,251;110:255,94,2;111:201,31,22;112:200,73,169;113:173,173,125;114:134,200,221;115:87,141,255;116:101,99,100;117:63,144,218;118:255,169,14;119:189,31,1;120:148,164,162;121:131,45,182;122:169,107,89;123:231,99,0;124:185,172,112;125:113,117,129;126:146,218,221;127:178,178,178;201:91,91,91;202:122,122,122;203:183,183,183;204:214,214,214;205:137,15,15;206:183,20,20;207:234,71,71;208:239,117,117;209:15,137,15;210:20,183,20;211:71,234,71;212:117,239,117;213:15,15,137;214:20,20,183;215:71,71,234;216:117,117,239;217:137,137,15;218:183,183,20;219:234,234,71;220:239,239,117;221:137,15,137;222:183,20,183;223:234,71,234;224:239,117,239;225:15,137,137;226:20,183,183;227:71,234,234;228:117,239,239;390:255,255,204;391:255,255,153;392:204,204,153;393:255,255,102;394:204,204,102;395:153,153,102;396:255,255,51;397:204,204,51;398:153,153,51;399:102,102,51;400:255,255,0;401:204,204,0;402:153,153,0;403:102,102,0;404:51,51,0;406:204,255,204;407:153,255,153;408:153,204,153;409:102,255,102;410:102,204,102;411:102,153,102;412:51,255,51;413:51,204,51;414:51,153,51;415:51,102,51;416:0,255,0;417:0,204,0;418:0,153,0;419:0,102,0;420:0,51,0;422:204,255,255;423:153,255,255;424:153,204,204;425:102,255,255;426:102,204,204;427:102,153,153;428:51,255,255;429:51,204,204;430:51,153,153;431:51,102,102;432:0,255,255;433:0,204,204;434:0,153,153;435:0,102,102;436:0,51,51;590:204,204,255;591:153,153,255;592:153,153,204;593:102,102,255;594:102,102,204;595:102,102,153;596:51,51,255;597:51,51,204;598:51,51,153;599:51,51,102;600:0,0,255;601:0,0,204;602:0,0,153;603:0,0,102;604:0,0,51;606:255,204,255;607:255,153,255;608:204,153,204;609:255,102,255;610:204,102,204;611:153,102,153;612:255,51,255;613:204,51,204;614:153,51,153;615:102,51,102;616:255,0,255;617:204,0,204;618:153,0,153;619:102,0,102;620:51,0,51;622:255,204,204;623:255,153,153;624:204,153,153;625:255,102,102;626:204,102,102;627:153,102,102;628:255,51,51;629:204,51,51;630:153,51,51;631:102,51,51;632:255,0,0;633:204,0,0;634:153,0,0;635:102,0,0;636:51,0,0;791:255,204,153;792:204,153,102;793:153,102,51;794:153,102,0;795:204,153,51;796:255,204,102;797:255,153,0;798:255,204,51;799:204,153,0;800:255,204,0;801:255,153,51;802:204,102,0;803:102,51,0;804:153,51,0;805:204,102,51;806:255,153,102;807:255,102,0;808:255,102,51;809:204,51,0;810:255,51,0;811:153,255,51;812:102,204,0;813:51,102,0;814:51,153,0;815:102,204,51;816:153,255,102;817:102,255,0;818:102,255,51;819:51,204,0;820:51,255,0;821:204,255,153;822:153,204,102;823:102,153,51;824:102,153,0;825:153,204,51;826:204,255,102;827:153,255,0;828:204,255,51;829:153,204,0;830:204,255,0;831:153,255,204;832:102,204,153;833:51,153,102;834:0,153,102;835:51,204,153;836:102,255,204;837:0,255,102;838:51,255,204;839:0,204,153;840:0,255,204;841:51,255,153;842:0,204,102;843:0,102,51;844:0,153,51;845:51,204,102;846:102,255,153;847:0,255,153;848:51,255,102;849:0,204,51;850:0,255,51;851:153,204,255;852:102,153,204;853:51,102,153;854:0,51,153;855:51,102,204;856:102,153,255;857:0,102,255;858:51,102,255;859:0,51,204;860:0,51,255;861:51,153,255;862:0,102,204;863:0,51,102;864:0,102,153;865:51,153,204;866:102,204,255;867:0,153,255;868:51,204,255;869:0,153,204;870:0,204,255;871:204,153,255;872:153,102,204;873:102,51,153;874:102,0,153;875:153,51,204;876:204,102,255;877:153,0,255;878:204,51,255;879:153,0,204;880:204,0,255;881:153,51,255;882:102,0,204;883:51,0,102;884:51,0,153;885:102,51,204;886:153,102,255;887:102,0,255;888:102,51,255;889:51,0,204;890:51,0,255;891:255,51,153;892:204,0,102;893:102,0,51;894:153,0,51;895:204,51,102;896:255,102,153;897:255,0,102;898:255,51,102;899:204,0,51;900:255,0,51;901:255,153,204;902:204,102,153;903:153,51,102;904:153,0,102;905:204,51,153;906:255,102,204;907:255,0,153;908:204,0,153;909:255,51,204;910:255,0,153;920:204,204,204;921:153,153,153;922:102,102,102;923:51,51,51;924:53,42,134;925:51,44,137;926:50,45,140;927:49,47,143;928:48,48,146;929:46,50,148;930:45,51,151;931:44,53,154;932:43,55,157;933:42,56,160;934:40,58,162;935:39,59,165;936:38,61,168;937:37,63,171;938:35,64,174;939:34,66,176;940:33,67,179;941:32,69,182;942:31,71,185;943:29,72,187;944:28,74,190;945:27,75,193;946:26,77,196;947:24,79,199;948:23,80,201;949:22,82,204;950:21,83,207;951:19,85,210;952:18,86,213;953:17,88,215;954:16,90,218;955:15,91,221;956:15,92,221;957:15,94,220;958:15,95,220;959:15,96,220;960:15,97,220;961:15,98,220;962:16,99,219;963:16,100,219;964:16,102,219;965:16,103,219;966:16,104,218;967:16,105,218;968:17,106,218;969:17,107,218;970:17,109,217;971:17,110,217;972:17,111,217;973:17,112,217;974:17,113,216;975:18,114,216;976:18,115,216;977:18,117,216;978:18,118,215;979:18,119,215;980:18,120,215;981:18,121,215;982:19,122,215;983:19,123,214;984:19,125,214;985:19,126,214;986:19,127,214;987:19,128,213;988:19,129,213;989:19,130,213;990:18,131,212;991:18,132,212;992:17,134,211;993:17,135,211;994:16,136,211;995:16,137,210;996:15,138,210;997:15,139,210;998:15,140,209;999:14,141,209;1000:14,142,208;1001:13,143,208;1002:13,145,208;1003:12,146,207;1004:12,147,207;1005:12,148,207;1006:11,149,206;1007:11,150,206;1008:10,151,205;1009:10,152,205;1010:9,153,205;1011:9,154,204;1012:8,155,204;1013:8,157,204;1014:8,158,203;1015:7,159,203;1016:7,160,202;1017:6,161,202;1018:6,162,202;1019:5,163,201;1020:7,164,200;1021:8,164,199;1022:9,165,198;1023:10,166,197;1024:12,166,195;1025:13,167,194;1026:14,167,193;1027:15,168,192;1028:17,169,191;1029:18,169,189;1030:19,170,188;1031:20,170,187;1032:22,171,186;1033:23,172,185;1034:24,172,184;1035:25,173,182;1036:27,173,181;1037:28,174,180;1038:29,175,179;1039:30,175,178;1040:32,176,176;1041:33,176,175;1042:34,177,174;1043:35,178,173;1044:37,178,172;1045:38,179,170;1046:39,180,169;1047:40,180,168;1048:42,181,167;1049:43,181,166;1050:44,182,165;1051:45,183,163;1052:48,183,162;1053:51,183,161;1054:54,183,159;1055:57,184,158;1056:59,184,156;1057:62,184,155;1058:65,184,154;1059:68,185,152;1060:71,185,151;1061:73,185,149;1062:76,185,148;1063:79,186,146;1064:82,186,145;1065:84,186,144;1066:87,186,142;1067:90,187,141;1068:93,187,139;1069:96,187,138;1070:98,187,137;1071:101,188,135;1072:104,188,134;1073:107,188,132;1074:110,188,131;1075:112,189,130;1076:115,189,128;1077:118,189,127;1078:121,189,125;1079:124,190,124;1080:126,190,123;1081:129,190,121;1082:132,190,120;1083:135,191,118;1084:137,190,117;1085:139,190,117;1086:142,190,116;1087:144,190,115;1088:146,190,114;1089:148,190,113;1090:151,190,112;1091:153,190,111;1092:155,189,110;1093:158,189,109;1094:160,189,108;1095:162,189,107;1096:165,189,106;1097:167,189,105;1098:169,189,104;1099:171,188,104;1100:174,188,103;1101:176,188,102;1102:178,188,101;1103:181,188,100;1104:183,188,99;1105:185,188,98;1106:188,188,97;1107:190,187,96;1108:192,187,95;1109:194,187,94;1110:197,187,93;1111:199,187,92;1112:201,187,92;1113:204,187,91;1114:206,186,90;1115:208,186,89;1116:210,187,88;1117:211,187,86;1118:212,188,85;1119:214,188,84;1120:215,188,83;1121:217,189,81;1122:218,189,80;1123:220,190,79;1124:221,190,78;1125:222,191,77;1126:224,191,75;1127:225,191,74;1128:227,192,73;1129:228,192,72;1130:229,193,70;1131:231,193,69;1132:232,194,68;1133:234,194,67;1134:235,194,66;1135:236,195,64;1136:238,195,63;1137:239,196,62;1138:241,196,61;1139:242,197,59;1140:244,197,58;1141:245,197,57;1142:246,198,56;1143:248,198,55;1144:249,199,53;1145:251,199,52;1146:252,200,51;1147:253,200,50;1148:253,202,49;1149:253,203,47;1150:253,205,46;1151:253,206,45;1152:253,208,44;1153:252,209,43;1154:252,211,42;1155:252,213,41;1156:252,214,39;1157:252,216,38;1158:252,217,37;1159:252,219,36;1160:251,220,35;1161:251,222,34;1162:251,224,33;1163:251,225,31;1164:251,227,30;1165:251,228,29;1166:250,230,28;1167:250,231,27;1168:250,233,26;1169:250,235,25;1170:250,236,23;1171:250,238,22;1172:250,239,21;1173:249,241,20;1174:249,242,19;1175:249,244,18;1176:249,246,17;1177:249,247,16;1178:249,249,14\",\"fBuf\":{\"$arr\":\"Float32\",\"len\":255,\"v\":[924,925,926,927,928,929,930,931,932,933,934,935,936,937,938,939,940,941,942,943,944,945,946,947,948,949,950,951,952,953,954,955,956,957,958,959,960,961,962,963,964,965,966,967,968,969,970,971,972,973,974,975,976,977,978,979,980,981,982,983,984,985,986,987,988,989,990,991,992,993,994,995,996,997,998,999,1000,1001,1002,1003,1004,1005,1006,1007,1008,1009,1010,1011,1012,1013,1014,1015,1016,1017,1018,1019,1020,1021,1022,1023,1024,1025,1026,1027,1028,1029,1030,1031,1032,1033,1034,1035,1036,1037,1038,1039,1040,1041,1042,1043,1044,1045,1046,1047,1048,1049,1050,1051,1052,1053,1054,1055,1056,1057,1058,1059,1060,1061,1062,1063,1064,1065,1066,1067,1068,1069,1070,1071,1072,1073,1074,1075,1076,1077,1078,1079,1080,1081,1082,1083,1084,1085,1086,1087,1088,1089,1090,1091,1092,1093,1094,1095,1096,1097,1098,1099,1100,1101,1102,1103,1104,1105,1106,1107,1108,1109,1110,1111,1112,1113,1114,1115,1116,1117,1118,1119,1120,1121,1122,1123,1124,1125,1126,1127,1128,1129,1130,1131,1132,1133,1134,1135,1136,1137,1138,1139,1140,1141,1142,1143,1144,1145,1146,1147,1148,1149,1150,1151,1152,1153,1154,1155,1156,1157,1158,1159,1160,1161,1162,1163,1164,1165,1166,1167,1168,1169,1170,1171,1172,1173,1174,1175,1176,1177,1178]}}},{\"_typename\":\"TWebSnapshot\",\"fUniqueID\":0,\"fBits\":0,\"fObjectID\":\"\",\"fOption\":\"\",\"fKind\":5,\"fSnapshot\":{\"_typename\":\"TStyle\",\"fUniqueID\":0,\"fBits\":0,\"fName\":\"Modern\",\"fTitle\":\"Modern Style\",\"fLineColor\":1,\"fLineStyle\":1,\"fLineWidth\":1,\"fFillColor\":19,\"fFillStyle\":1001,\"fMarkerColor\":1,\"fMarkerStyle\":1,\"fMarkerSize\":1,\"fTextAngle\":0,\"fTextSize\":0.05,\"fTextAlign\":11,\"fTextColor\":1,\"fTextFont\":62,\"fXaxis\":{\"_typename\":\"TAttAxis\",\"fNdivisions\":510,\"fAxisColor\":1,\"fLabelColor\":1,\"fLabelFont\":42,\"fLabelOffset\":0.005,\"fLabelSize\":0.035,\"fTickLength\":0.03,\"fTitleOffset\":1,\"fTitleSize\":0.035,\"fTitleColor\":1,\"fTitleFont\":42},\"fYaxis\":{\"_typename\":\"TAttAxis\",\"fNdivisions\":510,\"fAxisColor\":1,\"fLabelColor\":1,\"fLabelFont\":42,\"fLabelOffset\":0.005,\"fLabelSize\":0.035,\"fTickLength\":0.03,\"fTitleOffset\":0,\"fTitleSize\":0.035,\"fTitleColor\":1,\"fTitleFont\":42},\"fZaxis\":{\"_typename\":\"TAttAxis\",\"fNdivisions\":510,\"fAxisColor\":1,\"fLabelColor\":1,\"fLabelFont\":42,\"fLabelOffset\":0.005,\"fLabelSize\":0.035,\"fTickLength\":0.03,\"fTitleOffset\":1,\"fTitleSize\":0.035,\"fTitleColor\":1,\"fTitleFont\":42},\"fBarWidth\":1,\"fBarOffset\":0,\"fColorModelPS\":0,\"fDrawBorder\":0,\"fOptLogx\":0,\"fOptLogy\":0,\"fOptLogz\":0,\"fOptDate\":0,\"fOptStat\":1111,\"fOptTitle\":1,\"fOptFile\":0,\"fOptFit\":0,\"fShowEventStatus\":0,\"fShowEditor\":0,\"fShowToolBar\":0,\"fNumberContours\":20,\"fAttDate\":{\"_typename\":\"TAttText\",\"fTextAngle\":0,\"fTextSize\":0.025,\"fTextAlign\":11,\"fTextColor\":1,\"fTextFont\":62},\"fDateX\":0.01,\"fDateY\":0.01,\"fEndErrorSize\":2,\"fErrorX\":0.5,\"fFuncColor\":2,\"fFuncStyle\":1,\"fFuncWidth\":2,\"fGridColor\":0,\"fGridStyle\":3,\"fGridWidth\":1,\"fLegendBorderSize\":1,\"fLegendFillColor\":0,\"fLegendFillStyle\":1001,\"fLegendFont\":42,\"fLegendTextSize\":0,\"fHatchesLineWidth\":1,\"fHatchesSpacing\":1,\"fFrameFillColor\":0,\"fFrameLineColor\":1,\"fFrameFillStyle\":1001,\"fFrameLineStyle\":1,\"fFrameLineWidth\":1,\"fFrameBorderSize\":1,\"fFrameBorderMode\":0,\"fHistFillColor\":0,\"fHistLineColor\":602,\"fHistFillStyle\":1001,\"fHistLineStyle\":1,\"fHistLineWidth\":1,\"fHistMinimumZero\":false,\"fHistTopMargin\":0.05,\"fCanvasPreferGL\":false,\"fCanvasColor\":0,\"fCanvasBorderSize\":2,\"fCanvasBorderMode\":0,\"fCanvasDefH\":500,\"fCanvasDefW\":700,\"fCanvasDefX\":10,\"fCanvasDefY\":10,\"fPadColor\":0,\"fPadBorderSize\":2,\"fPadBorderMode\":0,\"fPadBottomMargin\":0.1,\"fPadTopMargin\":0.1,\"fPadLeftMargin\":0.1,\"fPadRightMargin\":0.1,\"fPadGridX\":false,\"fPadGridY\":false,\"fPadTickX\":0,\"fPadTickY\":0,\"fPaperSizeX\":20,\"fPaperSizeY\":26,\"fScreenFactor\":1,\"fStatColor\":0,\"fStatTextColor\":1,\"fStatBorderSize\":1,\"fStatFont\":42,\"fStatFontSize\":0,\"fStatStyle\":1001,\"fStatFormat\":\"6.4g\",\"fStatX\":0.98,\"fStatY\":0.935,\"fStatW\":0.2,\"fStatH\":0.16,\"fStripDecimals\":true,\"fTitleAlign\":23,\"fTitleColor\":0,\"fTitleTextColor\":1,\"fTitleBorderSize\":0,\"fTitleFont\":42,\"fTitleFontSize\":0.05,\"fTitleStyle\":0,\"fTitleX\":0.5,\"fTitleY\":0.995,\"fTitleW\":0,\"fTitleH\":0,\"fLegoInnerR\":0.5,\"fLineStyles\":[\"\",\"  \",\" 12 12\",\" 4 8\",\" 12 16 4 16\",\" 20 12 4 12\",\" 20 12 4 12 4 12 4 12\",\" 20 20\",\" 20 12 4 12 4 12\",\" 80 20\",\" 80 40 4 40\",\"  \",\"  \",\"  \",\"  \",\"  \",\"  \",\"  \",\"  \",\"  \",\"  \",\"  \",\"  \",\"  \",\"  \",\"  \",\"  \",\"  \",\"  \",\"  \"],\"fHeaderPS\":\"\",\"fTitlePS\":\"\",\"fFitFormat\":\"5.4g\",\"fPaintTextFormat\":\"g\",\"fLineScalePS\":3,\"fJoinLinePS\":0,\"fCapLinePS\":0,\"fTimeOffset\":788918400,\"fImageScaling\":1,\"fCandleWhiskerRange\":1,\"fCandleBoxRange\":0.5,\"fCandleScaled\":false,\"fViolinScaled\":true,\"fXAxisExpXOffset\":0,\"fXAxisExpYOffset\":0,\"fYAxisExpXOffset\":0,\"fYAxisExpYOffset\":0,\"fAxisMaxDigits\":5,\"fOrthoCamera\":false}},{\"_typename\":\"TWebSnapshot\",\"fUniqueID\":0,\"fBits\":0,\"fObjectID\":\"\",\"fOption\":\"\",\"fKind\":1,\"fSnapshot\":{\"_typename\":\"TFrame\",\"fUniqueID\":0,\"fBits\":8,\"fLineColor\":1,\"fLineStyle\":1,\"fLineWidth\":1,\"fFillColor\":0,\"fFillStyle\":1001,\"fX1\":0,\"fY1\":4800,\"fX2\":20,\"fY2\":7100,\"fBorderSize\":1,\"fBorderMode\":0}},{\"_typename\":\"TWebSnapshot\",\"fUniqueID\":0,\"fBits\":0,\"fObjectID\":\"\",\"fOption\":\"colz\",\"fKind\":1,\"fSnapshot\":{\"_typename\":\"TH2F\",\"fUniqueID\":0,\"fBits\":8,\"fName\":\"h\",\"fTitle\":\"B_M:q2\",\"fLineColor\":602,\"fLineStyle\":1,\"fLineWidth\":1,\"fFillColor\":0,\"fFillStyle\":1001,\"fMarkerColor\":1,\"fMarkerStyle\":1,\"fMarkerSize\":1,\"fNcells\":10404,\"fXaxis\":{\"_typename\":\"TAxis\",\"fUniqueID\":0,\"fBits\":0,\"fName\":\"xaxis\",\"fTitle\":\"\",\"fNdivisions\":510,\"fAxisColor\":1,\"fLabelColor\":1,\"fLabelFont\":42,\"fLabelOffset\":0.005,\"fLabelSize\":0.035,\"fTickLength\":0.03,\"fTitleOffset\":1,\"fTitleSize\":0.035,\"fTitleColor\":1,\"fTitleFont\":42,\"fNbins\":100,\"fXmin\":0,\"fXmax\":20,\"fXbins\":[],\"fFirst\":0,\"fLast\":0,\"fBits2\":0,\"fTimeDisplay\":false,\"fTimeFormat\":\"\",\"fLabels\":null,\"fModLabs\":null},\"fYaxis\":{\"_typename\":\"TAxis\",\"fUniqueID\":0,\"fBits\":0,\"fName\":\"yaxis\",\"fTitle\":\"\",\"fNdivisions\":510,\"fAxisColor\":1,\"fLabelColor\":1,\"fLabelFont\":42,\"fLabelOffset\":0.005,\"fLabelSize\":0.035,\"fTickLength\":0.03,\"fTitleOffset\":0,\"fTitleSize\":0.035,\"fTitleColor\":1,\"fTitleFont\":42,\"fNbins\":100,\"fXmin\":4800,\"fXmax\":7100,\"fXbins\":[],\"fFirst\":0,\"fLast\":0,\"fBits2\":0,\"fTimeDisplay\":false,\"fTimeFormat\":\"\",\"fLabels\":null,\"fModLabs\":null},\"fZaxis\":{\"_typename\":\"TAxis\",\"fUniqueID\":0,\"fBits\":0,\"fName\":\"zaxis\",\"fTitle\":\"\",\"fNdivisions\":510,\"fAxisColor\":1,\"fLabelColor\":1,\"fLabelFont\":42,\"fLabelOffset\":0.005,\"fLabelSize\":0.035,\"fTickLength\":0.03,\"fTitleOffset\":1,\"fTitleSize\":0.035,\"fTitleColor\":1,\"fTitleFont\":42,\"fNbins\":1,\"fXmin\":0,\"fXmax\":1,\"fXbins\":[],\"fFirst\":0,\"fLast\":0,\"fBits2\":0,\"fTimeDisplay\":false,\"fTimeFormat\":\"\",\"fLabels\":null,\"fModLabs\":null},\"fBarOffset\":0,\"fBarWidth\":1000,\"fEntries\":128208,\"fTsumw\":126151,\"fTsumw2\":126151,\"fTsumwx\":1097632.45825048,\"fTsumwx2\":13188714.4244612,\"fMaximum\":-1111,\"fMinimum\":-1111,\"fNormFactor\":0,\"fContour\":{\"$arr\":\"Float64\",\"len\":20,\"p\":1,\"v\":[174.55,349.1,523.65,698.2,872.75,1047.3,1221.85,1396.4,1570.95,1745.5,1920.05,2094.6,2269.15,2443.7,2618.25,2792.8,2967.35,3141.9,3316.45]},\"fSumw2\":[],\"fOption\":\"\",\"fFunctions\":{\"_typename\":\"TList\",\"name\":\"TList\",\"arr\":[{\"_typename\":\"TPaletteAxis\",\"fUniqueID\":0,\"fBits\":0,\"fLineColor\":1,\"fLineStyle\":1,\"fLineWidth\":1,\"fFillColor\":1178,\"fFillStyle\":1001,\"fX1\":20.1250000018626,\"fY1\":4800,\"fX2\":21.2500000186265,\"fY2\":7100,\"fX1NDC\":0.904999994039535,\"fY1NDC\":0.100000005960465,\"fX2NDC\":0.949999994039535,\"fY2NDC\":0.899999994039535,\"fBorderSize\":4,\"fInit\":1,\"fShadowColor\":1,\"fCornerRadius\":0,\"fOption\":\"br\",\"fName\":\"palette\",\"fAxis\":{\"_typename\":\"TGaxis\",\"fUniqueID\":0,\"fBits\":0,\"fLineColor\":1,\"fLineStyle\":1,\"fLineWidth\":1,\"fX1\":0,\"fY1\":0,\"fX2\":0,\"fY2\":0,\"fTextAngle\":0,\"fTextSize\":0.04,\"fTextAlign\":11,\"fTextColor\":1,\"fTextFont\":42,\"fWmin\":0,\"fWmax\":0,\"fGridLength\":0,\"fTickSize\":0.03,\"fLabelOffset\":0.005,\"fLabelSize\":0.035,\"fTitleOffset\":1,\"fTitleSize\":0.035,\"fNdiv\":0,\"fLabelColor\":1,\"fLabelFont\":42,\"fNModLabs\":0,\"fChopt\":\"\",\"fName\":\"\",\"fTitle\":\"\",\"fTimeFormat\":\"\",\"fFunctionName\":\"\",\"fModLabs\":null}},{\"_typename\":\"TPaveStats\",\"fUniqueID\":0,\"fBits\":9,\"fLineColor\":1,\"fLineStyle\":1,\"fLineWidth\":1,\"fFillColor\":0,\"fFillStyle\":1001,\"fX1\":17.0000005066395,\"fY1\":6510.6250306312,\"fX2\":22.0000006556511,\"fY2\":7200.6250254903,\"fX1NDC\":0.780000016093254,\"fY1NDC\":0.695000007748604,\"fX2NDC\":0.980000019073486,\"fY2NDC\":0.935000002384186,\"fBorderSize\":1,\"fInit\":1,\"fShadowColor\":1,\"fCornerRadius\":0,\"fOption\":\"brNDC\",\"fName\":\"stats\",\"fTextAngle\":0,\"fTextSize\":0,\"fTextAlign\":12,\"fTextColor\":1,\"fTextFont\":42,\"fLabel\":\"\",\"fLongest\":18,\"fMargin\":0.05,\"fLines\":{\"_typename\":\"TList\",\"name\":\"TList\",\"arr\":[{\"_typename\":\"TLatex\",\"fUniqueID\":0,\"fBits\":0,\"fName\":\"\",\"fTitle\":\"h\",\"fTextAngle\":0,\"fTextSize\":0.0368,\"fTextAlign\":0,\"fTextColor\":0,\"fTextFont\":0,\"fX\":0,\"fY\":0,\"fLineColor\":1,\"fLineStyle\":1,\"fLineWidth\":2,\"fLimitFactorSize\":3,\"fOriginSize\":0.0368000008165836},{\"_typename\":\"TLatex\",\"fUniqueID\":0,\"fBits\":0,\"fName\":\"\",\"fTitle\":\"Entries = 128208 \",\"fTextAngle\":0,\"fTextSize\":0,\"fTextAlign\":0,\"fTextColor\":0,\"fTextFont\":0,\"fX\":0,\"fY\":0,\"fLineColor\":1,\"fLineStyle\":1,\"fLineWidth\":2,\"fLimitFactorSize\":3,\"fOriginSize\":0.04},{\"_typename\":\"TLatex\",\"fUniqueID\":0,\"fBits\":0,\"fName\":\"\",\"fTitle\":\"Mean x =  8.701\",\"fTextAngle\":0,\"fTextSize\":0,\"fTextAlign\":0,\"fTextColor\":0,\"fTextFont\":0,\"fX\":0,\"fY\":0,\"fLineColor\":1,\"fLineStyle\":1,\"fLineWidth\":2,\"fLimitFactorSize\":3,\"fOriginSize\":0.04},{\"_typename\":\"TLatex\",\"fUniqueID\":0,\"fBits\":0,\"fName\":\"\",\"fTitle\":\"Mean y =   5313\",\"fTextAngle\":0,\"fTextSize\":0,\"fTextAlign\":0,\"fTextColor\":0,\"fTextFont\":0,\"fX\":0,\"fY\":0,\"fLineColor\":1,\"fLineStyle\":1,\"fLineWidth\":2,\"fLimitFactorSize\":3,\"fOriginSize\":0.04},{\"_typename\":\"TLatex\",\"fUniqueID\":0,\"fBits\":0,\"fName\":\"\",\"fTitle\":\"Std Dev x =   5.37\",\"fTextAngle\":0,\"fTextSize\":0,\"fTextAlign\":0,\"fTextColor\":0,\"fTextFont\":0,\"fX\":0,\"fY\":0,\"fLineColor\":1,\"fLineStyle\":1,\"fLineWidth\":2,\"fLimitFactorSize\":3,\"fOriginSize\":0.04},{\"_typename\":\"TLatex\",\"fUniqueID\":0,\"fBits\":0,\"fName\":\"\",\"fTitle\":\"Std Dev y =  216.4\",\"fTextAngle\":0,\"fTextSize\":0,\"fTextAlign\":0,\"fTextColor\":0,\"fTextFont\":0,\"fX\":0,\"fY\":0,\"fLineColor\":1,\"fLineStyle\":1,\"fLineWidth\":2,\"fLimitFactorSize\":3,\"fOriginSize\":0.04}],\"opt\":[\"\",\"\",\"\",\"\",\"\",\"\"]},\"fOptFit\":0,\"fOptStat\":1111,\"fFitFormat\":\"5.4g\",\"fStatFormat\":\"6.4g\",\"fParent\":{\"$ref\":15}}],\"opt\":[\"br\",\"brNDC\"]},\"fBufferSize\":0,\"fBuffer\":[],\"fBinStatErrOpt\":0,\"fStatOverflows\":2,\"fScalefactor\":1,\"fTsumwy\":670197505.744629,\"fTsumwy2\":3566439499943.59,\"fTsumwxy\":5847225512.43142,\"fArray\":{\"$arr\":\"Float32\",\"len\":10404,\"p\":1,\"v\":[136,55,32,24,29,23,23,13,21,13,18,19,18,22,24,15,24,28,8,10,17,19,16,22,22,20,17,25,24,29,32,30,36,21,17,24,35,32,32,26,31,27,39,36,41,43,38,49,36,31,49,42,29,26,39,29,34,30,34,31,26,20,38,26,22,23,22,14,11,6,11,5,12,10,6,7,3,7,2,0,2],\"p1\":103,\"v1\":[17,2,1,4,1,0,4,1,2,1,1,4,2,4,1,1,1,0,1,2],\"v2\":4,\"n2\":6,\"v3\":[5,5,4,3,4,1,5,1,0,2,5,4,2,6,2,1,3,1,6,2,8,7,1,3,3,1,6,6,3,3,5,2,5,3,2,1,4,6,1,0,2,3,3,2,3,2,0,2,1,1,0,1,1,2],\"p4\":205,\"v4\":[12,3,2,1,3,3,2,1,1,2,0,1,1,3,2,3,0,0,0,1,2,1,2,2,6,2,4,5,1,2,6,2,3,3,1,8,1,1,3,3,3,7,4,4,3,5,2,6,1,2,6,3,7,6,7,6,3,8,2,2,3,1,2,6,2,3,4,5,4,3,4,3,1,3,2,3,1,2,0,3,1,1,1,1],\"p5\":307,\"v5\":[11,7,3,5,2,2,1,1,4,3,0,1,3,3,2,2,3,0,2,0,5,1,0,5,3,3,4,3,2,4,2,1,6,6,3,4,3,2,2,3,3,6,2,2,4,2,5,10,7,2,4,4,4,3,2,2,7,3,3,4,2,3,5,5,6,5,1,6,4,1,3,4,2,3,6,3,1,0,2,1,1,1,1,0,0,1],\"p6\":409,\"v6\":[9,10,5,1,3,2,1,1,5,3,0,2,1,3,4,1,2,5,0,1,1,2,1,3,2,3,0,3,4,4,4,3,5,3,2,4,7,3,4,2,6,5,4,4,4,4,6,5,4,5,5,4,3,2,7,3,3,0,3,3,7,4,7,4,3,2,4,2,4,2,2,0,1,5,0,5,5,0,3,0,1],\"p7\":511,\"v7\":[11,9,5,7,2,2,0,4,1,5,0,0,1,2,4,0,3,3,5,3,2,0,3,4,2,7,4,7,2,2,3,4,5,5,3,2,3,2,1,2,6,4,7,3,6,1,6,6,9,1,4,7,4,9,2,10,7,6,6,4,5,6,7,3,5,7,7,7,1,2,4,3,0,6,5,5,4,1,1,2,0,0,2,0,1,1,1],\"p8\":613,\"v8\":[11,4,10,3,2,1,4,3,1,2,2,2,1,2,4,1,6,3,1,2,1,4,3,1,3,5,2,3,0,2,6,4,3,5,1,3,4,3,3,2,7,6,7,4,3,2,5,4,3,5,10,8,4,5,7,8,2,6,6,3,3,5,5,3,7,4,5,4,7,0,5,2,1,9,3,4,3,1,1,2,2,2,2,0,1,1],\"p9\":715,\"v9\":[21,10,6,6,0,1,3,5,4,3,4,4,3,2,1,2,0,2,5,0,7,6,1,1,3,2,7,2,4,5,2,1,2,2,0,3,3,2,2,7,5,8,7,4,4,4,2,3,10,6,7,5,3,3,6,4,9,4,7,8,4,6,7,6,2,7,4,3,3,7,5,5,4,2,2,2,1,3,5,4,2,2,0,1,0,2],\"p10\":817,\"v10\":[10,9,4,5,6,2,3,1,1,0,3,3,2,2,4,5,3,1,1,4,2,1,6,2,4,3,2,6,6,4,5,1,6,4,4,5,5,2,5,9,2,4,3,4,3,6,4,0,8,3,5,4,11,6,5,7,4,3,12,5,4,3,6,5,7,7,2,6,3,3,3,4,4,6,5,4,0,3,3,3,1,4,2,0,1,1,1,1,0,1,1],\"p11\":919,\"v11\":[12,8,1,5,5,4,2,0,3,4,1,5,3,4,4,4,2,1,3,4,4,3,4,2,2,7,1,5,1,4,6,6,1,4,3,4,6,7,10,6,9,3,2,9,12,5,8,6,6,5,7,9,4,5,8,9,2,8,7,2,3,2,9,8,3,4,6,13,4,4,5,2,6,10,3,2,7,5,2,0,2,0,2,3,5,1,2,1,0,0,0,0,0,1,0,0,0,0,0,0,0,0,14,6,9,5,5,2,3,5,3,7,4,2,3,6,2,10,4,6,6,7,5,3,5,3,5,3,7,3,3,5,5,5,3,6,7,6,6,6,4,8,4,8,8,8,2,6,7,5,9,3,6,13,8,6,7,5,12,8,8,3,3,8,3,7,2,4,5,5,3,7,7,8,2,6,4,6,4,4,0,4,4,5,6,6,4,2,0,1,0,0,1],\"p12\":1123,\"v12\":[14,12,11,3,8,6,1,4,2,5,5,11,2,7,1,2,3,0,4,4,3,8,4,6,5,5,3,2,3,10,10,4,2,4,6,6,10,6,4,3,5,5,10,3,8,10,8,9,5,8,8,10,5,8,7,8,11,8,9,6,5,8,8,7,8,7,6,10,6,9,6,10,9,9,4,7,3,5,4,7,4,2,4,1,2,5,0,0,3,0,2,1,0,0,0,1,0,0,0,0,0,0,12,16,10,4,8,4,2,8,4,4,2,3,6,4,4,5,6,6,3,3,5,4,1,9,4,6,6,4,4,7,9,3,7,2,7,4,2,7,7,5,7,8,4,5,12,9,11,3,5,9,13,5,10,6,7,5,6,9,9,7,9,11,8,12,6,8,6,9,6,5,8,6,9,7,9,5,2,4,9,2,3,2,2,4,2,4,1,1,1,0,3,1],\"p13\":1327,\"v13\":[14,7,8,6,6,8,3,4,4,6,5,6,6,2,3,2,6,5,7,2,4,7,5,5,7,5,9,6,5,5,9,7,2,4,6,10,4,9,8,8,6,6,10,7,9,5,16,10,10,7,16,10,8,14,15,10,12,9,13,11,13,7,14,5,12,7,8,6,6,8,6,6,8,5,4,1,7,9,9,7,7,4,3,6,2,3,3,1,2,1,0,1],\"p14\":1429,\"v14\":[16,18,11,7,6,7,4,3,3,8,4,6,2,3,9,4,5,1,5,6,4,8,6,5,9,6,5,11,6,8,8,9,5,5,4,5,5,7,6,13,5,9,10,8,7,5,12,9,6,9,8,8,12,14,8,5,6,6,8,11,13,8,14,11,14,13,11,6,11,12,9,7,9,10,12,9,7,11,10,9,7,2,3,7,7,7,6,3,0,0,1],\"p15\":1531,\"v15\":[29,20,7,6,6,9,5,4,5,3,5,8,1,3,8,8,3,6,1,7,4,2,5,4,9,3,1,6,9,9,2,15,11,7,10,10,13,9,8,19,9,16,6,10,7,9,11,9,11,13,7,9,10,10,12,10,18,13,15,18,10,5,12,9,12,12,15,9,12,16,4,7,11,15,17,11,8,8,7,9,8,12,3,3,6,4,4,3,3,3,3,4,1,0,0,0,0,0,0,0,0,0,26,12,17,6,7,6,9,8,5,12,7,6,6,11,10,6,6,6,11,6,13,10,8,13,5,9,6,5,11,11,10,9,11,9,8,17,9,8,12,7,12,11,14,17,13,13,16,17,11,9,15,13,9,12,18,17,8,20,17,20,15,11,13,21,15,19,18,18,14,15,16,12,7,12,13,7,8,9,9,12,6,8,7,8,6,8,3,4,6,2,4,3,1,0,1,0,0,0,0,0,0,0,37,15,11,9,9,4,9,7,10,6,10,7,6,6,11,11,5,7,12,9,11,12,7,11,2,9,10,11,8,19,10,14,8,9,10,11,14,16,20,15,8,20,13,18,21,18,10,15,18,12,18,23,12,14,19,17,15,19,24,23,17,9,16,16,19,12,19,16,17,20,14,23,11,15,13,10,15,7,14,7,12,4,4,9,12,9,9,9,3,9,6,6,1,0,1,0,0,1,0,0,0,0,44,32,15,11,10,15,14,10,9,16,13,6,7,14,11,8,11,14,8,21,13,8,10,17,16,13,13,12,13,12,11,18,16,10,15,24,21,17,19,19,8,15,17,22,14,23,17,15,31,16,17,12,24,19,15,22,20,12,20,21,18,25,20,26,17,16,14,20,18,20,18,17,21,21,20,23,12,12,8,17,7,12,8,12,13,10,11,16,13,5,8,5,4,0,1,0,1,0,0,0,0,0,103,52,38,18,15,14,25,21,15,31,25,21,25,20,18,11,20,23,22,15,25,24,27,29,22,23,32,20,18,25,36,21,32,34,16,29,25,33,40,37,25,27,40,30,31,30,24,29,41,53,39,31,36,41,38,35,45,42,31,40,39,34,41,33,33,33,46,36,40,35,31,39,31,39,23,31,22,29,22,28,24,24,21,17,17,16,20,19,15,16,19,8,10,5,3,2,0,0,0,0,0,0,692,321,208,163,125,126,102,88,88,89,88,92,81,65,102,96,90,106,91,90,97,109,111,99,109,84,107,101,108,106,138,117,127,133,124,124,132,147,159,121,142,161,126,165,163,151,133,169,164,139,160,152,180,164,131,152,154,145,167,152,158,171,154,178,150,157,159,150,150,148,141,152,141,129,139,125,115,129,113,110,100,93,99,94,65,75,68,71,70,44,46,41,26,24,10,7,1,0,1,0,0,0,3491,1605,958,694,566,504,464,414,381,390,376,397,356,378,374,366,376,368,423,394,427,368,405,412,443,443,438,427,442,504,556,498,476,520,525,538,558,532,531,592,567,616,592,527,591,595,600,648,631,590,647,609,620,646,601,604,650,634,631,630,605,651,617,613,580,606,580,594,600,598,581,547,524,551,536,502,468,409,432,423,402,378,333,356,321,308,264,238,214,207,173,148,123,106,80,42,22,6,4,0,1,0,2524,1160,706,481,394,353,330,286,285,272,271,235,262,269,258,292,261,261,251,239,297,274,288,295,249,287,282,318,303,302,362,329,379,360,366,383,351,349,342,383,400,385,426,401,389,417,422,423,415,410,463,430,421,435,452,463,442,423,417,452,420,423,426,446,425,418,402,421,410,435,390,375,374,380,385,351,336,340,306,305,273,332,265,256,261,210,195,187,186,161,151,147,111,94,76,47,27,10,3,1,2,0,267,137,72,64,40,36,35,23,31,39,35,30,25,38,23,34,25,17,29,33,30,34,22,45,31,39,39,37,32,43,44,35,40,36,44,35,44,53,46,45,56,42,54,52,50,43,59,50,46,58,64,47,56,61,55,58,50,62,57,48,61,54,74,58,59,53,39,56,52,61,64,44,54,54,46,65,48,56,49,52,30,40,47,45,38,36,25,30,34,29,17,29,29,17,11,9,5,5,2,2,0,0,29,15,12,6,6,3,4,8,5,13,3,3,3,8,4,1,3,4,1,4,5,5,7,6,5,6,3,5,1,6,5,4,3,5,11,3,5,4,8,3,8,5,5,11,8,6,10,12,9,12,12,9,12,7,11,9,8,4,2,8,11,13,6,10,10,12,10,9,5,7,6,9,11,10,10,8,6,9,9,6,11,8,4,6,7,9,3,3,7,8,5,7,4,2,1,2,0,2,0,0,0,0,16,7,7,9,5,1,5,4,6,1,3,1,3,3,4,5,3,1,1,1,4,5,4,2,3,1,2,1,3,3,5,1,5,4,2,3,5,7,7,3,3,6,3,3,0,9,4,3,5,5,7,6,8,6,2,9,7,5,4,5,6,8,9,6,8,5,8,9,3,4,4,4,5,7,5,10,6,10,4,9,6,7,5,7,4,2,7,3,2,4,1,0,0,0,2,0,1,1,0,0,0,0,12,8,6,2,5,6,3,2,7,2,4,4,1,1,3,3,4,1,5,5,4,1,2,5,5,2,3,1,2,5,2,2,6,2,2,5,2,3,5,4,6,4,1,3,5,5,10,6,7,5,5,8,0,7,3,5,7,3,9,8,7,2,6,10,2,5,2,7,8,9,6,5,7,9,9,3,7,4,6,9,9,4,5,5,6,10,3,4,3,3,3,1,1,1,3,1,1,0,0,0,0,0,6,10,7,7,6,4,0,7,2,1,1,4,6,0,2,4,2,1,5,2,1,3,4,6,5,3,3,2,3,3,3,1,5,5,4,1,4,3,3,5,2,4,2,5,7,6,6,3,6,8,6,10,5,3,5,6,3,5,4,6,9,7,5,6,4,7,4,9,4,5,5,7,10,2,7,3,5,7,7,4,2,8,5,1,8,3,4,4,2,6,2,2,1,2,2,2,0,0,0,0,0,0,11,7,1,2,4,3,2,4,2,4,1,1,3,2,4,0,5,4,0,3,3,0,0,3,2,2,1,4,3,5,5,3,3,3,0,4,3,0,6,1,5,8,9,3,4,2,4,3,5,1,3,4,5,1,2,3,9,3,3,4,6,7,7,5,4,4,5,2,3,11,3,5,9,2,8,6,9,8,3,9,8,3,5,1,6,4,4,2,3,0,2,1,5,2,1,3,0,0,0,0,0,0,6,9,4,3,5,2,3,2,3,2,4,3,4,3,5,4,5,1,2,1,3,2,1,1,4,4,2,1,2,4,1,2,4,1,1,4,3,4,5,4,6,2,2,3,5,4,2,1,4,4,4,5,3,4,2,6,5,2,7,6,3,6,10,5,5,5,11,8,5,4,7,5,4,6,6,7,5,4,9,3,3,5,9,6,5,3,2,3,4,3,3,2,2,0,0,2,1,1,0,0,0,0,9,5,3,2,5,0,0,4,2,2,1,4,5,3,1,4,4,0,3,4,1,1,2,3,1,2,3,5,0,5,1,1,2,0,4,1,7,2,3,3,1,4,1,3,6,8,5,6,5,6,5,5,3,4,2,4,3,5,6,5,5,4,4,9,6,7,5,4,4,6,1,7,5,4,4,4,6,4,5,9,3,6,4,3,7,2,4,1,2,2,3,0,2,2,2,0,1,0,0,0,0,0,8,3,6,3,4,1,3,3,4,2,0,1,6,3,1,1,1,1,2,1,1,1,3,1,2,3,1,5,1,2,5,2,2,3,2,4,2,3,3,4,3,1,3,3,8,1,2,2,6,7,4,3,4,4,4,6,5,8,6,7,9,4,5,6,3,5,3,1,9,3,8,4,4,3,4,2,2,3,3,4,6,2,5,7,6,3,7,3,4,0,2,0,1,1,1,2,1,0,0,0,1,0,9,7,5,3,1,2,1,2,2,1,1,2,2,1,0,2,1,3,0,5,1,3,3,0,3,1,0,2,2,3,3,2,1,5,3,5,1,4,2,4,5,5,5,4,1,3,3,5,3,1,4,6,7,5,4,8,2,5,6,5,2,2,6,3,5,4,9,4,10,4,6,7,11,5,10,8,3,7,3,5,3,2,7,3,9,4,5,2,1,1,1,3,5,1,3,1,1,0,0,0,0,0,10,3,3,1,0,2,3,3,2,1,0,2,1,3,5,2,1,1,4,1,3,3,2,3,2,2,1,2,2,1,1,1,6,3,0,5,3,4,1,4,2,1,2,4,4,5,6,1,4,2,8,4,4,8,4,2,2,7,2,2,5,4,5,4,6,4,1,3,2,9,4,3,1,6,5,7,5,2,8,4,3,5,2,3,4,2,0,3,1,1,2,2,0,0,1,1,1,1,0,0,0,0,5,6,0,0,1,0,1,0,3,3,6,1,1,4,1,2,2,2,1,0,2,5,3,1,2,2,4,3,4,2,3,2,1,2,2,2,5,5,1,5,4,2,2,4,2,6,6,5,6,3,12,4,4,3,3,8,7,6,1,3,7,2,7,1,6,3,5,4,1,6,4,6,4,3,7,3,8,3,6,4,9,2,6,3,1,4,2,2,2,3,1,0,4,1,2,0,0,1,0,0,0,0,10,2,4,0,2,2,2,5,1,3,2,4,5,1,1,2,2,3,3,3,3,2,1,2,4,5,0,2,1,3,0,2,3,2,6,6,3,1,1,2,4,4,3,3,3,1,3,5,2,4,3,2,6,5,9,5,2,7,10,4,4,4,5,2,4,8,3,3,5,6,3,5,3,4,8,5,6,6,1,6,3,3,3,2,2,3,3,3,0,3,4,3,0,3,1,0,0,0,0,0,1,0,11,1,2,1,1,1,0,3,0,0,2,1,0,2,5,0,5,2,0,1,3,3,0,1,2,1,4,2,4,3,2,2,1,3,6,5,0,3,3,3,4,2,5,3,5,3,9,4,3,3,3,3,10,5,5,6,1,2,3,5,3,2,3,4,3,4,3,6,5,8,6,2,4,5,8,2,2,2,4,5,9,4,3,3,1,4,3,4,0,5,0,0,2,1,0,3,0,0,0,0,0,0,10,6,2,1,2,1,1,1,0,0,1,2,1,5,1,1,2,1,2,2,1,1,0,1,1,2,3,0,2,3,2,2,2,4,1,1,2,4,3,3,5,1,4,3,2,6,2,5,5,4,2,5,6,3,7,3,1,4,1,4,8,3,5,7,5,4,7,3,4,7,4,1,3,4,9,4,6,8,1,2,5,3,6,4,3,1,5,6,1,1,1,2,4,4,0,0,0,0,0,0,0,0,8,3,5,4,2,1,2,1,3,1,0,0,2,1,1,0,2,1,3,1,3,1,2,5,4,2,1,1,1,4,0,4,1,7,2,3,2,1,2,5,4,3,3,2,3,4,2,3,4,4,1,5,4,6,2,2,4,3,6,2,4,4,2,5,2,5,9,3,3,4,5,1,4,5,5,5,7,4,4,4,3,4,1,3,5,5,3,1,1,3,1,4,1,1,1,2,0,0,0,0,0,0,10,3,1,3,2,0,1,4,2,2,1,0,3,1,1,2,1,3,1,3,4,3,2,0,3,0,3,3,0,2,3,1,2,5,2,3,4,4,0,3,6,1,2,4,3,3,1,4,5,7,5,4,4,3,6,6,5,7,3,5,5,4,5,2,1,6,5,2,6,8,2,6,2,3,6,2,0,3,3,4,6,3,4,2,5,4,1,1,3,1,1,3,0,2,0,0,0,0,1,0,1,0,7,3,2,2,1,2,1,0,1,4,0,1,1,2,1,1,1,0,2,0,0,2,0,1,1,0,2,1,2,3,4,3,4,0,4,3,3,3,3,3,2,4,4,1,3,3,7,2,6,0,2,2,3,4,5,3,7,2,1,4,6,4,1,2,3,6,2,3,2,4,3,2,6,1,6,5,1,7,5,2,2,2,1,4,5,3,2,3,1,0,4,3,2,1,0,0,0,0,0,0,0,0,7,3,5,2,3,1,1,2,3,3,2,2,0,3,1,1,0,3,3,1,1,2,1,2,6,1,1,3,3,4,1,2,2,2,4,4,2,1,1,3,3,1,0,4,2,4,2,3,3,4,4,3,2,3,3,3,4,2,3,5,4,2,5,2,3,1,3,3,5,9,9,4,6,8,4,6,2,5,2,4,5,1,6,6,2,4,3,1,3,2,4,0,1,0,0,0,0,0,1,1,0,0,5,1,1,0,2,1,3,4,2,2,1,1,0,0,2,1,2,4,3,2,2,3,0,2,2,1,0,4,2,1,2,3,1,5,0,1,1,2,2,2,5,1,3,0,2,2,3,2,1,2,4,4,4,4,0,5,4,2,5,3,1,3,4,6,4,2,4,3,2,4,6,3,1,6,0,6,2,1,4,2,2,3,4,1,3,4,2,0,2,2,2,1,0,0,5,1,0,0,0,0,0,0,9,3,2,3,2,0,4,2,0,2,1,1,2,1,0,0,0,1,3,1,0,1,2,2,0,1,2,1,0,0,3,0,4,4,1,1,1,2,3,1,1,0,3,3,2,2,3,5,3,2,0,3,2,4,6,2,3,3,2,4,5,5,3,4,6,4,5,3,2,2,2,3,4,5,3,4,3,4,4,5,2,2,2,4,1,3,3,2,2,2,3,4,4,1,0,0,0,0,0,0,1,0,3,2,1,2,0,1,0,4,3,0,1,1,3,2,2,1,1,1,0,1,5,1,3,0,2,2,0,3,1,3,1,1,1,4,1,0,2,3,3,2,1,0,4,3,1,0,5,5,4,5,3,3,2,5,3,5,2,3,1,3,4,8,7,1,2,4,6,3,9,5,5,1,1,1,4,4,3,0,2,4,3,2,4,2,4,6,2,0,5,1,5,2,1,0,1,0,1,0,0,0,0,0,3,0,0,2,1,1,3,1,0,1,0,0,0,1,3,2,1,1,1,1,0,1,0,1,2,1,1,1,3,1,2,2,1,2,2,0,2,4,1,3,2,3,2,0,3,2,2,6,4,2,0,1,2,0,5,4,0,3,0,3,2,3,1,3,4,3,5,2,6,2,4,4,4,11,2,4,1,2,1,1,2,5,3,3,6,2,4,2,1,0,0,2,1,0,1,0,0,0,0,0,0,0,5,3,0,3,4,3,1,0,0,0,1,0,1,1,1,0,2,1,0,0,3,0,2,3,2,1,2,1,1,5,2,1,4,1,5,1,0,4,3,0,4,2,5,1,2,5,1,1,0,1,2,1,1,4,4,2,2,1,5,4,0,2,2,5,3,0,3,2,2,6,1,3,4,4,6,3,8,2,0,1,3,1,0,2,2,2,1,0,1,1,3,0,2,1,2,1,0,0,0,0,0,0,5,2,0,3,0,1,1,0,2,1,1,0,1,0,2,0,0,3,0,2,3,1,0,0,0,0,1,1,2,4,0,3,1,2,2,3,3,3,2,1,4,2,2,2,3,0,1,0,0,2,6,2,1,1,6,3,1,2,4,3,5,2,1,5,4,2,2,6,9,6,3,7,8,1,4,4,1,7,3,1,0,3,2,1,1,6,0,2,2,3,2,0,1,1,1,0,0,1,0,0,0,0,4,0,2,0,1,0,2,1,0,2,0,3,2,2,0,2,0,2,2,0,1,1,0,1,0,1,0,1,2,2,2,0,0,2,0,1,4,0,0,3,3,4,1,4,2,1,2,1,3,3,3,2,4,3,3,2,4,2,5,5,4,7,5,5,3,3,1,7,3,1,3,4,1,2,2,4,6,5,3,2,6,1,3,4,2,2,0,1,4,3,0,2,1,0,0,2,0,0,0,0,0,0,5,2,2,2,1,0,0,2,0,0,1,1,3,0,1,0,2,0,2,1,1,0,0,2,1,0,1,1,2,0,0,1,2,0,2,0,6,0,2,0,2,1,2,2,5,3,2,0,2,1,5,3,3,1,2,5,2,6,6,4,4,2,4,2,4,5,2,2,5,5,6,3,1,2,3,3,1,6,1,2,2,1,1,3,3,2,4,2,3,3,1,1,1,0,0,0,0,0,0,0,0,0,3,4,0,0,0,0,0,0,1,0,0,1,3,1,1,0,2,0,1,0,1,2,3,1,1,2,0,1,0,2,1,0,0,4,3,3,3,3,1,1,6,1,0,3,3,3,4,4,3,3,4,2,3,2,2,2,6,2,6,2,3,3,4,5,6,5,3,3,4,1,4,1,5,4,3,2,6,2,3,2,4,0,2,3,2,2,1,2,1,1,0,1,1,0,0,0,0,0,0,0,0,0,3,1,0,1,1,2,0,0,0,0,1,1,1,1,0,0,0,0,0,0,0,1,0,0,1,0,2,1,0,2,1,0,1,0,0,2,1,1,0,0,2,4,3,0,1,2,6,2,2,1,0,6,0,0,1,2,1,3,4,2,1,5,2,1,2,2,6,2,4,2,3,6,1,1,2,5,2,6,2,3,2,4,2,5,3,0,0,4,3,1,2,0,2,1,1,1,0,0,0,0,0,0,4,0,1,0,0,1,0,1,1,3,1,1,0,4,1,0,1,0,0,4,1,1,0,0,0,2,0,0,1,1,1,0,0,0,1,1,2,2,0,1,1,1,4,3,1,5,4,2,6,5,2,3,2,2,2,2,3,3,3,1,5,3,3,6,3,3,3,1,2,4,2,2,4,3,2,2,6,5,1,2,2,1,1,2,1,1,2,0,4,0,1,1,3,0,0,0,0,0,0,0,1,0,5,1,1,1,2,1,1,0,0,2,1,0,1,0,2,0,2,0,0,0,2,0,0,0,0,1,0,0,1,0,1,2,2,0,0,3,2,0,3,0,1,2,1,2,1,3,4,1,2,0,1,0,1,2,2,2,2,4,2,2,1,2,1,0,2,3,2,1,7,5,2,5,5,3,6,1,3,3,2,3,1,2,0,1,5,1,3,3,1,2,1,2,3,1,1,0,0,0,0,0,0,0,2,2,1,0,1,0,1,0,0,0,0,0,1,1,0,2,1,0,0,1,2,3,0,2,0,0,2,3,1,1,0,0,1,0,1,0,2,2,1,2,3,0,1,0,2,2,3,2,2,2,3,1,1,3,3,4,2,2,0,1,1,2,2,2,2,3,5,2,3,1,3,6,3,3,3,1,5,1,1,4,1,2,2,2,1,2,2,0,3,0,3,1,0,0,2,1,0,0,0,0,0,0,4,2,1,1,0,0,0,0,2,1,0,2,0,1,1,0,0,1,0,2,0,0,2,1,2,2,1,0,0,1,1,0,0,1,3,1,0,1,0,0,2,1,1,0,0,2,0,3,1,5,0,2,2,4,3,4,1,3,0,1,1,1,0,2,2,4,1,2,2,3,2,4,1,6,1,1,1,1,2,2,2,2,1,3,2,2,2,3,0,1,4,1,1,1,0,0,1,0,0,0,0,0,2,2,0,0,3,1,0,0,0,0,1,3,1,1,0,0,0,0,0,1,0,0,0,0,0,0,3,0,0,2,0,1,0,0,1,1,1,3,3,1,0,0,1,2,2,3,1,1,1,0,1,1,2,3,2,4,2,1,0,4,4,4,2,2,0,3,1,6,2,2,1,3,2,2,0,1,3,3,3,2,2,1,2,2,3,2,3,5,1,2,1,0,1,0,2,0,0,0,0,0,2,0,1,2,1,2,1,1,0,1,0,0,1,1,0,1,1,0,1,1,1,2,0,0,0,0,2,2,0,1,0,1,1,2,1,1,1,2,0,1,1,1,1,0,0,6,1,1,2,2,0,6,2,1,1,0,4,0,1,2,1,2,1,5,3,2,5,3,6,0,3,3,3,1,2,2,3,3,2,4,5,3,3,2,5,4,0,0,0,1,0,1,1,2,2,1,0,2,0,0,0,0,0,0,1,2,0,1,1,0,1,0,0,0,0,0,0,1,1,0,0,0,1,0,1,0,1,1,1,2,3,1,0,2,1,1,1,2,3,0,1,0,0,2,2,2,3,1,0,0,3,0,1,0,2,2,2,0,3,1,1,3,3,2,3,1,2,1,2,3,3,3,1,4,2,5,7,4,0,2,4,2,1,3,1,0,3,1,2,4,3,2,0,0,0,0,3,0,1,0,0,0,0,0,0,0,1,0,1,0,0,1,1,0,1,0,1,1,0,1,0,1,1,0,2,0,0,1,1,2,0,1,0,1,1,2,2,0,2,1,2,0,0,4,3,2,2,1,0,1,2,2,1,1,2,3,3,1,2,0,2,1,1,1,1,3,1,3,5,2,4,2,3,2,2,2,2,0,1,2,1,5,2,2,2,5,2,1,0,1,1,1,0,1,1,2,0,1,1,1,0,0,1,0,0,0,0,0,5,0,0,0,1,0,0,0,0,1,1,0,0,1,0,0,1,1,0,0,0,2,0,2,0,1,1,0,0,1,1,2,0,0,2,0,1,0,0,2,0,2,4,3,2,1,0,0,1,2,4,1,2,0,2,1,3,2,2,1,4,1,4,0,1,1,1,2,3,1,3,1,3,0,6,3,1,5,3,0,3,0,2,2,0,1,3,3,1,1,3,1,2,0,2,0,1,0,0,0,1,0,1,0,0,0,0,1,2,0,0,0,1,0,0,1,1,0,0,0,0,0,1,0,0,3,0,1,0,1,1,2,0,0,0,0,0,0,0,2,1,1,5,2,0,3,1,1,1,0,1,4,1,0,0,3,0,1,1,2,3,3,2,1,1,0,0,2,1,0,0,2,3,3,1,2,5,6,3,3,4,0,3,0,1,1,0,1,2,2,0,1,0,1,0,0,0,1,0,0,0,0,0,0,4,2,0,0,0,0,2,0,0,0,1,0,1,0,0,2,1,0,0,0,1,0,0,0,1,1,1,1,0,1,2,0,1,2,1,2,2,4,1,0,0,1,2,3,6,2,1,4,1,1,0,0,1,0,1,2,1,0,5,1,2,2,2,2,1,2,0,1,2,1,3,5,3,2,3,4,3,2,0,4,1,4,0,0,2,3,0,0,0,0,0,0,1,1,0,1,0,0,1,0,1,0,1,3,0,0,1,1,2,1,0,1,1,0,0,0,1,0,1,0,0,0,0,0,0,1,1,2,1,0,1,0,0,0,0,2,0,1,0,0,0,0,0,0,1,2,3,4,0,1,1,2,1,2,3,1,1,1,0,1,2,2,1,3,3,4,1,0,0,2,1,2,2,0,0,2,2,1,1,0,4,2,1,0,2,3,1,0,2,2,1,2,0,0,3,1,0,0,0,0,0,0,0,0,4,0,1,0,1,0,1,0,0,0,0,0,1,0,3,1,1,1,0,0,1,1,0,0,2,1,0,1,0,2,0,0,4,0,0,0,3,0,1,2,0,1,0,1,2,2,2,5,0,0,1,1,3,1,1,2,0,0,3,2,1,1,1,1,3,1,2,2,1,4,2,0,3,1,1,3,2,2,3,0,1,1,0,4,1,1,2,2,0,0,1,2,0,1,0,0,0,0,0,0,0,0,2,0,1,1,0,0,0,0,2,0,1,0,0,1,2,0,0,0,1,0,0,0,0,1,0,1,2,1,2,2,0,1,0,1,0,3,2,2,0,0,0,3,3,3,0,0,0,2,2,0,1,2,1,0,2,3,1,1,0,0,2,1,1,3,2,4,1,1,1,1,2,0,0,3,5,1,5,4,2,0,3,2,1,1,1,1,2,0,0,0,0,1,2,0,0,0,0,0,0,0,0,0,1,0,3,0,0,0,0,0,0,0,0,0,1,0,0,1,2,0,1,0,0,4,0,0,0,1,0,1,1,0,0,2,0,3,1,1,2,0,0,1,1,1,0,1,1,1,0,2,1,1,3,2,0,2,1,0,2,2,3,0,3,1,0,0,0,0,2,1,2,3,1,2,2,0,0,6,3,2,4,0,2,1,1,3,0,2,3,1,2,0,0,1,0,1,0,0,0,0,1,0,0,0,5,0,1,0,0,0,0,0,0,0,2,1,1,0,0,1,1,0,2,0,0,1,1,0,0,1,0,0,0,1,0,0,0,0,0,1,0,1,3,0,1,0,0,0,2,1,0,1,3,2,1,0,1,0,1,1,1,0,2,2,3,2,1,0,2,1,1,3,1,1,2,1,1,1,5,1,3,0,0,1,1,2,3,1,0,1,1,1,2,0,0,0,1,1,0,0,0,0,0,0,0,0,4,1,1,0,0,0,0,0,1,0,0,1,0,3,0,0,0,1],\"p16\":6966,\"v16\":[1,0,0,0,0,1,0,0,1,1,0,1,1,2,2,0,1,1,0,1,0,1,0,2,0,1,0,4,0,5,0,2,3,1,3,4,1,2,1,4,0,0,4,1,3,3,2,1,0,2,0,2,0,1,0,4,2,1,2,0,0,1,0,3,1,0,0,0,0,0,0,0,0,5,4,0,0,1,0,1,0,0,0,1,1,0,1,1,1,0,0,1,2,0,0,0,0,1,1,0,2,0,0,1,0,0,1,0,1,1,0,1,0,2,3,1,0,0,1,0,3,2,1,1,1,1,2,3,0,0,1,0,1,0,3,2,0,3,2,0,3,0,0,0,1,1,6,0,3,1,2,2,2,2,1,3,1,1,1,2,0,3,3,1,1,0,0,1,0,0,0,0,0,0,0,2,0,1,0,0,0,0,0,0,2,0,1,1,0,0,1,0,0,2,0,0,0,0,1,0,0,0,0,0,0,1,2,0,0,1,0,0,0,1,1,2,0,0,2,2,1,1,1,1,1,0,0,1,1,4,2,1,0,0,1,0,4,1,2,2,3,2,1,4,0,1,2,1,3,2,4,3,1,2,0,1,1,1,0,2,2,0,0,0,0,5],\"p17\":7244,\"v17\":1,\"p18\":7258,\"v18\":[1,0,0,0,1,0,1,2,0,0,0,1,0,0,0,0,0,0,0,1,1,0,0,0,1,0,0,0,1,2,0,1,1,0,2,1,1,1,1,1,0,0,1,0,1,1,4,2,1,1,0,1,2,0,0,4,3,1,2,1,2,4,3,1,1,3,1,1,1,1,0,3,1,1,0,0,1,0,0,1,0,0,0,0,0,0,0,2,1,1,2,0,0,0,0,1,0,1,0,1,1],\"p19\":7370,\"v19\":[1,0,0,0,0,0,0,0,1,1,0,0,0,0,1,0,1,0,0,1,0,1,0,0,0,0,0,2,0,0,3,1,1,1,0,0,2,0,0,1,0,0,1,0,2,1,2,1,3,1,1,0,1,4,4,1,2,2,1,0,0,0,0,3,3,0,0,1,1,0,0,1,0,0,0,0,0,3,0,2,0,0,0,0,0,0,0,1,0,0,0,0,2,0,0,2,1,0,0,1,0,1,1,0,1,0,1,1,0,0,0,0,0,0,0,1,0,0,0,0,1,1,1,2,1,1,2,0,2,1,2,1,1,1,2,0,0,2,0,0,1,2,0,1,0,2,2,4,3,2,1,2,2,2,2,0,2,0,1,0,1,0,0,0,3,1,0,0,1,0,1,0,0,0,0,0,0,0,0,2,1,0,0,0,1,1,1,0,0,0,1,0,1,0,0,0,0,1,1,1,0,0,0,0,0,0,1,0,0,0,2,0,0,1,0,0,0,0,0,1,0,2,0,1,2,0,0,0,1,0,0,3,0,0,1,0,0,0,0,1,3,0,1,3,2,1,1,3,2,0,3,1,2,2,3,0,0,0,1,1,1,2,2,0,0,2,1,1,0,4,0,1,0,1,1,0,0,0,0,0,0,0,3,0,0,0,0,0,0,0,0,1,0,0,1,0,1,0,0,0,0,1,1,0,0,0,1,0,1,0,1,1,0,0,2,0,1,0,2,0,0,2,1,0,0,1,1,0,1,2,0,0,0,1,0,0,2,0,2,1,1,0,2,1,3,1,3,1,0,1,1,2,1,0,3,1,2,0,1,0,2,1,3,2,3,1,1,0,0,1,1,0,0,1],\"p20\":7754,\"v20\":1,\"p21\":7771,\"v21\":[2,0,0,0,0,0,0,2,0,0,1,0,0,0,0,1,0,0,0,0,0,0,0,1,0,0,1,1,0,1,1,0,1,0,1,0,1,1,1,0,1,0,0,0,0,1,0,1,0,1,3,2,0,0,1,4,1,1,1,0,1,0,1,0,2,1,3,1,3,0,1,2,1,0,0,1,1,1,0,0,0,0,0,0,1],\"p22\":7866,\"v22\":[1,0,0,0,0,0,1,0,0,0,0,1,1,0,1,0,0,0,1,2,1,0,0,1,0,0,2,0,1,1,1,0,1,0,0,0,1,4,0,0,0,2,2,1,0,1,0,0,2,0,2,0,1,1,0,2,1,2,3,0],\"v23\":1,\"n23\":7,\"v24\":[2,0,0,1,1,2,2,1,2,4,1,1,1,0,1,0,0,0,0,0,0,0,0,0,4,0,1,0,0,0,0,0,0,1,0,0,0,0,1,1,0,0,0,0,1,0,0,0,0,2,1,1,1,1,0,0,1,0,0,0,2,0,0,2,1,1,1,1,0,1,0,1,1,0,0,0,1,0,0,0,0,0,0,1,0,2,0,2,0,1,2,2,0,1,0,0,3,1,1,0,0,1,1,1,0,3,1,0,0,0,1,0,0,0,1,0,0,0,1,0,0,0,0,0,2,0,0,0,3,0,0,0,1],\"p25\":8077,\"v25\":[1,0,0,0,0,1,2,1,2,1,0,1,0,0,1,0,1,0,2,0,0,0,0,0,0,1,1,0,0,0,1,2,0,1,3,1,0,0,0,0,1,1,1,1,1,0,2,1,0,4,1,0,1,1,1,1,0,1,1,0,1,3,2,1,0,0,1,2,0,1,1,0,2,0,1],\"p26\":8163,\"v26\":[2,0,0,0,0,0,1,1,0,0,1,1,0,0,0,1],\"p27\":8189,\"v27\":[1,0,1,0,0,0,0,1,0,0,0,1,2,0,0,0,1,4,1,0,0,0,0,0,2,0,1,0,0,0,0,1,1,0,2,1,2,2,2,1,0,0,0,4,2,2,2,0,2,3,3,1,1,2,6,1,0,1,2,2,2,0,0,0,0,1,1,0,0,0,0,0,0,0,1,0,0,0,0,0,0,0,0,1,0,0,1,0,1,0,0,0,0,0,1,0,2,0,0,0,0,0,0,0,0,1,1,0,0,1,0,1,1,2,1,0,1,0,1,0,0,0,1,1,0,0,0,0,1,0,0,0,3,0,1,1,1,0,0,1,3,1,1,1,0,1,0,1,3,0,1,0,1,1,1,0,1,2,1,0,1,4,0,0,0,1,2,0,0,0,1,0,0,0,0,0,1,1,0,0,0,0,0,1,0,1,0,0,0,0,0,1,0,0,0,0,0,0,0,0,0,1,0,0,0,1,1,0,1,1,0,0,0,0,1,0,2,1,1,1,0,0,0,1,0,2,1,1,1,1,0,0,0,2,0,0,1,0,1,0,0,2,1,1,1,1,0,0,1,0,1,2,4,1,2,0,0,2,1,0,2,0,1,0,1,2,0,1,0,0,0,1,0,0,0,0,0,0,1,0,0,2,0,0,0,0,0,0,2,0,0,1,0,0,0,0,0,1],\"p28\":8500,\"v28\":[1,0,0,0,0,0,0,0,0,1,1,0,0,2,0,1,0,1,1,0,0,0,1,2,0,3,0,1,1,1,0,1,0,0,1,0,1,1,2,1,0,1,1,1,3,2,1,1,0,2,0,0,0,1,2,1,1,0,0,0,0,0,1,0,0,0,1,0,0,1,0,0,0,0,0,0,0,0,0,1,0,0,0,1],\"p29\":8594,\"v29\":[1,0,0,1,0,1,0,0,0,0,0,0,1,1,0,0,0,0,0,1,0,1,0,0,1,2,0,0,0,1,0,0,0,0,1,1,1,1,0,0,0,1,2,0,5,0,2,1,2,0,0,0,0,1,1,3,1,1,0,0,0,0,3,0,1,0,1,0,0,0,0,0,0,0,1,0,0,0,0,1,0,0,1,0,1,0,0,0,0,0,0,1,0,0,0,0,0,0,0,0,0,1,1,0,0,1,0,1,0,0,0,0,0,1,1,0,0,0,0,0,1,0,1,0,2,0,0,1,0,1,0,1,0,2,0,0,1,1,0,2,1,0,1,1,0,0,0,0,0,0,1,0,1,0,1,0,1,2,1,1,0,2,3,0,0,3,0,1,0,2],\"p30\":8774,\"v30\":[1,1,1,1],\"p31\":8788,\"v31\":[1,0,0,1,0,0,0,0,0,1,0,0,0,0,0,0,1,0,0,0,0,0,0,0,0,1,0,1,0,0,0,0,1,3,0,0,0,0,0,2,1,0,0,0,0,0,1,1,0,0,1,0,1,1,2,0,0,2,1,1,1,1,0,0,3,0,0,0,0,0,0,3,0,0,3,2,2,0,1,1,0,0,0,0,0,0,0,2,0,0,0,1,0,0,0,0,0,1,0,0,0,1,1],\"p32\":8913,\"v32\":[1,0,1],\"p33\":8928,\"v33\":[1,0,0,1,0,0,1,0,1,0,1,0,1,0,0,0,1,0,0,0,2,0,1,1,0,3,0,2,3,1,1,1,1,1,0,0,2,0,0,0,0,1,1,0,0,0,0,1,0,2,1],\"p34\":9002,\"v34\":[3,0,1,0,2,2,0,2,0,0,0,0,2,0,0,0,0,1,0,0,0,1,0,0,0,1,0,2,1,0,1,0,0,0,1,0,1,2,0,1,0,1,2,1,1,1,1,0,0,0,0,1,0,1,0,1,0,2,3,1,2,0,0,0,1,2,1,1],\"p35\":9083,\"v35\":[1,0,0,0,0,0,1,0,0,0,0,0,0,0,1,0,0,0,0,0,0,0,0,1],\"p36\":9118,\"v36\":[1,0,0,0,0,1,0,0,1,0,0,0,0,0,0,0,0,1,0,1,1,0,0,0,1,1,1,0,0,2,0,1,2,2,0,1,4,1,3,0,1,2,2,0,1,1,0,2,0,1,0,0,0,1,0,0,0,0,0,0,0,1,0,0,1,0,0,0,0,1],\"p37\":9206,\"v37\":[1,0,0,0,1,0,1,0,0,0,0,0,1,1,0,0,0,0,0,1,0,0,2,1,0,0,2,1,0,0,3,1,0,0,2,0,0,1,1,1,1,0,0,1,0,2,2,0,2,0,1,0,0,1,0,0,1,2,1,1,0,1,0,1,1,0,2,0,0,1,0,0,0,0,0,2,0,0,1,0,0,0,0,0,1,0,0,0,0,0,0,0,0,1,0,1],\"p38\":9318,\"v38\":[1,1,0,0,0,0,1,1,0,0,0,1,0,0,0,1,1,2,0,0,0,0,0,0,0,0,1,0,0,0,0,1,1,0,0,0,0,0,0,0,1,0,0,0,0,2,0,0,1,0,1,2,0,0,1],\"p39\":9385,\"v39\":[1,1],\"p40\":9417,\"v40\":[1,0,1,0,0,0,0,0,0,0,0,1,0,0,0,0,0,0,0,0,1,1,1,1,0,1,0,1,1,1,0,0,1,0,0,0,0,3,0,1,0,0,0,1,0,1,3,1,2,2,3,0,0,0,0,0,0,1,1],\"p41\":9501,\"v41\":1,\"p42\":9518,\"v42\":1,\"p43\":9529,\"v43\":[1,1,2,0,0,0,1,1,0,1,0,0,2,0,0,0,0,0,1,0,1,0,0,0,1,1,1,0,1,2,0,1,1,0,0,0,1,1,3,1,0,0,1,1,1,1,0,1,0,0,0,1,1,2,0,0,0,0,1,0,0,0,0,0,1],\"p44\":9618,\"v44\":[1,0,0,0,1,1,0,0,0,0,0,0,1,0,0,0,1,0,0,0,1,0,1,1,1,0,0,0,0,0,0,1,1,0,0,0,0,1,0,1,0,1,0,3,1,0,2,0,2,1,0,0,1,0,1,2,0,1,0,0,1],\"p45\":9691,\"v45\":1,\"p46\":9702,\"v46\":2,\"p47\":9714,\"v47\":[1,0,0,0,0,0,0,0,0,0,1,0,1,0,0,1,0,0,0,1,0,0,0,0,0,1],\"p48\":9750,\"v48\":[1,0,1,0,0,0,1,1,0,0,1,1,1,0,1,1,0,1,0,2,0,2,0,0,0,0,1,0,0,0,0,1,2,0,0,1,0,0,0,0,0,0,0,1],\"p49\":9810,\"v49\":1,\"p50\":9826,\"v50\":[2,0,0,1],\"p51\":9843,\"v51\":[1,0,0,0,0,0,0,0,1,0,1,0,0,0,2,0,0,1,0,0,1,0,0,1,1,0,0,0,0,0,1,0,0,1,0,2,1,0,0,0,0,1,0,1]}}},{\"_typename\":\"TWebSnapshot\",\"fUniqueID\":0,\"fBits\":0,\"fObjectID\":\"\",\"fOption\":\"blNDC\",\"fKind\":1,\"fSnapshot\":{\"_typename\":\"TPaveText\",\"fUniqueID\":0,\"fBits\":9,\"fLineColor\":1,\"fLineStyle\":1,\"fLineWidth\":1,\"fFillColor\":0,\"fFillStyle\":0,\"fX1\":8.17171714447363,\"fY1\":7182.86767913905,\"fX2\":11.8282828555264,\"fY2\":7373.12503491528,\"fX1NDC\":0.426868686868687,\"fY1NDC\":0.928823534180136,\"fX2NDC\":0.573131313131313,\"fY2NDC\":0.995000004768372,\"fBorderSize\":0,\"fInit\":1,\"fShadowColor\":1,\"fCornerRadius\":0,\"fOption\":\"blNDC\",\"fName\":\"title\",\"fTextAngle\":0,\"fTextSize\":0,\"fTextAlign\":22,\"fTextColor\":1,\"fTextFont\":42,\"fLabel\":\"\",\"fLongest\":6,\"fMargin\":0.05,\"fLines\":{\"_typename\":\"TList\",\"name\":\"TList\",\"arr\":[{\"_typename\":\"TLatex\",\"fUniqueID\":0,\"fBits\":0,\"fName\":\"\",\"fTitle\":\"B_M:q2\",\"fTextAngle\":0,\"fTextSize\":0,\"fTextAlign\":0,\"fTextColor\":0,\"fTextFont\":0,\"fX\":0,\"fY\":0,\"fLineColor\":1,\"fLineStyle\":1,\"fLineWidth\":2,\"fLimitFactorSize\":3,\"fOriginSize\":0.0562499985098839}],\"opt\":[\"\"]}}}],\"fScripts\":\"\",\"fHighlightConnect\":false,\"fFixedSize\":false});\n",
       "   Core.settings.HandleKeys = false;\n",
       "   Core.draw(\"root_plot_1753429463282\", obj, \"\");\n",
       "}\n",
       "\n",
       "function script_load_root_plot_1753429463282(src, on_error) {\n",
       "    let script = document.createElement('script');\n",
       "    script.src = src;\n",
       "    script.onload = function() { display_root_plot_1753429463282(JSROOT); };\n",
       "    script.onerror = function() { script.remove(); on_error(); };\n",
       "    document.head.appendChild(script);\n",
       "}\n",
       "\n",
       "if (typeof requirejs !== 'undefined') {\n",
       "\n",
       "    // We are in jupyter notebooks, use require.js which should be configured already\n",
       "    requirejs.config({\n",
       "       paths: { 'JSRootCore' : [ 'build/jsroot', 'https://root.cern/js/7.7.4/build/jsroot', 'https://jsroot.gsi.de/7.7.4/build/jsroot' ] }\n",
       "    })(['JSRootCore'],  function(Core) {\n",
       "       display_root_plot_1753429463282(Core);\n",
       "    });\n",
       "\n",
       "} else if (typeof JSROOT !== 'undefined') {\n",
       "\n",
       "   // JSROOT already loaded, just use it\n",
       "   display_root_plot_1753429463282(JSROOT);\n",
       "\n",
       "} else {\n",
       "\n",
       "    // We are in jupyterlab without require.js, directly loading jsroot\n",
       "    // Jupyterlab might be installed in a different base_url so we need to know it.\n",
       "    try {\n",
       "        var base_url = JSON.parse(document.getElementById('jupyter-config-data').innerHTML).baseUrl;\n",
       "    } catch(_) {\n",
       "        var base_url = '/';\n",
       "    }\n",
       "\n",
       "    // Try loading a local version of requirejs and fallback to cdn if not possible.\n",
       "    script_load_root_plot_1753429463282(base_url + 'static/build/jsroot.js', function(){\n",
       "        console.error('Fail to load JSROOT locally, please check your jupyter_notebook_config.py file');\n",
       "        script_load_root_plot_1753429463282('https://root.cern/js/7.7.4/build/jsroot.js', function(){\n",
       "            document.getElementById(\"root_plot_1753429463282\").innerHTML = \"Failed to load JSROOT\";\n",
       "        });\n",
       "    });\n",
       "}\n",
       "\n",
       "</script>\n"
      ],
      "text/plain": [
       "<IPython.core.display.HTML object>"
      ]
     },
     "metadata": {},
     "output_type": "display_data"
    }
   ],
   "source": [
    "%%cpp\n",
    "tree->SetBranchStatus(\"B_M\", 1);\n",
    "// We can now simply reference the q2 branch as if were contained in the original tree\n",
    "// Here we are making a 2D plot with one branch \"B_M\" from the original tree and one branch \"q2\" from the friend tree\n",
    "tree->Draw(\"B_M:q2>>h(100, 0, 20, 100, 4800, 7100)\",\"\",\"COLZ\");\n",
    "c.Draw();"
   ]
  },
  {
   "cell_type": "markdown",
   "id": "3316c3c5-825f-427f-a194-09920ea3e311",
   "metadata": {},
   "source": [
    "Another benefit of using ROOT itself, is that there are many in-built classes that expedite common physics analysis tasks.\n",
    "\n",
    "One (slightly outdated) example is the TLorentzVector class used above that makes four-vector operations very simple.\n",
    "Apparently similar functionality is actually available in newer uproot versions.\n",
    "(Not to mention TLorentzVector is actually deprecated in ROOT, with more efficient successors now implmented.)\n",
    "\n",
    "Perhaps a more consequential example is the `TEfficieny` class in ROOT.\n",
    "This is a commonly used class for claculating/storing efficiencies with uncertainties handled fully internally."
   ]
  },
  {
   "cell_type": "markdown",
   "id": "0ec66c5b",
   "metadata": {},
   "source": [
    "Once all processing of the input file is complete, you should close the file.\n",
    "\n",
    "Note: closing the input file will delete the `tree` object, i.e. the input tree, along with any other objects that were owned by the input file. Don't try to access anything from the input file after you have closed it or you will get a segmetiation fault and crash the program."
   ]
  },
  {
   "cell_type": "code",
   "execution_count": 12,
   "id": "2b1b6606",
   "metadata": {},
   "outputs": [],
   "source": [
    "%%cpp\n",
    "inFile->Close();"
   ]
  },
  {
   "cell_type": "markdown",
   "id": "d0ec6440-6195-4efe-972d-83f47ba1b2e0",
   "metadata": {},
   "source": [
    "## Python options"
   ]
  },
  {
   "cell_type": "markdown",
   "id": "2caf91f4-2380-44fe-885f-0adcf0ce927c",
   "metadata": {},
   "source": [
    "Python is most common alternative to C++ for processing ROOT files."
   ]
  },
  {
   "cell_type": "markdown",
   "id": "4103e4f2-5568-493e-9761-db471e8545a0",
   "metadata": {},
   "source": [
    "### PyROOT\n",
    "\n",
    "PyROOT is a python interface to ROOT. \n",
    "\n",
    "It allows one to use all the same ROOT functionality as in C++, but the main program can be written in Python.\n",
    "\n",
    "For most practical purposes, this simply requires dropping the explicit typing and replacing all ROOT classnames etc. with ROOT.classname. For example, the following line creating a histogram in C++,\n",
    "```\n",
    "TH1D h(\"h\", \"h\", 100, 0, 1000);\n",
    "```\n",
    "would become\n",
    "```\n",
    "h = ROOT.TH1D(\"h\", \"h\", 100, 0, 1000)\n",
    "```\n",
    "Note: in python, all variables are pointers, so strictly speaking the python code is actually equivalent to\n",
    "```\n",
    "TH1D* h = new TH1D(\"h\", \"h\", 100, 0, 1000);\n",
    "```"
   ]
  },
  {
   "cell_type": "markdown",
   "id": "fa0efd86-6bc7-4d2d-88ac-91ce5bcc82e7",
   "metadata": {},
   "source": [
    "**One of the few things that is actually a bit different in PyROOT is creating and accessing branches of a tree.**\n",
    "Again due in part to the fact that python variable are pointers so some different methods for providing addresses to the TTree are needed.\n",
    "\n",
    "Overall, it's generally a little easier in Python.\n",
    "\n",
    "**The disadvantage, of course, is that loops in python are way slower than C++.**\n",
    "So looping over many events is not recommended when using PyROOT."
   ]
  },
  {
   "cell_type": "code",
   "execution_count": null,
   "id": "9a74889c-7d99-47c2-adab-032f22ddb3b4",
   "metadata": {},
   "outputs": [],
   "source": [
    "# Open the file\n",
    "inFile = ROOT.TFile.Open(\"B02KstMuMu_w40_42_magup.root\")\n",
    "\n",
    "# Extract the TTree object\n",
    "tree = inFile.Get(\"DecayTree\")\n",
    "\n",
    "# For best performance, we can configure the tree to read in only the branches want \n",
    "# This can make a big difference to the processing speed if there are many branches, as we have here (over 1800 branches reduced to just 8)\n",
    "# First switch everything off\n",
    "tree.SetBranchStatus(\"*\", 0)\n",
    "\n",
    "# # Turn on the branches we want, one by one\n",
    "tree.SetBranchStatus(\"L1_PX\", 1)\n",
    "tree.SetBranchStatus(\"L1_PY\", 1)\n",
    "tree.SetBranchStatus(\"L1_PZ\", 1)\n",
    "tree.SetBranchStatus(\"L1_PE\", 1)\n",
    "\n",
    "tree.SetBranchStatus(\"L2_PX\", 1)\n",
    "tree.SetBranchStatus(\"L2_PY\", 1)\n",
    "tree.SetBranchStatus(\"L2_PZ\", 1)\n",
    "tree.SetBranchStatus(\"L2_PE\", 1)\n"
   ]
  },
  {
   "cell_type": "code",
   "execution_count": 42,
   "id": "5600e76e",
   "metadata": {},
   "outputs": [
    {
     "name": "stdout",
     "output_type": "stream",
     "text": [
      "======> EVENT:0\n",
      " L1_PX           = 812.78\n",
      " L1_PY           = -2753.35\n",
      " L1_PZ           = 48990.1\n",
      " L1_PE           = 49074.2\n",
      " L2_PX           = -1723.26\n",
      " L2_PY           = -880.76\n",
      " L2_PZ           = 35633.5\n",
      " L2_PE           = 35686.2\n"
     ]
    }
   ],
   "source": [
    "# See that only the activated branches are shown\n",
    "tree.Show(0)"
   ]
  },
  {
   "cell_type": "code",
   "execution_count": 26,
   "id": "d57914e2-0ea8-4244-8ba0-6110c1353cb0",
   "metadata": {},
   "outputs": [],
   "source": [
    "from timeit import default_timer as timer"
   ]
  },
  {
   "cell_type": "code",
   "execution_count": null,
   "id": "476e90dd-06ab-4a6a-8e59-726ad22f4a97",
   "metadata": {},
   "outputs": [
    {
     "name": "stdout",
     "output_type": "stream",
     "text": [
      "Event loop took 188168.5472689569 ms\n",
      "******************************************************************************\n",
      "*Tree    :newTree   : newTree                                                *\n",
      "*Entries :   128208 : Total =          515122 bytes  File  Size =     443084 *\n",
      "*        :          : Tree compression factor =   1.16                       *\n",
      "******************************************************************************\n",
      "*Br    0 :q2        : q2/F                                                   *\n",
      "*Entries :   128208 : Total  Size=     514821 bytes  File Size  =     443084 *\n",
      "*Baskets :       16 : Basket Size=      32000 bytes  Compression=   1.16     *\n",
      "*............................................................................*\n",
      "======> EVENT:0\n",
      " q2              = 9.14077\n"
     ]
    }
   ],
   "source": [
    "from array import array\n",
    "\n",
    "# Create a new TFile to store the output\n",
    "# The \"RECREATE\" argument means we will create a new file, overwriting it if it exists already\n",
    "outFile = ROOT.TFile.Open(\"q2_tree_py.root\", \"RECREATE\")\n",
    "\n",
    "# Make a new TTree to store the q2 values\n",
    "newTree = ROOT.TTree(\"newTree\", \"newTree\")\n",
    "\n",
    "# Define a variable to hold the q2 value\n",
    "# Note: must be defined as an array in python\n",
    "q2 = array('f', [0])\n",
    "\n",
    "# Create a branch in the new tree linked to the q2 variable defined above\n",
    "newTree.Branch(\"q2\", q2, \"q2/F\")\n",
    "\n",
    "start = timer()\n",
    "\n",
    "# When we call newTree->Fill(), it will fill the \"q2\" branch with whatever is stored in the q2 variable to which it is linked.\n",
    "# Looping over events is syntactically easier in python\n",
    "for event in tree:\n",
    "\n",
    "    # Can just access the leaves of the branches\n",
    "    mup_px = event.GetLeaf(\"L1_PX\").GetValue()\n",
    "    mup_py = event.GetLeaf(\"L1_PY\").GetValue()\n",
    "    mup_pz = event.GetLeaf(\"L1_PZ\").GetValue()\n",
    "    mup_e = event.GetLeaf(\"L1_PE\").GetValue()\n",
    "    mum_px = event.GetLeaf(\"L2_PX\").GetValue()\n",
    "    mum_py = event.GetLeaf(\"L2_PY\").GetValue()\n",
    "    mum_pz = event.GetLeaf(\"L2_PZ\").GetValue()\n",
    "    mum_e = event.GetLeaf(\"L2_PE\").GetValue()\n",
    "\n",
    "    # ROOT has built in four-vector classes making kinematic calculations easy\n",
    "    mup_p4 = ROOT.TLorentzVector(mup_px, mup_py, mup_pz, mup_e)\n",
    "    mum_p4 = ROOT.TLorentzVector(mum_px, mum_py, mum_pz, mum_e)\n",
    "\n",
    "    # Insert the q2 value into the array\n",
    "    q2[0] = ((mup_p4 + mum_p4).M2()) * 1e-6\n",
    "\n",
    "    newTree.Fill()\n",
    "\n",
    "    \n",
    "\n",
    "end = timer()\n",
    "print(\"Event loop took\", (end - start) * 1e3, \"ms\")\n",
    "\n",
    "newTree.Print()\n",
    "\n",
    "newTree.Show(0)\n",
    "\n",
    "\n",
    "# Write the new TTree containing the q2 values to the output file\n",
    "# Note: since we opened a new TFile right before creating the new TTree, the latter is automatically owned by the former \n",
    "# meaning it will be written there by default, and will also be deleted from memory when we close the file.\n",
    "newTree.Write()\n",
    "\n",
    "outFile.Close()\n",
    "\n"
   ]
  },
  {
   "cell_type": "markdown",
   "id": "d20b685a-992c-4fac-92c5-2b6059f409d4",
   "metadata": {},
   "source": [
    "The tree we got out in the end should be identical to what we did with C++ before. \n",
    "\n",
    "**However, this time in python the event loop takes 1.5 to 2 minutes for 128k events.\n",
    "Comparing this to the C++ equivalent, which took only around 1.5 seconds, really demonstrates why C++ reigns supreme for processing large data files.**"
   ]
  },
  {
   "cell_type": "markdown",
   "id": "2750b112-8fb8-4d1f-b95a-bf3bb8bfd864",
   "metadata": {},
   "source": [
    "### Uproot\n",
    "\n",
    "Most of you are no doubt familiar with the `uproot` package (I won't spend much time on it).\n",
    "\n",
    "`uproot` is a user-friendly python package for reading ROOT files that does not require an actual ROOT installation.\n",
    "\n",
    "It can be easily installed with `pip` or `conda`.\n",
    "\n",
    "It can be used to quickly get branches of trees, histograms, graphs, etc. in the form of Numpy arrays, or Pandas dataframes.\n",
    "\n",
    "This is most useful if you are not very familiar with ROOT.\n",
    "\n",
    "But even if you are, it is also very useful if you plan to use python based packages such as: \n",
    "- `XGBoost` which is very common and effective for training machine learning based multivariate analysis tools, e.g. a BDT classifier.\n",
    "- `matplotlib` which arguably allows for much nicer plots than native ROOT plotting. "
   ]
  },
  {
   "cell_type": "code",
   "execution_count": 13,
   "id": "736546f2-74a8-4217-bfbf-4d44dc36dd2b",
   "metadata": {},
   "outputs": [],
   "source": [
    "import uproot"
   ]
  },
  {
   "cell_type": "code",
   "execution_count": 14,
   "id": "9a3ab3bf-b575-4c9e-ad0b-431ae52d77e1",
   "metadata": {},
   "outputs": [
    {
     "name": "stdout",
     "output_type": "stream",
     "text": [
      "[5299.24316406 5270.49462891 5208.88720703 ... 5453.44384766 5281.71972656\n",
      " 5276.64501953]\n"
     ]
    }
   ],
   "source": [
    "with uproot.open(\"B02KstMuMu_w40_42_magup.root\") as iF:\n",
    "    tree = iF[\"DecayTree\"]\n",
    "    B_M = tree[\"B_M\"].array(library='np')\n",
    "    \n",
    "\n",
    "print(B_M)"
   ]
  },
  {
   "cell_type": "code",
   "execution_count": 15,
   "id": "99fab6bc-77d1-4a9b-ad70-1023e2b93f81",
   "metadata": {},
   "outputs": [
    {
     "data": {
      "image/png": "[encoded data removed]",
      "text/plain": [
       "<Figure size 640x480 with 1 Axes>"
      ]
     },
     "metadata": {},
     "output_type": "display_data"
    }
   ],
   "source": [
    "import matplotlib.pyplot as plt\n",
    "\n",
    "fig, ax = plt.subplots()\n",
    "hist, bins, _ = ax.hist(B_M, bins=100, range=(4800, 7100))\n",
    "ax.set_xlabel(r\"$m(B)\\,$ [GeV/$c^2$]\")\n",
    "ax.set_ylabel(\"Counts\")\n",
    "ax.set_title(\"Invariant mass of B candidates\")\n",
    "ax.set_yscale('log')\n",
    "plt.show()"
   ]
  },
  {
   "cell_type": "markdown",
   "id": "eb18d390-b279-447b-966a-518dcedcc833",
   "metadata": {},
   "source": [
    "In some case, uproot may be faster than PyROOT, since vectorised operations on numpy arrays actually run in C/C++, avoiding the need to loop over events in python.\n",
    "\n",
    "#### Downsides of uproot\n",
    "\n",
    "It does not have complete ROOT compatibility, in the sense that reading/writing functionality is not implemented for all ROOT objects in uproot. It is therefore not a complete substitute.\n",
    "\n",
    "**Uproot is generally still not recommended for large datasets or complex processing.**\n",
    "\n",
    "Uproot has significant overhead and is usually still slow in comparison to working in C++ when processing many events. This applies even in the case of simply reading large files, let alone looping over them and running actual computations. \n",
    "\n",
    "When you read a branch of a TTree with uproot, you need to read the entire branch into memory. TTrees are much more optimised in terms of memory usage.\n",
    "\n",
    "It also means you are mostly restricted to python libraries to do the data processing and analysis."
   ]
  },
  {
   "cell_type": "markdown",
   "id": "26d3a4be-fb54-4153-b75c-1f9eb5a06c7a",
   "metadata": {},
   "source": [
    "## Bridging the gap with RDataFrame\n",
    "The RDataFrame class is a more modern addition to the ROOT library that aims to provide a versatile high-level interface for data processing while still achieving fast performance.\n",
    "\n",
    "The idea is similar to data frames in other languages, for example, Pandas data frames in python or indeed those of the R programming language.\n",
    "\n",
    "A TTree can be read straight into an RDataFrame just by providing the filename and name of the tree object. \n"
   ]
  },
  {
   "cell_type": "code",
   "execution_count": 20,
   "id": "0c9e645b-9178-4f97-bf33-849d8544b8dc",
   "metadata": {},
   "outputs": [],
   "source": [
    "inputdir = \".\"\n",
    "filename = \"B02KstMuMu_w40_42_magup.root\"\n",
    "treename = \"DecayTree\""
   ]
  },
  {
   "cell_type": "code",
   "execution_count": 21,
   "id": "3846411c-8366-4d82-850c-760abe86243e",
   "metadata": {},
   "outputs": [],
   "source": [
    "# Create a dataframe to read in the tree\n",
    "df = ROOT.RDataFrame(treename, f\"{inputdir}/{filename}\")"
   ]
  },
  {
   "cell_type": "code",
   "execution_count": 22,
   "id": "5ee8e52e-bea9-48df-ab5c-9226a39ce3f0",
   "metadata": {},
   "outputs": [
    {
     "name": "stdout",
     "output_type": "stream",
     "text": [
      "+-----+-------------+----------+--------------+----------------------------+-------------+\n",
      "| Row | B_M         | B_BKGCAT | B_BPVCHI2DOF | B_Hlt1TrackMVADecision_TOS | H1_PROBNN_K | \n",
      "+-----+-------------+----------+--------------+----------------------------+-------------+\n",
      "| 0   | 5299.243164 | 10       | 0.438716     | true                       | 0.991599    | \n",
      "+-----+-------------+----------+--------------+----------------------------+-------------+\n",
      "| 1   | 5270.494629 | 10       | 0.515282     | true                       | 0.999793    | \n",
      "+-----+-------------+----------+--------------+----------------------------+-------------+\n",
      "| 2   | 5208.887207 | 70       | 0.523975     | false                      | 0.833494    | \n",
      "+-----+-------------+----------+--------------+----------------------------+-------------+\n",
      "| 3   | 5278.687500 | 10       | 0.525951     | false                      | 1.000000    | \n",
      "+-----+-------------+----------+--------------+----------------------------+-------------+\n",
      "| 4   | 5285.071289 | 10       | 0.481009     | true                       | 1.000000    | \n",
      "+-----+-------------+----------+--------------+----------------------------+-------------+\n",
      "| 5   | 5160.005859 | 70       | 0.484576     | true                       | 1.000000    | \n",
      "+-----+-------------+----------+--------------+----------------------------+-------------+\n",
      "| 6   | 5288.348145 | 10       | 0.484576     | true                       | 1.000000    | \n",
      "+-----+-------------+----------+--------------+----------------------------+-------------+\n",
      "| 7   | 5257.195801 | 10       | 0.502543     | true                       | 0.999834    | \n",
      "+-----+-------------+----------+--------------+----------------------------+-------------+\n",
      "| 8   | 5260.979492 | 10       | 0.497444     | false                      | 0.023149    | \n",
      "+-----+-------------+----------+--------------+----------------------------+-------------+\n",
      "| 9   | 5283.066895 | 10       | 0.532146     | false                      | 0.998540    | \n",
      "+-----+-------------+----------+--------------+----------------------------+-------------+\n"
     ]
    }
   ],
   "source": [
    "# Print the first 10 rows for a few columns in the dataset\n",
    "df.Display([\"B_M\", \"B_BKGCAT\", \"B_BPVCHI2DOF\", \"B_Hlt1TrackMVADecision_TOS\", \"H1_PROBNN_K\"], 10).Print()"
   ]
  },
  {
   "cell_type": "markdown",
   "id": "e10167bc-223f-4469-83a0-f4584076ae04",
   "metadata": {},
   "source": [
    "#### Apply selections"
   ]
  },
  {
   "cell_type": "markdown",
   "id": "4b502b5d-12c4-4a2f-98a0-ca42b4858a39",
   "metadata": {},
   "source": [
    "Arbitrary selections can be imposed using any columns in the dataset via the `Filter()` method.\n",
    "\n",
    "Here, the requirements are defined as strings. \n",
    "This might seem a little annoying, but **the benefit is that strings are internally just-in-time (JIT) compiled into C++ code which makes the data processing much faster than if we ran it using python.**"
   ]
  },
  {
   "cell_type": "code",
   "execution_count": 23,
   "id": "e58ec5af-7332-48f8-adf3-18cf207b7846",
   "metadata": {},
   "outputs": [],
   "source": [
    "# Define selection requirements\n",
    "cutHlt1     = \"(B_Hlt1TrackMVADecision_TOS || B_Hlt1TwoTrackMVADecision_TOS || B_Hlt1TrackMuonMVADecision_TOS)\"\n",
    "cutBMass    = \"(B_M > 5239.58 && B_M < 5319.58)\"\n",
    "cutKstMass  = \"(Kst_M > 796 && Kst_M < 996)\""
   ]
  },
  {
   "cell_type": "code",
   "execution_count": 24,
   "id": "c394cb89-2410-4cef-af4c-e386f30930da",
   "metadata": {},
   "outputs": [],
   "source": [
    "# (optional) Activate some internal logging information to see performance statistics\n",
    "verbosity = ROOT.Experimental.RLogScopedVerbosity(ROOT.Detail.RDF.RDFLogChannel(), ROOT.Experimental.ELogLevel.kInfo)"
   ]
  },
  {
   "cell_type": "code",
   "execution_count": 25,
   "id": "1b4f6518-3a41-4aa0-9b7b-abeb117701f4",
   "metadata": {},
   "outputs": [
    {
     "name": "stdout",
     "output_type": "stream",
     "text": [
      "128208 events in the initial dataset.\n",
      "82379 events in the dataset after apply selection requirements.\n",
      "    ==> efficiency = 64.254 %\n"
     ]
    },
    {
     "name": "stderr",
     "output_type": "stream",
     "text": [
      "Info in <[ROOT.RDF] Info /home/conda/feedstock_root/build_artifacts/bld/rattler-build_root_base_1740585294/work/root-source/tree/dataframe/src/RLoopManager.cxx:894 in void ROOT::Detail::RDF::RLoopManager::Run(bool)>: Starting event loop number 1.\n",
      "Info in <[ROOT.RDF] Info /home/conda/feedstock_root/build_artifacts/bld/rattler-build_root_base_1740585294/work/root-source/tree/dataframe/src/RLoopManager.cxx:853 in void ROOT::Detail::RDF::RLoopManager::Jit()>: Nothing to jit and execute.\n",
      "Info in <[ROOT.RDF] Info /home/conda/feedstock_root/build_artifacts/bld/rattler-build_root_base_1740585294/work/root-source/tree/dataframe/src/RLoopManager.cxx:931 in void ROOT::Detail::RDF::RLoopManager::Run(bool)>: Finished event loop number 1 (0.01s CPU, 0.00715804s elapsed).\n",
      "Info in <[ROOT.RDF] Info /home/conda/feedstock_root/build_artifacts/bld/rattler-build_root_base_1740585294/work/root-source/tree/dataframe/src/RLoopManager.cxx:894 in void ROOT::Detail::RDF::RLoopManager::Run(bool)>: Starting event loop number 2.\n",
      "Info in <[ROOT.RDF] Info /home/conda/feedstock_root/build_artifacts/bld/rattler-build_root_base_1740585294/work/root-source/tree/dataframe/src/RLoopManager.cxx:867 in void ROOT::Detail::RDF::RLoopManager::Jit()>: Just-in-time compilation phase completed in 0.544557 seconds.\n",
      "Info in <[ROOT.RDF] Info /home/conda/feedstock_root/build_artifacts/bld/rattler-build_root_base_1740585294/work/root-source/tree/dataframe/src/RLoopManager.cxx:931 in void ROOT::Detail::RDF::RLoopManager::Run(bool)>: Finished event loop number 2 (0.08s CPU, 0.0815489s elapsed).\n"
     ]
    }
   ],
   "source": [
    "# Count number of events before any filtering\n",
    "nEvents = df.Count().GetValue()\n",
    "print(nEvents, \"events in the initial dataset.\")\n",
    "\n",
    "# Apply selection using the Filter() method\n",
    "# Note: result is saved to a new variable here which effectively creates a new dataframe\n",
    "dfFilt = df.Filter(f\"{cutHlt1}&&{cutBMass}&&{cutKstMass}\")\n",
    "\n",
    "# Count number of events after filtering\n",
    "nFiltered = dfFilt.Count().GetValue()\n",
    "print(nFiltered, \"events in the dataset after apply selection requirements.\")\n",
    "print(f\"    ==> efficiency = {nFiltered/nEvents*100:.3f} %\")"
   ]
  },
  {
   "cell_type": "markdown",
   "id": "b7570d0a-c66c-4453-a81b-ab93e9c3d33a",
   "metadata": {},
   "source": [
    "#### Define new columns\n",
    "\n",
    "Defining new columns is very simple. \n",
    "\n",
    "For example, everything we did in C++ to calculate $q^2$ for each event can be easily performed in 2 lines of code:\n"
   ]
  },
  {
   "cell_type": "code",
   "execution_count": 26,
   "id": "aaebaab9-6e24-449e-9597-68f12fa63ed0",
   "metadata": {},
   "outputs": [],
   "source": [
    "dilepton        = \"TLorentzVector(L1_PX+L2_PX, L1_PY+L2_PY, L1_PZ+L2_PZ, L1_PE+L2_PE)\""
   ]
  },
  {
   "cell_type": "code",
   "execution_count": 27,
   "id": "13b9991d-488b-4ad9-bf8d-323ae85bd5b6",
   "metadata": {},
   "outputs": [
    {
     "name": "stderr",
     "output_type": "stream",
     "text": [
      "Info in <[ROOT.RDF] Info /home/conda/feedstock_root/build_artifacts/bld/rattler-build_root_base_1740585294/work/root-source/tree/dataframe/src/RLoopManager.cxx:867 in void ROOT::Detail::RDF::RLoopManager::Jit()>: Just-in-time compilation phase completed in 0.814922 seconds.\n"
     ]
    }
   ],
   "source": [
    "df = df.Define(\"dilepton\", dilepton).Define(\"q2\", \"dilepton.M2()*1e-6\")"
   ]
  },
  {
   "cell_type": "markdown",
   "id": "7ed89292-883e-4620-80ab-aef7fb59656c",
   "metadata": {},
   "source": [
    "It's a little less trivial to time things here since RDataFrame implements lazy execution, meaning it builds up a computation graph as you define new columns, filter events, etc. and only executes the computations when it is necessary. This also allows you to create forks in the computation graph and have the RDataFrame internally track everything so that execution is not duplicated unnecessarily.\n",
    "\n",
    "RDataFrame internally logs information such as the time taken to JIT compile things and execute event loops. I haven't quite figured out how to meaningfully interpret the numbers yet, but in principle it is good information to have."
   ]
  },
  {
   "cell_type": "markdown",
   "id": "7c532b71",
   "metadata": {},
   "source": [
    "You can alternatively define several columns and make various selections in a single line by chaining them together:"
   ]
  },
  {
   "cell_type": "code",
   "execution_count": 28,
   "id": "80ef4349",
   "metadata": {},
   "outputs": [
    {
     "name": "stderr",
     "output_type": "stream",
     "text": [
      "Info in <[ROOT.RDF] Info /home/conda/feedstock_root/build_artifacts/bld/rattler-build_root_base_1740585294/work/root-source/tree/dataframe/src/RLoopManager.cxx:867 in void ROOT::Detail::RDF::RLoopManager::Jit()>: Just-in-time compilation phase completed in 0.287720 seconds.\n"
     ]
    }
   ],
   "source": [
    "# Create a fresh dataframe to read in the tree\n",
    "df2 = ROOT.RDataFrame(treename, f\"{inputdir}/{filename}\")\n",
    "\n",
    "# Do several operations in a single line\n",
    "df2 = df2.Define(\"dilepton\", dilepton).Define(\"q2\", \"dilepton.M2()*1e-6\").Filter(f\"{cutHlt1}&&{cutBMass}&&{cutKstMass}\")"
   ]
  },
  {
   "cell_type": "markdown",
   "id": "f2ffa8de",
   "metadata": {},
   "source": [
    "Here is how you can visualise the internal computation graph:"
   ]
  },
  {
   "cell_type": "code",
   "execution_count": 29,
   "id": "a936280f-5dfc-44fd-a117-5d3f598888be",
   "metadata": {},
   "outputs": [
    {
     "name": "stderr",
     "output_type": "stream",
     "text": [
      "Info in <[ROOT.RDF] Info /home/conda/feedstock_root/build_artifacts/bld/rattler-build_root_base_1740585294/work/root-source/tree/dataframe/src/RLoopManager.cxx:853 in void ROOT::Detail::RDF::RLoopManager::Jit()>: Nothing to jit and execute.\n"
     ]
    }
   ],
   "source": [
    "# Prints the graph to a dot file\n",
    "ROOT.RDF.SaveGraph(df2, \"./df_graph.dot\")\n",
    "\n",
    "# # Prints the graph to standard output\n",
    "# ROOT.RDF.SaveGraph(df)\n",
    "\n",
    "! dot -Tpng df_graph.dot -o df_graph.png"
   ]
  },
  {
   "cell_type": "code",
   "execution_count": 30,
   "id": "14bb052d",
   "metadata": {},
   "outputs": [
    {
     "data": {
      "image/png": "[encoded data removed]",
      "text/plain": [
       "<IPython.core.display.Image object>"
      ]
     },
     "execution_count": 30,
     "metadata": {},
     "output_type": "execute_result"
    }
   ],
   "source": [
    "# insert computation graph image\n",
    "from IPython.display import Image\n",
    "Image(filename='df_graph.png')"
   ]
  },
  {
   "cell_type": "code",
   "execution_count": 31,
   "id": "d7fe1cb9-76de-4616-8bdb-80b4cfeb6950",
   "metadata": {},
   "outputs": [],
   "source": [
    "# Define the four-momenta of the hadrons\n",
    "Kp_p4           = \"TLorentzVector(H1_PX, H1_PY, H1_PZ, H1_PE)\"\n",
    "pim_p4          = \"TLorentzVector(H2_PX, H2_PY, H2_PZ, H2_PE)\"\n",
    "\n",
    "dihadron        = \"TLorentzVector(H1_PX+H2_PX, H1_PY+H2_PY, H1_PZ+H2_PZ, H1_PE+H2_PE)\"\n",
    "B0_p4           = \"TLorentzVector(B_PX, B_PY, B_PZ, B_ENERGY)\"\n",
    "\n",
    "df = df.Define(\"Kp_p4\", Kp_p4)\n",
    "df = df.Define(\"pim_p4\", pim_p4)\n",
    "df = df.Define(\"B0_p4\", B0_p4)"
   ]
  },
  {
   "cell_type": "markdown",
   "id": "29902d8a-d98f-4386-8c85-40b086b37d45",
   "metadata": {},
   "source": [
    "The expression we actually provide to the Define function can be arbitrarily complex and can return a vast range of output types, as we shall see.\n",
    "\n",
    "For example, one can define actual C++ functions to be JIT compiled that can be used as expressions to define new columns or filter a dataset.\n",
    "\n",
    "Below are two examples that simply return the correct four-momentum for the $\\mu^+$ and $\\mu^-$ based on the PDGID (charge and particle type) of the leptons."
   ]
  },
  {
   "cell_type": "code",
   "execution_count": 32,
   "id": "c7a8db81-c730-403f-b237-c18dec8e3593",
   "metadata": {},
   "outputs": [
    {
     "data": {
      "text/plain": [
       "True"
      ]
     },
     "execution_count": 32,
     "metadata": {},
     "output_type": "execute_result"
    }
   ],
   "source": [
    "# Define functions to return muon four momenta\n",
    "ROOT.gInterpreter.Declare(\"\"\"\n",
    "TLorentzVector get_mup_p4(int l1_ID, int l2_ID, double l1_PX, double l1_PY, double l1_PZ, double l1_PE,\n",
    "                       double l2_PX, double l2_PY, double l2_PZ, double l2_PE) {\n",
    "    TLorentzVector mup;\n",
    "    if (l1_ID == 13 && l2_ID == -13) {\n",
    "        mup = TLorentzVector(l1_PX, l1_PY, l1_PZ, l1_PE);\n",
    "    } else if (l1_ID == -13 && l2_ID == 13) {\n",
    "        mup = TLorentzVector(l2_PX, l2_PY, l2_PZ, l2_PE);\n",
    "    } else {\n",
    "        cout<<\"l1_ID \"<<l1_ID<<endl;\n",
    "        cout<<\"l2_ID  \"<<l2_ID<<endl;\n",
    "    }\n",
    "    return mup;\n",
    "}\n",
    "\"\"\")\n",
    "ROOT.gInterpreter.Declare(\"\"\"\n",
    "TLorentzVector get_mum_p4(int l1_ID, int l2_ID, double l1_PX, double l1_PY, double l1_PZ, double l1_PE,\n",
    "                       double l2_PX, double l2_PY, double l2_PZ, double l2_PE) {\n",
    "    TLorentzVector mum;\n",
    "    if (l1_ID == 13 && l2_ID == -13) {\n",
    "        mum = TLorentzVector(l2_PX, l2_PY, l2_PZ, l2_PE);\n",
    "    } else if (l1_ID == -13 && l2_ID == 13) {\n",
    "        mum = TLorentzVector(l1_PX, l1_PY, l1_PZ, l1_PE);\n",
    "    } else {\n",
    "        cout<<\"l1_ID \"<<l1_ID<<endl;\n",
    "        cout<<\"l2_ID  \"<<l2_ID<<endl;\n",
    "    }\n",
    "    return mum;\n",
    "}\n",
    "\"\"\")"
   ]
  },
  {
   "cell_type": "markdown",
   "id": "2089a317-d523-4ae2-8ab9-fcaf51407a5b",
   "metadata": {},
   "source": [
    "These functions, once declared, can be called in the Define() expression to create new columns in the dataframe."
   ]
  },
  {
   "cell_type": "code",
   "execution_count": 33,
   "id": "670ea1db-6f81-47cf-a14a-fa3b5350cb8c",
   "metadata": {},
   "outputs": [],
   "source": [
    "df = df.Define(\"mup_p4\", \"get_mup_p4(L1_ID, L2_ID, L1_PX, L1_PY, L1_PZ, L1_PE, L2_PX, L2_PY, L2_PZ, L2_PE)\")\n",
    "df = df.Define(\"mum_p4\", \"get_mum_p4(L1_ID, L2_ID, L1_PX, L1_PY, L1_PZ, L1_PE, L2_PX, L2_PY, L2_PZ, L2_PE)\")"
   ]
  },
  {
   "cell_type": "code",
   "execution_count": 34,
   "id": "8b9f65b4-a6d5-4448-ba77-fff9eb891270",
   "metadata": {},
   "outputs": [
    {
     "name": "stdout",
     "output_type": "stream",
     "text": [
      "<C++ overload \"get_mum_p4\" at 0x7f0caf15db80>\n",
      "(x,y,z,t)=(1.000000,1.000000,1.000000,5.000000) (P,eta,phi,E)=(1.732051,0.658479,0.785398,5.000000)\n"
     ]
    }
   ],
   "source": [
    "# The function can be accessed in python as ROOT.function_name\n",
    "print(ROOT.get_mum_p4)\n",
    "\n",
    "ROOT.get_mum_p4(13,-13,1,1,1,5,1,1,1,5).Print()"
   ]
  },
  {
   "cell_type": "markdown",
   "id": "6335db6e-563b-4e85-a12a-f7b2cf9b4891",
   "metadata": {},
   "source": [
    "#### Importing precompiled C++ libraries\n",
    "\n",
    "In fact, it is possible to import an entire precompiled C++ library to perform aribitry data processing tasks.\n",
    "\n",
    "This avoids the need to JIT compile and also avoids having to write C++ code in the form of a string -.-\n",
    "\n",
    "Below, I import a custom C++ library containing functions that calculate the $B^0 \\to K^{*0}\\mu^+\\mu^-$ decay angles, $\\cos \\theta_\\ell$, $\\cos \\theta_K$, and $\\phi$ using the four momenta of all the particles in the decay chain.\n",
    "\n",
    "This library could have been compiled using something like cmake and/or a Makefile or directly with your favourite C++ compiler.\n",
    "\n",
    "In this case, we can use ROOTs own compiler and even do it from here in the notebook."
   ]
  },
  {
   "cell_type": "code",
   "execution_count": 89,
   "id": "2dc12eaf-bd56-4e02-a11e-cb43e92ca03f",
   "metadata": {},
   "outputs": [
    {
     "name": "stdout",
     "output_type": "stream",
     "text": [
      "/home/shared/tutorial/LHCbAnalysisBasics/tools\n",
      "/home/shared/tutorial/LHCbAnalysisBasics\n"
     ]
    },
    {
     "name": "stderr",
     "output_type": "stream",
     "text": [
      "Info in <TUnixSystem::ACLiC>: creating shared library /home/shared/tutorial/LHCbAnalysisBasics/tools/./Angles_cc.so\n"
     ]
    }
   ],
   "source": [
    "# Need to be in the directory with the C++ files to be compiled\n",
    "%cd tools\n",
    "# run the compiler\n",
    "ROOT.gROOT.ProcessLine(\".L Angles.cc+\")\n",
    "# change back to parent directory\n",
    "%cd .."
   ]
  },
  {
   "cell_type": "code",
   "execution_count": 35,
   "id": "956ac65f-7a36-48f3-bb9e-a0d3c9265a0c",
   "metadata": {},
   "outputs": [
    {
     "data": {
      "text/plain": [
       "0"
      ]
     },
     "execution_count": 35,
     "metadata": {},
     "output_type": "execute_result"
    }
   ],
   "source": [
    "# Load the C++ library for decay angles\n",
    "# The library is compiled from the C++ code in the tools directory\n",
    "# The shared library can be compiled in a standalone way using ROOT\n",
    "# To create shared library, first start root in tools directory and type \n",
    "# \".L Angles.cc++\"\n",
    "libdir = \"./tools\"\n",
    "\n",
    "ROOT.gInterpreter.AddIncludePath(libdir)\n",
    "ROOT.gInterpreter.ProcessLine('#include \"Angles.h\"')    # Header with the declaration of the library functions\n",
    "ROOT.gSystem.Load(f\"{libdir}/Angles_cc.so\")             # Library with the functions to calculate decay angles"
   ]
  },
  {
   "cell_type": "code",
   "execution_count": 36,
   "id": "a3823b2e-2039-462f-8569-e2bd8ebcd113",
   "metadata": {},
   "outputs": [
    {
     "name": "stdout",
     "output_type": "stream",
     "text": [
      "<C++ overload \"calculateDecayAngles\" at 0x7f0ca60fbe80>\n"
     ]
    }
   ],
   "source": [
    "# These functions are defined in their own namespace called kstmm\n",
    "print(ROOT.kstmm.calculateDecayAngles)"
   ]
  },
  {
   "cell_type": "markdown",
   "id": "22d2c061-6890-4e42-a83b-33b2ed9c3ef3",
   "metadata": {},
   "source": [
    "Just as before we can use the C++ functions to now define new columns in the dataframe."
   ]
  },
  {
   "cell_type": "code",
   "execution_count": 37,
   "id": "684c4067-ba44-45a0-bd61-a5c2161cacd1",
   "metadata": {},
   "outputs": [],
   "source": [
    "# -------------------------------------------------\n",
    "# Calculate decay angles\n",
    "# -------------------------------------------------\n",
    "# The angles are calculated using the four-momenta of the B0, muons, and hadrons\n",
    "# The actual calculation is done in the C++ library tools/Angles.cc\n",
    "# The angles are returned as a C++ std::tuple of three values: (cosThetaL, cosThetaK, phi)\n",
    "df = df.Define(\"angles\", \"kstmm::calculateDecayAngles(B0_p4, mup_p4, mum_p4, Kp_p4, pim_p4, B_ID)\")\n",
    "# df.Display([\"angles\"]).Print()\n",
    "\n",
    "# Get the individual angles from the tuple\n",
    "df = df.Define(\"cosThetaL\", \"std::get<0>(angles)\")\n",
    "df = df.Define(\"cosThetaK\", \"std::get<1>(angles)\")\n",
    "df = df.Define(\"phi\", \"std::get<2>(angles)\")"
   ]
  },
  {
   "cell_type": "code",
   "execution_count": 38,
   "id": "1b6b986f-d619-4dda-bc78-a2c4f4fee774",
   "metadata": {},
   "outputs": [
    {
     "name": "stderr",
     "output_type": "stream",
     "text": [
      "Info in <[ROOT.RDF] Info /home/conda/feedstock_root/build_artifacts/bld/rattler-build_root_base_1740585294/work/root-source/tree/dataframe/src/RLoopManager.cxx:894 in void ROOT::Detail::RDF::RLoopManager::Run(bool)>: Starting event loop number 3.\n",
      "Info in <[ROOT.RDF] Info /home/conda/feedstock_root/build_artifacts/bld/rattler-build_root_base_1740585294/work/root-source/tree/dataframe/src/RLoopManager.cxx:867 in void ROOT::Detail::RDF::RLoopManager::Jit()>: Just-in-time compilation phase completed in 2.090205 seconds.\n",
      "Info in <[ROOT.RDF] Info /home/conda/feedstock_root/build_artifacts/bld/rattler-build_root_base_1740585294/work/root-source/tree/dataframe/src/RLoopManager.cxx:931 in void ROOT::Detail::RDF::RLoopManager::Run(bool)>: Finished event loop number 3 (0.65s CPU, 0.651414s elapsed).\n"
     ]
    },
    {
     "data": {
      "text/html": [
       "\n",
       "\n",
       "<div id=\"root_plot_1753430153048\" style=\"width: 400px; height: 300px; position: relative\">\n",
       "</div>\n",
       "\n",
       "<script>\n",
       "\n",
       "function display_root_plot_1753430153048(Core) {\n",
       "   let obj = Core.parse({\"_typename\":\"TCanvasWebSnapshot\",\"fUniqueID\":0,\"fBits\":0,\"fObjectID\":\"\",\"fOption\":\"\",\"fKind\":3,\"fSnapshot\":{\"_typename\":\"TCanvas\",\"fUniqueID\":0,\"fBits\":3342344,\"fLineColor\":1,\"fLineStyle\":1,\"fLineWidth\":1,\"fFillColor\":0,\"fFillStyle\":1001,\"fLeftMargin\":0.1,\"fRightMargin\":0.1,\"fBottomMargin\":0.1,\"fTopMargin\":0.1,\"fXfile\":2,\"fYfile\":2,\"fAfile\":1,\"fXstat\":0.99,\"fYstat\":0.99,\"fAstat\":2,\"fFrameFillColor\":0,\"fFrameLineColor\":1,\"fFrameFillStyle\":1001,\"fFrameLineStyle\":1,\"fFrameLineWidth\":1,\"fFrameBorderSize\":1,\"fFrameBorderMode\":0,\"fX1\":-1.25000001862645,\"fY1\":56.0124839821821,\"fX2\":1.25000001862645,\"fY2\":2205.88751601782,\"fXtoAbsPixelk\":198,\"fXtoPixelk\":198,\"fXtoPixel\":158.399997639656,\"fYtoAbsPixelk\":279.086642440202,\"fYtoPixelk\":279.086642440202,\"fYtoPixel\":-0.126518981776561,\"fUtoAbsPixelk\":0,\"fUtoPixelk\":0,\"fUtoPixel\":396,\"fVtoAbsPixelk\":272,\"fVtoPixelk\":272,\"fVtoPixel\":-272,\"fAbsPixeltoXk\":-1.25000001862645,\"fPixeltoXk\":-1.25000001862645,\"fPixeltoX\":0.00631313140720431,\"fAbsPixeltoYk\":2205.88751601782,\"fPixeltoYk\":56.0124839821821,\"fPixeltoY\":-7.90395232366043,\"fXlowNDC\":0,\"fYlowNDC\":0,\"fXUpNDC\":1,\"fYUpNDC\":1,\"fWNDC\":1,\"fHNDC\":1,\"fAbsXlowNDC\":0,\"fAbsYlowNDC\":0,\"fAbsWNDC\":1,\"fAbsHNDC\":1,\"fUxmin\":-1,\"fUymin\":271,\"fUxmax\":1,\"fUymax\":1990.9,\"fTheta\":30,\"fPhi\":30,\"fAspectRatio\":0,\"fNumber\":0,\"fTickx\":0,\"fTicky\":0,\"fLogx\":0,\"fLogy\":0,\"fLogz\":0,\"fPadPaint\":0,\"fCrosshair\":0,\"fCrosshairPos\":0,\"fBorderSize\":2,\"fBorderMode\":0,\"fModified\":false,\"fGridx\":false,\"fGridy\":false,\"fAbsCoord\":false,\"fEditable\":true,\"fFixedAspectRatio\":false,\"fPrimitives\":{\"_typename\":\"TList\",\"name\":\"TList\",\"arr\":[],\"opt\":[]},\"fExecs\":null,\"fName\":\"cctl\",\"fTitle\":\"cctl\",\"fNumPaletteColor\":0,\"fNextPaletteColor\":0,\"fDISPLAY\":\"$DISPLAY\",\"fDoubleBuffer\":0,\"fRetained\":true,\"fXsizeUser\":0,\"fYsizeUser\":0,\"fXsizeReal\":20,\"fYsizeReal\":15,\"fWindowTopX\":0,\"fWindowTopY\":0,\"fWindowWidth\":0,\"fWindowHeight\":0,\"fCw\":396,\"fCh\":272,\"fCatt\":{\"_typename\":\"TAttCanvas\",\"fXBetween\":2,\"fYBetween\":2,\"fTitleFromTop\":1.2,\"fXdate\":0.2,\"fYdate\":0.3,\"fAdate\":1},\"kMoveOpaque\":true,\"kResizeOpaque\":true,\"fHighLightColor\":2,\"fBatch\":true,\"kShowEventStatus\":false,\"kAutoExec\":true,\"kMenuBar\":true},\"fActive\":false,\"fReadOnly\":true,\"fWithoutPrimitives\":false,\"fHasExecs\":false,\"fPrimitives\":[{\"_typename\":\"TWebSnapshot\",\"fUniqueID\":0,\"fBits\":0,\"fObjectID\":\"\",\"fOption\":\"\",\"fKind\":4,\"fSnapshot\":{\"_typename\":\"TWebPainting\",\"fUniqueID\":0,\"fBits\":0,\"fOper\":\"0:255,255,255;1:0,0,0;2:255,0,0;3:0,255,0;4:0,0,255;5:255,255,0;6:255,0,255;7:0,255,255;8:89,211,84;9:89,84,216;10:254,254,254;11:192,182,172;12:76,76,76;13:102,102,102;14:127,127,127;15:153,153,153;16:178,178,178;17:204,204,204;18:229,229,229;19:242,242,242;20:204,198,170;21:204,198,170;22:193,191,168;23:186,181,163;24:178,165,150;25:183,163,155;26:173,153,140;27:155,142,130;28:135,102,86;29:175,206,198;30:132,193,163;31:137,168,160;32:130,158,140;33:173,188,198;34:122,142,153;35:117,137,145;36:104,130,150;37:109,122,132;38:124,153,209;39:127,127,155;40:170,165,191;41:211,206,135;42:221,186,135;43:188,158,130;44:198,153,124;45:191,130,119;46:206,94,96;47:170,142,147;48:165,119,122;49:147,104,112;50:211,89,84;51:146,0,255;52:122,0,255;53:98,0,255;54:74,0,255;55:51,0,255;56:27,0,255;57:3,0,255;58:0,20,255;59:0,44,255;60:0,68,255;61:0,91,255;62:0,115,255;63:0,139,255;64:0,163,255;65:0,187,255;66:0,210,255;67:0,234,255;68:0,255,251;69:0,255,227;70:0,255,204;71:0,255,180;72:0,255,156;73:0,255,132;74:0,255,108;75:0,255,85;76:0,255,61;77:0,255,37;78:0,255,13;79:10,255,0;80:34,255,0;81:57,255,0;82:81,255,0;83:105,255,0;84:129,255,0;85:153,255,0;86:176,255,0;87:200,255,0;88:224,255,0;89:248,255,0;90:255,238,0;91:255,214,0;92:255,190,0;93:255,166,0;94:255,142,0;95:255,119,0;96:255,95,0;97:255,71,0;98:255,47,0;99:255,23,0;100:111,45,168;101:165,42,42;102:178,190,181;103:87,144,252;104:248,156,32;105:228,37,54;106:150,74,139;107:156,156,161;108:122,33,221;109:24,69,251;110:255,94,2;111:201,31,22;112:200,73,169;113:173,173,125;114:134,200,221;115:87,141,255;116:101,99,100;117:63,144,218;118:255,169,14;119:189,31,1;120:148,164,162;121:131,45,182;122:169,107,89;123:231,99,0;124:185,172,112;125:113,117,129;126:146,218,221;127:178,178,178;201:91,91,91;202:122,122,122;203:183,183,183;204:214,214,214;205:137,15,15;206:183,20,20;207:234,71,71;208:239,117,117;209:15,137,15;210:20,183,20;211:71,234,71;212:117,239,117;213:15,15,137;214:20,20,183;215:71,71,234;216:117,117,239;217:137,137,15;218:183,183,20;219:234,234,71;220:239,239,117;221:137,15,137;222:183,20,183;223:234,71,234;224:239,117,239;225:15,137,137;226:20,183,183;227:71,234,234;228:117,239,239;390:255,255,204;391:255,255,153;392:204,204,153;393:255,255,102;394:204,204,102;395:153,153,102;396:255,255,51;397:204,204,51;398:153,153,51;399:102,102,51;400:255,255,0;401:204,204,0;402:153,153,0;403:102,102,0;404:51,51,0;406:204,255,204;407:153,255,153;408:153,204,153;409:102,255,102;410:102,204,102;411:102,153,102;412:51,255,51;413:51,204,51;414:51,153,51;415:51,102,51;416:0,255,0;417:0,204,0;418:0,153,0;419:0,102,0;420:0,51,0;422:204,255,255;423:153,255,255;424:153,204,204;425:102,255,255;426:102,204,204;427:102,153,153;428:51,255,255;429:51,204,204;430:51,153,153;431:51,102,102;432:0,255,255;433:0,204,204;434:0,153,153;435:0,102,102;436:0,51,51;590:204,204,255;591:153,153,255;592:153,153,204;593:102,102,255;594:102,102,204;595:102,102,153;596:51,51,255;597:51,51,204;598:51,51,153;599:51,51,102;600:0,0,255;601:0,0,204;602:0,0,153;603:0,0,102;604:0,0,51;606:255,204,255;607:255,153,255;608:204,153,204;609:255,102,255;610:204,102,204;611:153,102,153;612:255,51,255;613:204,51,204;614:153,51,153;615:102,51,102;616:255,0,255;617:204,0,204;618:153,0,153;619:102,0,102;620:51,0,51;622:255,204,204;623:255,153,153;624:204,153,153;625:255,102,102;626:204,102,102;627:153,102,102;628:255,51,51;629:204,51,51;630:153,51,51;631:102,51,51;632:255,0,0;633:204,0,0;634:153,0,0;635:102,0,0;636:51,0,0;791:255,204,153;792:204,153,102;793:153,102,51;794:153,102,0;795:204,153,51;796:255,204,102;797:255,153,0;798:255,204,51;799:204,153,0;800:255,204,0;801:255,153,51;802:204,102,0;803:102,51,0;804:153,51,0;805:204,102,51;806:255,153,102;807:255,102,0;808:255,102,51;809:204,51,0;810:255,51,0;811:153,255,51;812:102,204,0;813:51,102,0;814:51,153,0;815:102,204,51;816:153,255,102;817:102,255,0;818:102,255,51;819:51,204,0;820:51,255,0;821:204,255,153;822:153,204,102;823:102,153,51;824:102,153,0;825:153,204,51;826:204,255,102;827:153,255,0;828:204,255,51;829:153,204,0;830:204,255,0;831:153,255,204;832:102,204,153;833:51,153,102;834:0,153,102;835:51,204,153;836:102,255,204;837:0,255,102;838:51,255,204;839:0,204,153;840:0,255,204;841:51,255,153;842:0,204,102;843:0,102,51;844:0,153,51;845:51,204,102;846:102,255,153;847:0,255,153;848:51,255,102;849:0,204,51;850:0,255,51;851:153,204,255;852:102,153,204;853:51,102,153;854:0,51,153;855:51,102,204;856:102,153,255;857:0,102,255;858:51,102,255;859:0,51,204;860:0,51,255;861:51,153,255;862:0,102,204;863:0,51,102;864:0,102,153;865:51,153,204;866:102,204,255;867:0,153,255;868:51,204,255;869:0,153,204;870:0,204,255;871:204,153,255;872:153,102,204;873:102,51,153;874:102,0,153;875:153,51,204;876:204,102,255;877:153,0,255;878:204,51,255;879:153,0,204;880:204,0,255;881:153,51,255;882:102,0,204;883:51,0,102;884:51,0,153;885:102,51,204;886:153,102,255;887:102,0,255;888:102,51,255;889:51,0,204;890:51,0,255;891:255,51,153;892:204,0,102;893:102,0,51;894:153,0,51;895:204,51,102;896:255,102,153;897:255,0,102;898:255,51,102;899:204,0,51;900:255,0,51;901:255,153,204;902:204,102,153;903:153,51,102;904:153,0,102;905:204,51,153;906:255,102,204;907:255,0,153;908:204,0,153;909:255,51,204;910:255,0,153;920:204,204,204;921:153,153,153;922:102,102,102;923:51,51,51;924:53,42,134;925:51,44,137;926:50,45,140;927:49,47,143;928:48,48,146;929:46,50,148;930:45,51,151;931:44,53,154;932:43,55,157;933:42,56,160;934:40,58,162;935:39,59,165;936:38,61,168;937:37,63,171;938:35,64,174;939:34,66,176;940:33,67,179;941:32,69,182;942:31,71,185;943:29,72,187;944:28,74,190;945:27,75,193;946:26,77,196;947:24,79,199;948:23,80,201;949:22,82,204;950:21,83,207;951:19,85,210;952:18,86,213;953:17,88,215;954:16,90,218;955:15,91,221;956:15,92,221;957:15,94,220;958:15,95,220;959:15,96,220;960:15,97,220;961:15,98,220;962:16,99,219;963:16,100,219;964:16,102,219;965:16,103,219;966:16,104,218;967:16,105,218;968:17,106,218;969:17,107,218;970:17,109,217;971:17,110,217;972:17,111,217;973:17,112,217;974:17,113,216;975:18,114,216;976:18,115,216;977:18,117,216;978:18,118,215;979:18,119,215;980:18,120,215;981:18,121,215;982:19,122,215;983:19,123,214;984:19,125,214;985:19,126,214;986:19,127,214;987:19,128,213;988:19,129,213;989:19,130,213;990:18,131,212;991:18,132,212;992:17,134,211;993:17,135,211;994:16,136,211;995:16,137,210;996:15,138,210;997:15,139,210;998:15,140,209;999:14,141,209;1000:14,142,208;1001:13,143,208;1002:13,145,208;1003:12,146,207;1004:12,147,207;1005:12,148,207;1006:11,149,206;1007:11,150,206;1008:10,151,205;1009:10,152,205;1010:9,153,205;1011:9,154,204;1012:8,155,204;1013:8,157,204;1014:8,158,203;1015:7,159,203;1016:7,160,202;1017:6,161,202;1018:6,162,202;1019:5,163,201;1020:7,164,200;1021:8,164,199;1022:9,165,198;1023:10,166,197;1024:12,166,195;1025:13,167,194;1026:14,167,193;1027:15,168,192;1028:17,169,191;1029:18,169,189;1030:19,170,188;1031:20,170,187;1032:22,171,186;1033:23,172,185;1034:24,172,184;1035:25,173,182;1036:27,173,181;1037:28,174,180;1038:29,175,179;1039:30,175,178;1040:32,176,176;1041:33,176,175;1042:34,177,174;1043:35,178,173;1044:37,178,172;1045:38,179,170;1046:39,180,169;1047:40,180,168;1048:42,181,167;1049:43,181,166;1050:44,182,165;1051:45,183,163;1052:48,183,162;1053:51,183,161;1054:54,183,159;1055:57,184,158;1056:59,184,156;1057:62,184,155;1058:65,184,154;1059:68,185,152;1060:71,185,151;1061:73,185,149;1062:76,185,148;1063:79,186,146;1064:82,186,145;1065:84,186,144;1066:87,186,142;1067:90,187,141;1068:93,187,139;1069:96,187,138;1070:98,187,137;1071:101,188,135;1072:104,188,134;1073:107,188,132;1074:110,188,131;1075:112,189,130;1076:115,189,128;1077:118,189,127;1078:121,189,125;1079:124,190,124;1080:126,190,123;1081:129,190,121;1082:132,190,120;1083:135,191,118;1084:137,190,117;1085:139,190,117;1086:142,190,116;1087:144,190,115;1088:146,190,114;1089:148,190,113;1090:151,190,112;1091:153,190,111;1092:155,189,110;1093:158,189,109;1094:160,189,108;1095:162,189,107;1096:165,189,106;1097:167,189,105;1098:169,189,104;1099:171,188,104;1100:174,188,103;1101:176,188,102;1102:178,188,101;1103:181,188,100;1104:183,188,99;1105:185,188,98;1106:188,188,97;1107:190,187,96;1108:192,187,95;1109:194,187,94;1110:197,187,93;1111:199,187,92;1112:201,187,92;1113:204,187,91;1114:206,186,90;1115:208,186,89;1116:210,187,88;1117:211,187,86;1118:212,188,85;1119:214,188,84;1120:215,188,83;1121:217,189,81;1122:218,189,80;1123:220,190,79;1124:221,190,78;1125:222,191,77;1126:224,191,75;1127:225,191,74;1128:227,192,73;1129:228,192,72;1130:229,193,70;1131:231,193,69;1132:232,194,68;1133:234,194,67;1134:235,194,66;1135:236,195,64;1136:238,195,63;1137:239,196,62;1138:241,196,61;1139:242,197,59;1140:244,197,58;1141:245,197,57;1142:246,198,56;1143:248,198,55;1144:249,199,53;1145:251,199,52;1146:252,200,51;1147:253,200,50;1148:253,202,49;1149:253,203,47;1150:253,205,46;1151:253,206,45;1152:253,208,44;1153:252,209,43;1154:252,211,42;1155:252,213,41;1156:252,214,39;1157:252,216,38;1158:252,217,37;1159:252,219,36;1160:251,220,35;1161:251,222,34;1162:251,224,33;1163:251,225,31;1164:251,227,30;1165:251,228,29;1166:250,230,28;1167:250,231,27;1168:250,233,26;1169:250,235,25;1170:250,236,23;1171:250,238,22;1172:250,239,21;1173:249,241,20;1174:249,242,19;1175:249,244,18;1176:249,246,17;1177:249,247,16;1178:249,249,14\",\"fBuf\":{\"$arr\":\"Float32\",\"len\":255,\"v\":[924,925,926,927,928,929,930,931,932,933,934,935,936,937,938,939,940,941,942,943,944,945,946,947,948,949,950,951,952,953,954,955,956,957,958,959,960,961,962,963,964,965,966,967,968,969,970,971,972,973,974,975,976,977,978,979,980,981,982,983,984,985,986,987,988,989,990,991,992,993,994,995,996,997,998,999,1000,1001,1002,1003,1004,1005,1006,1007,1008,1009,1010,1011,1012,1013,1014,1015,1016,1017,1018,1019,1020,1021,1022,1023,1024,1025,1026,1027,1028,1029,1030,1031,1032,1033,1034,1035,1036,1037,1038,1039,1040,1041,1042,1043,1044,1045,1046,1047,1048,1049,1050,1051,1052,1053,1054,1055,1056,1057,1058,1059,1060,1061,1062,1063,1064,1065,1066,1067,1068,1069,1070,1071,1072,1073,1074,1075,1076,1077,1078,1079,1080,1081,1082,1083,1084,1085,1086,1087,1088,1089,1090,1091,1092,1093,1094,1095,1096,1097,1098,1099,1100,1101,1102,1103,1104,1105,1106,1107,1108,1109,1110,1111,1112,1113,1114,1115,1116,1117,1118,1119,1120,1121,1122,1123,1124,1125,1126,1127,1128,1129,1130,1131,1132,1133,1134,1135,1136,1137,1138,1139,1140,1141,1142,1143,1144,1145,1146,1147,1148,1149,1150,1151,1152,1153,1154,1155,1156,1157,1158,1159,1160,1161,1162,1163,1164,1165,1166,1167,1168,1169,1170,1171,1172,1173,1174,1175,1176,1177,1178]}}},{\"_typename\":\"TWebSnapshot\",\"fUniqueID\":0,\"fBits\":0,\"fObjectID\":\"\",\"fOption\":\"\",\"fKind\":5,\"fSnapshot\":{\"_typename\":\"TStyle\",\"fUniqueID\":0,\"fBits\":0,\"fName\":\"Modern\",\"fTitle\":\"Modern Style\",\"fLineColor\":1,\"fLineStyle\":1,\"fLineWidth\":1,\"fFillColor\":19,\"fFillStyle\":1001,\"fMarkerColor\":1,\"fMarkerStyle\":1,\"fMarkerSize\":1,\"fTextAngle\":0,\"fTextSize\":0.05,\"fTextAlign\":11,\"fTextColor\":1,\"fTextFont\":62,\"fXaxis\":{\"_typename\":\"TAttAxis\",\"fNdivisions\":510,\"fAxisColor\":1,\"fLabelColor\":1,\"fLabelFont\":42,\"fLabelOffset\":0.005,\"fLabelSize\":0.035,\"fTickLength\":0.03,\"fTitleOffset\":1,\"fTitleSize\":0.035,\"fTitleColor\":1,\"fTitleFont\":42},\"fYaxis\":{\"_typename\":\"TAttAxis\",\"fNdivisions\":510,\"fAxisColor\":1,\"fLabelColor\":1,\"fLabelFont\":42,\"fLabelOffset\":0.005,\"fLabelSize\":0.035,\"fTickLength\":0.03,\"fTitleOffset\":0,\"fTitleSize\":0.035,\"fTitleColor\":1,\"fTitleFont\":42},\"fZaxis\":{\"_typename\":\"TAttAxis\",\"fNdivisions\":510,\"fAxisColor\":1,\"fLabelColor\":1,\"fLabelFont\":42,\"fLabelOffset\":0.005,\"fLabelSize\":0.035,\"fTickLength\":0.03,\"fTitleOffset\":1,\"fTitleSize\":0.035,\"fTitleColor\":1,\"fTitleFont\":42},\"fBarWidth\":1,\"fBarOffset\":0,\"fColorModelPS\":0,\"fDrawBorder\":0,\"fOptLogx\":0,\"fOptLogy\":0,\"fOptLogz\":0,\"fOptDate\":0,\"fOptStat\":1111,\"fOptTitle\":1,\"fOptFile\":0,\"fOptFit\":0,\"fShowEventStatus\":0,\"fShowEditor\":0,\"fShowToolBar\":0,\"fNumberContours\":20,\"fAttDate\":{\"_typename\":\"TAttText\",\"fTextAngle\":0,\"fTextSize\":0.025,\"fTextAlign\":11,\"fTextColor\":1,\"fTextFont\":62},\"fDateX\":0.01,\"fDateY\":0.01,\"fEndErrorSize\":2,\"fErrorX\":0.5,\"fFuncColor\":2,\"fFuncStyle\":1,\"fFuncWidth\":2,\"fGridColor\":0,\"fGridStyle\":3,\"fGridWidth\":1,\"fLegendBorderSize\":1,\"fLegendFillColor\":0,\"fLegendFillStyle\":1001,\"fLegendFont\":42,\"fLegendTextSize\":0,\"fHatchesLineWidth\":1,\"fHatchesSpacing\":1,\"fFrameFillColor\":0,\"fFrameLineColor\":1,\"fFrameFillStyle\":1001,\"fFrameLineStyle\":1,\"fFrameLineWidth\":1,\"fFrameBorderSize\":1,\"fFrameBorderMode\":0,\"fHistFillColor\":0,\"fHistLineColor\":602,\"fHistFillStyle\":1001,\"fHistLineStyle\":1,\"fHistLineWidth\":1,\"fHistMinimumZero\":false,\"fHistTopMargin\":0.05,\"fCanvasPreferGL\":false,\"fCanvasColor\":0,\"fCanvasBorderSize\":2,\"fCanvasBorderMode\":0,\"fCanvasDefH\":500,\"fCanvasDefW\":700,\"fCanvasDefX\":10,\"fCanvasDefY\":10,\"fPadColor\":0,\"fPadBorderSize\":2,\"fPadBorderMode\":0,\"fPadBottomMargin\":0.1,\"fPadTopMargin\":0.1,\"fPadLeftMargin\":0.1,\"fPadRightMargin\":0.1,\"fPadGridX\":false,\"fPadGridY\":false,\"fPadTickX\":0,\"fPadTickY\":0,\"fPaperSizeX\":20,\"fPaperSizeY\":26,\"fScreenFactor\":1,\"fStatColor\":0,\"fStatTextColor\":1,\"fStatBorderSize\":1,\"fStatFont\":42,\"fStatFontSize\":0,\"fStatStyle\":1001,\"fStatFormat\":\"6.4g\",\"fStatX\":0.98,\"fStatY\":0.935,\"fStatW\":0.2,\"fStatH\":0.16,\"fStripDecimals\":true,\"fTitleAlign\":23,\"fTitleColor\":0,\"fTitleTextColor\":1,\"fTitleBorderSize\":0,\"fTitleFont\":42,\"fTitleFontSize\":0.05,\"fTitleStyle\":0,\"fTitleX\":0.5,\"fTitleY\":0.995,\"fTitleW\":0,\"fTitleH\":0,\"fLegoInnerR\":0.5,\"fLineStyles\":[\"\",\"  \",\" 12 12\",\" 4 8\",\" 12 16 4 16\",\" 20 12 4 12\",\" 20 12 4 12 4 12 4 12\",\" 20 20\",\" 20 12 4 12 4 12\",\" 80 20\",\" 80 40 4 40\",\"  \",\"  \",\"  \",\"  \",\"  \",\"  \",\"  \",\"  \",\"  \",\"  \",\"  \",\"  \",\"  \",\"  \",\"  \",\"  \",\"  \",\"  \",\"  \"],\"fHeaderPS\":\"\",\"fTitlePS\":\"\",\"fFitFormat\":\"5.4g\",\"fPaintTextFormat\":\"g\",\"fLineScalePS\":3,\"fJoinLinePS\":0,\"fCapLinePS\":0,\"fTimeOffset\":788918400,\"fImageScaling\":1,\"fCandleWhiskerRange\":1,\"fCandleBoxRange\":0.5,\"fCandleScaled\":false,\"fViolinScaled\":true,\"fXAxisExpXOffset\":0,\"fXAxisExpYOffset\":0,\"fYAxisExpXOffset\":0,\"fYAxisExpYOffset\":0,\"fAxisMaxDigits\":5,\"fOrthoCamera\":false}},{\"_typename\":\"TWebSnapshot\",\"fUniqueID\":0,\"fBits\":0,\"fObjectID\":\"\",\"fOption\":\"\",\"fKind\":1,\"fSnapshot\":{\"_typename\":\"TFrame\",\"fUniqueID\":0,\"fBits\":8,\"fLineColor\":1,\"fLineStyle\":1,\"fLineWidth\":1,\"fFillColor\":0,\"fFillStyle\":1001,\"fX1\":-1,\"fY1\":271,\"fX2\":1,\"fY2\":1990.9,\"fBorderSize\":1,\"fBorderMode\":0}},{\"_typename\":\"TWebSnapshot\",\"fUniqueID\":0,\"fBits\":0,\"fObjectID\":\"\",\"fOption\":\"\",\"fKind\":1,\"fSnapshot\":{\"_typename\":\"TH1D\",\"fUniqueID\":0,\"fBits\":8,\"fName\":\"hctl\",\"fTitle\":\"\",\"fLineColor\":602,\"fLineStyle\":1,\"fLineWidth\":1,\"fFillColor\":0,\"fFillStyle\":1001,\"fMarkerColor\":1,\"fMarkerStyle\":1,\"fMarkerSize\":1,\"fNcells\":102,\"fXaxis\":{\"_typename\":\"TAxis\",\"fUniqueID\":0,\"fBits\":0,\"fName\":\"xaxis\",\"fTitle\":\"cos #it{#theta}_{#it{l}}\",\"fNdivisions\":510,\"fAxisColor\":1,\"fLabelColor\":1,\"fLabelFont\":42,\"fLabelOffset\":0.005,\"fLabelSize\":0.035,\"fTickLength\":0.03,\"fTitleOffset\":1,\"fTitleSize\":0.035,\"fTitleColor\":1,\"fTitleFont\":42,\"fNbins\":100,\"fXmin\":-1,\"fXmax\":1,\"fXbins\":[],\"fFirst\":0,\"fLast\":0,\"fBits2\":0,\"fTimeDisplay\":false,\"fTimeFormat\":\"\",\"fLabels\":null,\"fModLabs\":null},\"fYaxis\":{\"_typename\":\"TAxis\",\"fUniqueID\":0,\"fBits\":0,\"fName\":\"yaxis\",\"fTitle\":\"Counts\",\"fNdivisions\":510,\"fAxisColor\":1,\"fLabelColor\":1,\"fLabelFont\":42,\"fLabelOffset\":0.005,\"fLabelSize\":0.035,\"fTickLength\":0.03,\"fTitleOffset\":0,\"fTitleSize\":0.035,\"fTitleColor\":1,\"fTitleFont\":42,\"fNbins\":1,\"fXmin\":0,\"fXmax\":1,\"fXbins\":[],\"fFirst\":0,\"fLast\":0,\"fBits2\":0,\"fTimeDisplay\":false,\"fTimeFormat\":\"\",\"fLabels\":null,\"fModLabs\":null},\"fZaxis\":{\"_typename\":\"TAxis\",\"fUniqueID\":0,\"fBits\":0,\"fName\":\"zaxis\",\"fTitle\":\"\",\"fNdivisions\":510,\"fAxisColor\":1,\"fLabelColor\":1,\"fLabelFont\":42,\"fLabelOffset\":0.005,\"fLabelSize\":0.035,\"fTickLength\":0.03,\"fTitleOffset\":1,\"fTitleSize\":0.035,\"fTitleColor\":1,\"fTitleFont\":42,\"fNbins\":1,\"fXmin\":0,\"fXmax\":1,\"fXbins\":[],\"fFirst\":0,\"fLast\":0,\"fBits2\":0,\"fTimeDisplay\":false,\"fTimeFormat\":\"\",\"fLabels\":null,\"fModLabs\":null},\"fBarOffset\":0,\"fBarWidth\":1000,\"fEntries\":128208,\"fTsumw\":128208,\"fTsumw2\":128208,\"fTsumwx\":-22107.2721975668,\"fTsumwx2\":39797.5675090781,\"fMaximum\":-1111,\"fMinimum\":-1111,\"fNormFactor\":0,\"fContour\":[],\"fSumw2\":[],\"fOption\":\"\",\"fFunctions\":{\"_typename\":\"TList\",\"name\":\"TList\",\"arr\":[{\"_typename\":\"TPaveStats\",\"fUniqueID\":0,\"fBits\":9,\"fLineColor\":1,\"fLineStyle\":1,\"fLineWidth\":1,\"fFillColor\":0,\"fFillStyle\":1001,\"fX1\":0.700000050663949,\"fY1\":1722.16564662405,\"fX2\":1.20000006556511,\"fY2\":2066.1456440612,\"fX1NDC\":0.780000016093254,\"fY1NDC\":0.775000005960464,\"fX2NDC\":0.980000019073486,\"fY2NDC\":0.935000002384186,\"fBorderSize\":1,\"fInit\":1,\"fShadowColor\":1,\"fCornerRadius\":0,\"fOption\":\"brNDC\",\"fName\":\"stats\",\"fTextAngle\":0,\"fTextSize\":0,\"fTextAlign\":12,\"fTextColor\":1,\"fTextFont\":42,\"fLabel\":\"\",\"fLongest\":18,\"fMargin\":0.05,\"fLines\":{\"_typename\":\"TList\",\"name\":\"TList\",\"arr\":[{\"_typename\":\"TLatex\",\"fUniqueID\":0,\"fBits\":0,\"fName\":\"\",\"fTitle\":\"hctl\",\"fTextAngle\":0,\"fTextSize\":0.0368,\"fTextAlign\":0,\"fTextColor\":0,\"fTextFont\":0,\"fX\":0,\"fY\":0,\"fLineColor\":1,\"fLineStyle\":1,\"fLineWidth\":2,\"fLimitFactorSize\":3,\"fOriginSize\":0.0368000008165836},{\"_typename\":\"TLatex\",\"fUniqueID\":0,\"fBits\":0,\"fName\":\"\",\"fTitle\":\"Entries = 128208 \",\"fTextAngle\":0,\"fTextSize\":0,\"fTextAlign\":0,\"fTextColor\":0,\"fTextFont\":0,\"fX\":0,\"fY\":0,\"fLineColor\":1,\"fLineStyle\":1,\"fLineWidth\":2,\"fLimitFactorSize\":3,\"fOriginSize\":0.04},{\"_typename\":\"TLatex\",\"fUniqueID\":0,\"fBits\":0,\"fName\":\"\",\"fTitle\":\"Mean  = -0.1724\",\"fTextAngle\":0,\"fTextSize\":0,\"fTextAlign\":0,\"fTextColor\":0,\"fTextFont\":0,\"fX\":0,\"fY\":0,\"fLineColor\":1,\"fLineStyle\":1,\"fLineWidth\":2,\"fLimitFactorSize\":3,\"fOriginSize\":0.04},{\"_typename\":\"TLatex\",\"fUniqueID\":0,\"fBits\":0,\"fName\":\"\",\"fTitle\":\"Std Dev   = 0.5298\",\"fTextAngle\":0,\"fTextSize\":0,\"fTextAlign\":0,\"fTextColor\":0,\"fTextFont\":0,\"fX\":0,\"fY\":0,\"fLineColor\":1,\"fLineStyle\":1,\"fLineWidth\":2,\"fLimitFactorSize\":3,\"fOriginSize\":0.04}],\"opt\":[\"\",\"\",\"\",\"\"]},\"fOptFit\":0,\"fOptStat\":1111,\"fFitFormat\":\"5.4g\",\"fStatFormat\":\"6.4g\",\"fParent\":{\"$ref\":15}}],\"opt\":[\"brNDC\"]},\"fBufferSize\":0,\"fBuffer\":[],\"fBinStatErrOpt\":0,\"fStatOverflows\":2,\"fArray\":{\"$arr\":\"Float64\",\"len\":102,\"p\":1,\"v\":[1909,1793,1814,1742,1775,1814,1845,1695,1751,1681,1727,1656,1666,1711,1634,1592,1586,1665,1607,1639,1641,1624,1657,1608,1619,1598,1605,1503,1572,1534,1581,1601,1527,1560,1535,1532,1534,1494,1502,1474,1466,1505,1470,1482,1464,1388,1325,1451,1447,1426,1440,1419,1397,1287,1328,1421,1313,1273,1298,1307,1306,1277,1211,1211,1211,1208,1164,1131,1143,1121,1120,1085,1063,1014,1015,979,993,1004,977,898,902,892,797,822,783,785,719,698,680,677,649,593,545,550,472,440,437,406,371,349]}}}],\"fScripts\":\"\",\"fHighlightConnect\":false,\"fFixedSize\":false});\n",
       "   Core.settings.HandleKeys = false;\n",
       "   Core.draw(\"root_plot_1753430153048\", obj, \"\");\n",
       "}\n",
       "\n",
       "function script_load_root_plot_1753430153048(src, on_error) {\n",
       "    let script = document.createElement('script');\n",
       "    script.src = src;\n",
       "    script.onload = function() { display_root_plot_1753430153048(JSROOT); };\n",
       "    script.onerror = function() { script.remove(); on_error(); };\n",
       "    document.head.appendChild(script);\n",
       "}\n",
       "\n",
       "if (typeof requirejs !== 'undefined') {\n",
       "\n",
       "    // We are in jupyter notebooks, use require.js which should be configured already\n",
       "    requirejs.config({\n",
       "       paths: { 'JSRootCore' : [ 'build/jsroot', 'https://root.cern/js/7.7.4/build/jsroot', 'https://jsroot.gsi.de/7.7.4/build/jsroot' ] }\n",
       "    })(['JSRootCore'],  function(Core) {\n",
       "       display_root_plot_1753430153048(Core);\n",
       "    });\n",
       "\n",
       "} else if (typeof JSROOT !== 'undefined') {\n",
       "\n",
       "   // JSROOT already loaded, just use it\n",
       "   display_root_plot_1753430153048(JSROOT);\n",
       "\n",
       "} else {\n",
       "\n",
       "    // We are in jupyterlab without require.js, directly loading jsroot\n",
       "    // Jupyterlab might be installed in a different base_url so we need to know it.\n",
       "    try {\n",
       "        var base_url = JSON.parse(document.getElementById('jupyter-config-data').innerHTML).baseUrl;\n",
       "    } catch(_) {\n",
       "        var base_url = '/';\n",
       "    }\n",
       "\n",
       "    // Try loading a local version of requirejs and fallback to cdn if not possible.\n",
       "    script_load_root_plot_1753430153048(base_url + 'static/build/jsroot.js', function(){\n",
       "        console.error('Fail to load JSROOT locally, please check your jupyter_notebook_config.py file');\n",
       "        script_load_root_plot_1753430153048('https://root.cern/js/7.7.4/build/jsroot.js', function(){\n",
       "            document.getElementById(\"root_plot_1753430153048\").innerHTML = \"Failed to load JSROOT\";\n",
       "        });\n",
       "    });\n",
       "}\n",
       "\n",
       "</script>\n"
      ],
      "text/plain": [
       "<IPython.core.display.HTML object>"
      ]
     },
     "metadata": {},
     "output_type": "display_data"
    }
   ],
   "source": [
    "hctl = df.Histo1D((\"hctl\", \";cos #it{#theta}_{#it{l}};Counts\", 100, -1, 1), \"cosThetaL\")\n",
    "hctk = df.Histo1D((\"hctl\", \";cos #it{#theta}_{#it{K}};Counts\", 100, -1, 1), \"cosThetaK\")\n",
    "hphi = df.Histo1D((\"hphi\", \";#it{#phi};Counts\", 100, -3.14, 3.14), \"phi\")\n",
    "\n",
    "cctl = ROOT.TCanvas(\"cctl\", \"cctl\", 400, 300)\n",
    "hctl.Draw()\n",
    "cctl.Draw()\n"
   ]
  },
  {
   "cell_type": "code",
   "execution_count": 39,
   "id": "1538b2cb-88e6-48c0-846d-622054205c90",
   "metadata": {},
   "outputs": [
    {
     "data": {
      "text/html": [
       "\n",
       "\n",
       "<div id=\"root_plot_1753430155788\" style=\"width: 400px; height: 300px; position: relative\">\n",
       "</div>\n",
       "\n",
       "<script>\n",
       "\n",
       "function display_root_plot_1753430155788(Core) {\n",
       "   let obj = Core.parse({\"_typename\":\"TCanvasWebSnapshot\",\"fUniqueID\":0,\"fBits\":0,\"fObjectID\":\"\",\"fOption\":\"\",\"fKind\":3,\"fSnapshot\":{\"_typename\":\"TCanvas\",\"fUniqueID\":0,\"fBits\":3342344,\"fLineColor\":1,\"fLineStyle\":1,\"fLineWidth\":1,\"fFillColor\":0,\"fFillStyle\":1001,\"fLeftMargin\":0.1,\"fRightMargin\":0.1,\"fBottomMargin\":0.1,\"fTopMargin\":0.1,\"fXfile\":2,\"fYfile\":2,\"fAfile\":1,\"fXstat\":0.99,\"fYstat\":0.99,\"fAstat\":2,\"fFrameFillColor\":0,\"fFrameLineColor\":1,\"fFrameFillStyle\":1001,\"fFrameLineStyle\":1,\"fFrameLineWidth\":1,\"fFrameBorderSize\":1,\"fFrameBorderMode\":0,\"fX1\":-1.25000001862645,\"fY1\":187.46904710852,\"fX2\":1.25000001862645,\"fY2\":2253.27845289148,\"fXtoAbsPixelk\":198,\"fXtoPixelk\":198,\"fXtoPixel\":158.399997639656,\"fYtoAbsPixelk\":296.683584395914,\"fYtoPixelk\":296.683584395914,\"fYtoPixel\":-0.131667519393886,\"fUtoAbsPixelk\":0,\"fUtoPixelk\":0,\"fUtoPixel\":396,\"fVtoAbsPixelk\":272,\"fVtoPixelk\":272,\"fVtoPixel\":-272,\"fAbsPixeltoXk\":-1.25000001862645,\"fPixeltoXk\":-1.25000001862645,\"fPixeltoX\":0.00631313140720431,\"fAbsPixeltoYk\":2253.27845289148,\"fPixeltoYk\":187.46904710852,\"fPixeltoY\":-7.59488752126088,\"fXlowNDC\":0,\"fYlowNDC\":0,\"fXUpNDC\":1,\"fYUpNDC\":1,\"fWNDC\":1,\"fHNDC\":1,\"fAbsXlowNDC\":0,\"fAbsYlowNDC\":0,\"fAbsWNDC\":1,\"fAbsHNDC\":1,\"fUxmin\":-1,\"fUymin\":394.05,\"fUxmax\":1,\"fUymax\":2046.6975,\"fTheta\":30,\"fPhi\":30,\"fAspectRatio\":0,\"fNumber\":0,\"fTickx\":0,\"fTicky\":0,\"fLogx\":0,\"fLogy\":0,\"fLogz\":0,\"fPadPaint\":0,\"fCrosshair\":0,\"fCrosshairPos\":0,\"fBorderSize\":2,\"fBorderMode\":0,\"fModified\":false,\"fGridx\":false,\"fGridy\":false,\"fAbsCoord\":false,\"fEditable\":true,\"fFixedAspectRatio\":false,\"fPrimitives\":{\"_typename\":\"TList\",\"name\":\"TList\",\"arr\":[],\"opt\":[]},\"fExecs\":null,\"fName\":\"cctk\",\"fTitle\":\"cctk\",\"fNumPaletteColor\":0,\"fNextPaletteColor\":0,\"fDISPLAY\":\"$DISPLAY\",\"fDoubleBuffer\":0,\"fRetained\":true,\"fXsizeUser\":0,\"fYsizeUser\":0,\"fXsizeReal\":20,\"fYsizeReal\":15,\"fWindowTopX\":0,\"fWindowTopY\":0,\"fWindowWidth\":0,\"fWindowHeight\":0,\"fCw\":396,\"fCh\":272,\"fCatt\":{\"_typename\":\"TAttCanvas\",\"fXBetween\":2,\"fYBetween\":2,\"fTitleFromTop\":1.2,\"fXdate\":0.2,\"fYdate\":0.3,\"fAdate\":1},\"kMoveOpaque\":true,\"kResizeOpaque\":true,\"fHighLightColor\":2,\"fBatch\":true,\"kShowEventStatus\":false,\"kAutoExec\":true,\"kMenuBar\":true},\"fActive\":false,\"fReadOnly\":true,\"fWithoutPrimitives\":false,\"fHasExecs\":false,\"fPrimitives\":[{\"_typename\":\"TWebSnapshot\",\"fUniqueID\":0,\"fBits\":0,\"fObjectID\":\"\",\"fOption\":\"\",\"fKind\":4,\"fSnapshot\":{\"_typename\":\"TWebPainting\",\"fUniqueID\":0,\"fBits\":0,\"fOper\":\"0:255,255,255;1:0,0,0;2:255,0,0;3:0,255,0;4:0,0,255;5:255,255,0;6:255,0,255;7:0,255,255;8:89,211,84;9:89,84,216;10:254,254,254;11:192,182,172;12:76,76,76;13:102,102,102;14:127,127,127;15:153,153,153;16:178,178,178;17:204,204,204;18:229,229,229;19:242,242,242;20:204,198,170;21:204,198,170;22:193,191,168;23:186,181,163;24:178,165,150;25:183,163,155;26:173,153,140;27:155,142,130;28:135,102,86;29:175,206,198;30:132,193,163;31:137,168,160;32:130,158,140;33:173,188,198;34:122,142,153;35:117,137,145;36:104,130,150;37:109,122,132;38:124,153,209;39:127,127,155;40:170,165,191;41:211,206,135;42:221,186,135;43:188,158,130;44:198,153,124;45:191,130,119;46:206,94,96;47:170,142,147;48:165,119,122;49:147,104,112;50:211,89,84;51:146,0,255;52:122,0,255;53:98,0,255;54:74,0,255;55:51,0,255;56:27,0,255;57:3,0,255;58:0,20,255;59:0,44,255;60:0,68,255;61:0,91,255;62:0,115,255;63:0,139,255;64:0,163,255;65:0,187,255;66:0,210,255;67:0,234,255;68:0,255,251;69:0,255,227;70:0,255,204;71:0,255,180;72:0,255,156;73:0,255,132;74:0,255,108;75:0,255,85;76:0,255,61;77:0,255,37;78:0,255,13;79:10,255,0;80:34,255,0;81:57,255,0;82:81,255,0;83:105,255,0;84:129,255,0;85:153,255,0;86:176,255,0;87:200,255,0;88:224,255,0;89:248,255,0;90:255,238,0;91:255,214,0;92:255,190,0;93:255,166,0;94:255,142,0;95:255,119,0;96:255,95,0;97:255,71,0;98:255,47,0;99:255,23,0;100:111,45,168;101:165,42,42;102:178,190,181;103:87,144,252;104:248,156,32;105:228,37,54;106:150,74,139;107:156,156,161;108:122,33,221;109:24,69,251;110:255,94,2;111:201,31,22;112:200,73,169;113:173,173,125;114:134,200,221;115:87,141,255;116:101,99,100;117:63,144,218;118:255,169,14;119:189,31,1;120:148,164,162;121:131,45,182;122:169,107,89;123:231,99,0;124:185,172,112;125:113,117,129;126:146,218,221;127:178,178,178;201:91,91,91;202:122,122,122;203:183,183,183;204:214,214,214;205:137,15,15;206:183,20,20;207:234,71,71;208:239,117,117;209:15,137,15;210:20,183,20;211:71,234,71;212:117,239,117;213:15,15,137;214:20,20,183;215:71,71,234;216:117,117,239;217:137,137,15;218:183,183,20;219:234,234,71;220:239,239,117;221:137,15,137;222:183,20,183;223:234,71,234;224:239,117,239;225:15,137,137;226:20,183,183;227:71,234,234;228:117,239,239;390:255,255,204;391:255,255,153;392:204,204,153;393:255,255,102;394:204,204,102;395:153,153,102;396:255,255,51;397:204,204,51;398:153,153,51;399:102,102,51;400:255,255,0;401:204,204,0;402:153,153,0;403:102,102,0;404:51,51,0;406:204,255,204;407:153,255,153;408:153,204,153;409:102,255,102;410:102,204,102;411:102,153,102;412:51,255,51;413:51,204,51;414:51,153,51;415:51,102,51;416:0,255,0;417:0,204,0;418:0,153,0;419:0,102,0;420:0,51,0;422:204,255,255;423:153,255,255;424:153,204,204;425:102,255,255;426:102,204,204;427:102,153,153;428:51,255,255;429:51,204,204;430:51,153,153;431:51,102,102;432:0,255,255;433:0,204,204;434:0,153,153;435:0,102,102;436:0,51,51;590:204,204,255;591:153,153,255;592:153,153,204;593:102,102,255;594:102,102,204;595:102,102,153;596:51,51,255;597:51,51,204;598:51,51,153;599:51,51,102;600:0,0,255;601:0,0,204;602:0,0,153;603:0,0,102;604:0,0,51;606:255,204,255;607:255,153,255;608:204,153,204;609:255,102,255;610:204,102,204;611:153,102,153;612:255,51,255;613:204,51,204;614:153,51,153;615:102,51,102;616:255,0,255;617:204,0,204;618:153,0,153;619:102,0,102;620:51,0,51;622:255,204,204;623:255,153,153;624:204,153,153;625:255,102,102;626:204,102,102;627:153,102,102;628:255,51,51;629:204,51,51;630:153,51,51;631:102,51,51;632:255,0,0;633:204,0,0;634:153,0,0;635:102,0,0;636:51,0,0;791:255,204,153;792:204,153,102;793:153,102,51;794:153,102,0;795:204,153,51;796:255,204,102;797:255,153,0;798:255,204,51;799:204,153,0;800:255,204,0;801:255,153,51;802:204,102,0;803:102,51,0;804:153,51,0;805:204,102,51;806:255,153,102;807:255,102,0;808:255,102,51;809:204,51,0;810:255,51,0;811:153,255,51;812:102,204,0;813:51,102,0;814:51,153,0;815:102,204,51;816:153,255,102;817:102,255,0;818:102,255,51;819:51,204,0;820:51,255,0;821:204,255,153;822:153,204,102;823:102,153,51;824:102,153,0;825:153,204,51;826:204,255,102;827:153,255,0;828:204,255,51;829:153,204,0;830:204,255,0;831:153,255,204;832:102,204,153;833:51,153,102;834:0,153,102;835:51,204,153;836:102,255,204;837:0,255,102;838:51,255,204;839:0,204,153;840:0,255,204;841:51,255,153;842:0,204,102;843:0,102,51;844:0,153,51;845:51,204,102;846:102,255,153;847:0,255,153;848:51,255,102;849:0,204,51;850:0,255,51;851:153,204,255;852:102,153,204;853:51,102,153;854:0,51,153;855:51,102,204;856:102,153,255;857:0,102,255;858:51,102,255;859:0,51,204;860:0,51,255;861:51,153,255;862:0,102,204;863:0,51,102;864:0,102,153;865:51,153,204;866:102,204,255;867:0,153,255;868:51,204,255;869:0,153,204;870:0,204,255;871:204,153,255;872:153,102,204;873:102,51,153;874:102,0,153;875:153,51,204;876:204,102,255;877:153,0,255;878:204,51,255;879:153,0,204;880:204,0,255;881:153,51,255;882:102,0,204;883:51,0,102;884:51,0,153;885:102,51,204;886:153,102,255;887:102,0,255;888:102,51,255;889:51,0,204;890:51,0,255;891:255,51,153;892:204,0,102;893:102,0,51;894:153,0,51;895:204,51,102;896:255,102,153;897:255,0,102;898:255,51,102;899:204,0,51;900:255,0,51;901:255,153,204;902:204,102,153;903:153,51,102;904:153,0,102;905:204,51,153;906:255,102,204;907:255,0,153;908:204,0,153;909:255,51,204;910:255,0,153;920:204,204,204;921:153,153,153;922:102,102,102;923:51,51,51;924:53,42,134;925:51,44,137;926:50,45,140;927:49,47,143;928:48,48,146;929:46,50,148;930:45,51,151;931:44,53,154;932:43,55,157;933:42,56,160;934:40,58,162;935:39,59,165;936:38,61,168;937:37,63,171;938:35,64,174;939:34,66,176;940:33,67,179;941:32,69,182;942:31,71,185;943:29,72,187;944:28,74,190;945:27,75,193;946:26,77,196;947:24,79,199;948:23,80,201;949:22,82,204;950:21,83,207;951:19,85,210;952:18,86,213;953:17,88,215;954:16,90,218;955:15,91,221;956:15,92,221;957:15,94,220;958:15,95,220;959:15,96,220;960:15,97,220;961:15,98,220;962:16,99,219;963:16,100,219;964:16,102,219;965:16,103,219;966:16,104,218;967:16,105,218;968:17,106,218;969:17,107,218;970:17,109,217;971:17,110,217;972:17,111,217;973:17,112,217;974:17,113,216;975:18,114,216;976:18,115,216;977:18,117,216;978:18,118,215;979:18,119,215;980:18,120,215;981:18,121,215;982:19,122,215;983:19,123,214;984:19,125,214;985:19,126,214;986:19,127,214;987:19,128,213;988:19,129,213;989:19,130,213;990:18,131,212;991:18,132,212;992:17,134,211;993:17,135,211;994:16,136,211;995:16,137,210;996:15,138,210;997:15,139,210;998:15,140,209;999:14,141,209;1000:14,142,208;1001:13,143,208;1002:13,145,208;1003:12,146,207;1004:12,147,207;1005:12,148,207;1006:11,149,206;1007:11,150,206;1008:10,151,205;1009:10,152,205;1010:9,153,205;1011:9,154,204;1012:8,155,204;1013:8,157,204;1014:8,158,203;1015:7,159,203;1016:7,160,202;1017:6,161,202;1018:6,162,202;1019:5,163,201;1020:7,164,200;1021:8,164,199;1022:9,165,198;1023:10,166,197;1024:12,166,195;1025:13,167,194;1026:14,167,193;1027:15,168,192;1028:17,169,191;1029:18,169,189;1030:19,170,188;1031:20,170,187;1032:22,171,186;1033:23,172,185;1034:24,172,184;1035:25,173,182;1036:27,173,181;1037:28,174,180;1038:29,175,179;1039:30,175,178;1040:32,176,176;1041:33,176,175;1042:34,177,174;1043:35,178,173;1044:37,178,172;1045:38,179,170;1046:39,180,169;1047:40,180,168;1048:42,181,167;1049:43,181,166;1050:44,182,165;1051:45,183,163;1052:48,183,162;1053:51,183,161;1054:54,183,159;1055:57,184,158;1056:59,184,156;1057:62,184,155;1058:65,184,154;1059:68,185,152;1060:71,185,151;1061:73,185,149;1062:76,185,148;1063:79,186,146;1064:82,186,145;1065:84,186,144;1066:87,186,142;1067:90,187,141;1068:93,187,139;1069:96,187,138;1070:98,187,137;1071:101,188,135;1072:104,188,134;1073:107,188,132;1074:110,188,131;1075:112,189,130;1076:115,189,128;1077:118,189,127;1078:121,189,125;1079:124,190,124;1080:126,190,123;1081:129,190,121;1082:132,190,120;1083:135,191,118;1084:137,190,117;1085:139,190,117;1086:142,190,116;1087:144,190,115;1088:146,190,114;1089:148,190,113;1090:151,190,112;1091:153,190,111;1092:155,189,110;1093:158,189,109;1094:160,189,108;1095:162,189,107;1096:165,189,106;1097:167,189,105;1098:169,189,104;1099:171,188,104;1100:174,188,103;1101:176,188,102;1102:178,188,101;1103:181,188,100;1104:183,188,99;1105:185,188,98;1106:188,188,97;1107:190,187,96;1108:192,187,95;1109:194,187,94;1110:197,187,93;1111:199,187,92;1112:201,187,92;1113:204,187,91;1114:206,186,90;1115:208,186,89;1116:210,187,88;1117:211,187,86;1118:212,188,85;1119:214,188,84;1120:215,188,83;1121:217,189,81;1122:218,189,80;1123:220,190,79;1124:221,190,78;1125:222,191,77;1126:224,191,75;1127:225,191,74;1128:227,192,73;1129:228,192,72;1130:229,193,70;1131:231,193,69;1132:232,194,68;1133:234,194,67;1134:235,194,66;1135:236,195,64;1136:238,195,63;1137:239,196,62;1138:241,196,61;1139:242,197,59;1140:244,197,58;1141:245,197,57;1142:246,198,56;1143:248,198,55;1144:249,199,53;1145:251,199,52;1146:252,200,51;1147:253,200,50;1148:253,202,49;1149:253,203,47;1150:253,205,46;1151:253,206,45;1152:253,208,44;1153:252,209,43;1154:252,211,42;1155:252,213,41;1156:252,214,39;1157:252,216,38;1158:252,217,37;1159:252,219,36;1160:251,220,35;1161:251,222,34;1162:251,224,33;1163:251,225,31;1164:251,227,30;1165:251,228,29;1166:250,230,28;1167:250,231,27;1168:250,233,26;1169:250,235,25;1170:250,236,23;1171:250,238,22;1172:250,239,21;1173:249,241,20;1174:249,242,19;1175:249,244,18;1176:249,246,17;1177:249,247,16;1178:249,249,14\",\"fBuf\":{\"$arr\":\"Float32\",\"len\":255,\"v\":[924,925,926,927,928,929,930,931,932,933,934,935,936,937,938,939,940,941,942,943,944,945,946,947,948,949,950,951,952,953,954,955,956,957,958,959,960,961,962,963,964,965,966,967,968,969,970,971,972,973,974,975,976,977,978,979,980,981,982,983,984,985,986,987,988,989,990,991,992,993,994,995,996,997,998,999,1000,1001,1002,1003,1004,1005,1006,1007,1008,1009,1010,1011,1012,1013,1014,1015,1016,1017,1018,1019,1020,1021,1022,1023,1024,1025,1026,1027,1028,1029,1030,1031,1032,1033,1034,1035,1036,1037,1038,1039,1040,1041,1042,1043,1044,1045,1046,1047,1048,1049,1050,1051,1052,1053,1054,1055,1056,1057,1058,1059,1060,1061,1062,1063,1064,1065,1066,1067,1068,1069,1070,1071,1072,1073,1074,1075,1076,1077,1078,1079,1080,1081,1082,1083,1084,1085,1086,1087,1088,1089,1090,1091,1092,1093,1094,1095,1096,1097,1098,1099,1100,1101,1102,1103,1104,1105,1106,1107,1108,1109,1110,1111,1112,1113,1114,1115,1116,1117,1118,1119,1120,1121,1122,1123,1124,1125,1126,1127,1128,1129,1130,1131,1132,1133,1134,1135,1136,1137,1138,1139,1140,1141,1142,1143,1144,1145,1146,1147,1148,1149,1150,1151,1152,1153,1154,1155,1156,1157,1158,1159,1160,1161,1162,1163,1164,1165,1166,1167,1168,1169,1170,1171,1172,1173,1174,1175,1176,1177,1178]}}},{\"_typename\":\"TWebSnapshot\",\"fUniqueID\":0,\"fBits\":0,\"fObjectID\":\"\",\"fOption\":\"\",\"fKind\":5,\"fSnapshot\":{\"_typename\":\"TStyle\",\"fUniqueID\":0,\"fBits\":0,\"fName\":\"Modern\",\"fTitle\":\"Modern Style\",\"fLineColor\":1,\"fLineStyle\":1,\"fLineWidth\":1,\"fFillColor\":19,\"fFillStyle\":1001,\"fMarkerColor\":1,\"fMarkerStyle\":1,\"fMarkerSize\":1,\"fTextAngle\":0,\"fTextSize\":0.05,\"fTextAlign\":11,\"fTextColor\":1,\"fTextFont\":62,\"fXaxis\":{\"_typename\":\"TAttAxis\",\"fNdivisions\":510,\"fAxisColor\":1,\"fLabelColor\":1,\"fLabelFont\":42,\"fLabelOffset\":0.005,\"fLabelSize\":0.035,\"fTickLength\":0.03,\"fTitleOffset\":1,\"fTitleSize\":0.035,\"fTitleColor\":1,\"fTitleFont\":42},\"fYaxis\":{\"_typename\":\"TAttAxis\",\"fNdivisions\":510,\"fAxisColor\":1,\"fLabelColor\":1,\"fLabelFont\":42,\"fLabelOffset\":0.005,\"fLabelSize\":0.035,\"fTickLength\":0.03,\"fTitleOffset\":0,\"fTitleSize\":0.035,\"fTitleColor\":1,\"fTitleFont\":42},\"fZaxis\":{\"_typename\":\"TAttAxis\",\"fNdivisions\":510,\"fAxisColor\":1,\"fLabelColor\":1,\"fLabelFont\":42,\"fLabelOffset\":0.005,\"fLabelSize\":0.035,\"fTickLength\":0.03,\"fTitleOffset\":1,\"fTitleSize\":0.035,\"fTitleColor\":1,\"fTitleFont\":42},\"fBarWidth\":1,\"fBarOffset\":0,\"fColorModelPS\":0,\"fDrawBorder\":0,\"fOptLogx\":0,\"fOptLogy\":0,\"fOptLogz\":0,\"fOptDate\":0,\"fOptStat\":1111,\"fOptTitle\":1,\"fOptFile\":0,\"fOptFit\":0,\"fShowEventStatus\":0,\"fShowEditor\":0,\"fShowToolBar\":0,\"fNumberContours\":20,\"fAttDate\":{\"_typename\":\"TAttText\",\"fTextAngle\":0,\"fTextSize\":0.025,\"fTextAlign\":11,\"fTextColor\":1,\"fTextFont\":62},\"fDateX\":0.01,\"fDateY\":0.01,\"fEndErrorSize\":2,\"fErrorX\":0.5,\"fFuncColor\":2,\"fFuncStyle\":1,\"fFuncWidth\":2,\"fGridColor\":0,\"fGridStyle\":3,\"fGridWidth\":1,\"fLegendBorderSize\":1,\"fLegendFillColor\":0,\"fLegendFillStyle\":1001,\"fLegendFont\":42,\"fLegendTextSize\":0,\"fHatchesLineWidth\":1,\"fHatchesSpacing\":1,\"fFrameFillColor\":0,\"fFrameLineColor\":1,\"fFrameFillStyle\":1001,\"fFrameLineStyle\":1,\"fFrameLineWidth\":1,\"fFrameBorderSize\":1,\"fFrameBorderMode\":0,\"fHistFillColor\":0,\"fHistLineColor\":602,\"fHistFillStyle\":1001,\"fHistLineStyle\":1,\"fHistLineWidth\":1,\"fHistMinimumZero\":false,\"fHistTopMargin\":0.05,\"fCanvasPreferGL\":false,\"fCanvasColor\":0,\"fCanvasBorderSize\":2,\"fCanvasBorderMode\":0,\"fCanvasDefH\":500,\"fCanvasDefW\":700,\"fCanvasDefX\":10,\"fCanvasDefY\":10,\"fPadColor\":0,\"fPadBorderSize\":2,\"fPadBorderMode\":0,\"fPadBottomMargin\":0.1,\"fPadTopMargin\":0.1,\"fPadLeftMargin\":0.1,\"fPadRightMargin\":0.1,\"fPadGridX\":false,\"fPadGridY\":false,\"fPadTickX\":0,\"fPadTickY\":0,\"fPaperSizeX\":20,\"fPaperSizeY\":26,\"fScreenFactor\":1,\"fStatColor\":0,\"fStatTextColor\":1,\"fStatBorderSize\":1,\"fStatFont\":42,\"fStatFontSize\":0,\"fStatStyle\":1001,\"fStatFormat\":\"6.4g\",\"fStatX\":0.98,\"fStatY\":0.935,\"fStatW\":0.2,\"fStatH\":0.16,\"fStripDecimals\":true,\"fTitleAlign\":23,\"fTitleColor\":0,\"fTitleTextColor\":1,\"fTitleBorderSize\":0,\"fTitleFont\":42,\"fTitleFontSize\":0.05,\"fTitleStyle\":0,\"fTitleX\":0.5,\"fTitleY\":0.995,\"fTitleW\":0,\"fTitleH\":0,\"fLegoInnerR\":0.5,\"fLineStyles\":[\"\",\"  \",\" 12 12\",\" 4 8\",\" 12 16 4 16\",\" 20 12 4 12\",\" 20 12 4 12 4 12 4 12\",\" 20 20\",\" 20 12 4 12 4 12\",\" 80 20\",\" 80 40 4 40\",\"  \",\"  \",\"  \",\"  \",\"  \",\"  \",\"  \",\"  \",\"  \",\"  \",\"  \",\"  \",\"  \",\"  \",\"  \",\"  \",\"  \",\"  \",\"  \"],\"fHeaderPS\":\"\",\"fTitlePS\":\"\",\"fFitFormat\":\"5.4g\",\"fPaintTextFormat\":\"g\",\"fLineScalePS\":3,\"fJoinLinePS\":0,\"fCapLinePS\":0,\"fTimeOffset\":788918400,\"fImageScaling\":1,\"fCandleWhiskerRange\":1,\"fCandleBoxRange\":0.5,\"fCandleScaled\":false,\"fViolinScaled\":true,\"fXAxisExpXOffset\":0,\"fXAxisExpYOffset\":0,\"fYAxisExpXOffset\":0,\"fYAxisExpYOffset\":0,\"fAxisMaxDigits\":5,\"fOrthoCamera\":false}},{\"_typename\":\"TWebSnapshot\",\"fUniqueID\":0,\"fBits\":0,\"fObjectID\":\"\",\"fOption\":\"\",\"fKind\":1,\"fSnapshot\":{\"_typename\":\"TFrame\",\"fUniqueID\":0,\"fBits\":8,\"fLineColor\":1,\"fLineStyle\":1,\"fLineWidth\":1,\"fFillColor\":0,\"fFillStyle\":1001,\"fX1\":-1,\"fY1\":394.05,\"fX2\":1,\"fY2\":2046.6975,\"fBorderSize\":1,\"fBorderMode\":0}},{\"_typename\":\"TWebSnapshot\",\"fUniqueID\":0,\"fBits\":0,\"fObjectID\":\"\",\"fOption\":\"\",\"fKind\":1,\"fSnapshot\":{\"_typename\":\"TH1D\",\"fUniqueID\":0,\"fBits\":8,\"fName\":\"hctl\",\"fTitle\":\"\",\"fLineColor\":602,\"fLineStyle\":1,\"fLineWidth\":1,\"fFillColor\":0,\"fFillStyle\":1001,\"fMarkerColor\":1,\"fMarkerStyle\":1,\"fMarkerSize\":1,\"fNcells\":102,\"fXaxis\":{\"_typename\":\"TAxis\",\"fUniqueID\":0,\"fBits\":0,\"fName\":\"xaxis\",\"fTitle\":\"cos #it{#theta}_{#it{K}}\",\"fNdivisions\":510,\"fAxisColor\":1,\"fLabelColor\":1,\"fLabelFont\":42,\"fLabelOffset\":0.005,\"fLabelSize\":0.035,\"fTickLength\":0.03,\"fTitleOffset\":1,\"fTitleSize\":0.035,\"fTitleColor\":1,\"fTitleFont\":42,\"fNbins\":100,\"fXmin\":-1,\"fXmax\":1,\"fXbins\":[],\"fFirst\":0,\"fLast\":0,\"fBits2\":0,\"fTimeDisplay\":false,\"fTimeFormat\":\"\",\"fLabels\":null,\"fModLabs\":null},\"fYaxis\":{\"_typename\":\"TAxis\",\"fUniqueID\":0,\"fBits\":0,\"fName\":\"yaxis\",\"fTitle\":\"Counts\",\"fNdivisions\":510,\"fAxisColor\":1,\"fLabelColor\":1,\"fLabelFont\":42,\"fLabelOffset\":0.005,\"fLabelSize\":0.035,\"fTickLength\":0.03,\"fTitleOffset\":0,\"fTitleSize\":0.035,\"fTitleColor\":1,\"fTitleFont\":42,\"fNbins\":1,\"fXmin\":0,\"fXmax\":1,\"fXbins\":[],\"fFirst\":0,\"fLast\":0,\"fBits2\":0,\"fTimeDisplay\":false,\"fTimeFormat\":\"\",\"fLabels\":null,\"fModLabs\":null},\"fZaxis\":{\"_typename\":\"TAxis\",\"fUniqueID\":0,\"fBits\":0,\"fName\":\"zaxis\",\"fTitle\":\"\",\"fNdivisions\":510,\"fAxisColor\":1,\"fLabelColor\":1,\"fLabelFont\":42,\"fLabelOffset\":0.005,\"fLabelSize\":0.035,\"fTickLength\":0.03,\"fTitleOffset\":1,\"fTitleSize\":0.035,\"fTitleColor\":1,\"fTitleFont\":42,\"fNbins\":1,\"fXmin\":0,\"fXmax\":1,\"fXbins\":[],\"fFirst\":0,\"fLast\":0,\"fBits2\":0,\"fTimeDisplay\":false,\"fTimeFormat\":\"\",\"fLabels\":null,\"fModLabs\":null},\"fBarOffset\":0,\"fBarWidth\":1000,\"fEntries\":128208,\"fTsumw\":128208,\"fTsumw2\":128208,\"fTsumwx\":-18692.9120794864,\"fTsumwx2\":43782.2696207797,\"fMaximum\":-1111,\"fMinimum\":-1111,\"fNormFactor\":0,\"fContour\":[],\"fSumw2\":[],\"fOption\":\"\",\"fFunctions\":{\"_typename\":\"TList\",\"name\":\"TList\",\"arr\":[{\"_typename\":\"TPaveStats\",\"fUniqueID\":0,\"fBits\":9,\"fLineColor\":1,\"fLineStyle\":1,\"fLineWidth\":1,\"fFillColor\":0,\"fFillStyle\":1001,\"fX1\":0.700000050663949,\"fY1\":1788.4713489035,\"fX2\":1.20000006556511,\"fY2\":2119.00084644086,\"fX1NDC\":0.780000016093254,\"fY1NDC\":0.775000005960464,\"fX2NDC\":0.980000019073486,\"fY2NDC\":0.935000002384186,\"fBorderSize\":1,\"fInit\":1,\"fShadowColor\":1,\"fCornerRadius\":0,\"fOption\":\"brNDC\",\"fName\":\"stats\",\"fTextAngle\":0,\"fTextSize\":0,\"fTextAlign\":12,\"fTextColor\":1,\"fTextFont\":42,\"fLabel\":\"\",\"fLongest\":18,\"fMargin\":0.05,\"fLines\":{\"_typename\":\"TList\",\"name\":\"TList\",\"arr\":[{\"_typename\":\"TLatex\",\"fUniqueID\":0,\"fBits\":0,\"fName\":\"\",\"fTitle\":\"hctl\",\"fTextAngle\":0,\"fTextSize\":0.0368,\"fTextAlign\":0,\"fTextColor\":0,\"fTextFont\":0,\"fX\":0,\"fY\":0,\"fLineColor\":1,\"fLineStyle\":1,\"fLineWidth\":2,\"fLimitFactorSize\":3,\"fOriginSize\":0.0368000008165836},{\"_typename\":\"TLatex\",\"fUniqueID\":0,\"fBits\":0,\"fName\":\"\",\"fTitle\":\"Entries = 128208 \",\"fTextAngle\":0,\"fTextSize\":0,\"fTextAlign\":0,\"fTextColor\":0,\"fTextFont\":0,\"fX\":0,\"fY\":0,\"fLineColor\":1,\"fLineStyle\":1,\"fLineWidth\":2,\"fLimitFactorSize\":3,\"fOriginSize\":0.04},{\"_typename\":\"TLatex\",\"fUniqueID\":0,\"fBits\":0,\"fName\":\"\",\"fTitle\":\"Mean  = -0.1458\",\"fTextAngle\":0,\"fTextSize\":0,\"fTextAlign\":0,\"fTextColor\":0,\"fTextFont\":0,\"fX\":0,\"fY\":0,\"fLineColor\":1,\"fLineStyle\":1,\"fLineWidth\":2,\"fLimitFactorSize\":3,\"fOriginSize\":0.04},{\"_typename\":\"TLatex\",\"fUniqueID\":0,\"fBits\":0,\"fName\":\"\",\"fTitle\":\"Std Dev   = 0.5659\",\"fTextAngle\":0,\"fTextSize\":0,\"fTextAlign\":0,\"fTextColor\":0,\"fTextFont\":0,\"fX\":0,\"fY\":0,\"fLineColor\":1,\"fLineStyle\":1,\"fLineWidth\":2,\"fLimitFactorSize\":3,\"fOriginSize\":0.04}],\"opt\":[\"\",\"\",\"\",\"\"]},\"fOptFit\":0,\"fOptStat\":1111,\"fFitFormat\":\"5.4g\",\"fStatFormat\":\"6.4g\",\"fParent\":{\"$ref\":15}}],\"opt\":[\"brNDC\"]},\"fBufferSize\":0,\"fBuffer\":[],\"fBinStatErrOpt\":0,\"fStatOverflows\":2,\"fArray\":{\"$arr\":\"Float64\",\"len\":102,\"p\":1,\"v\":[1955,1968,1930,1868,1941,1938,1872,1845,1810,1833,1867,1777,1751,1775,1705,1705,1594,1656,1745,1671,1586,1602,1609,1566,1534,1495,1499,1460,1447,1371,1398,1380,1380,1283,1256,1346,1268,1281,1332,1229,1219,1333,1203,1292,1258,1277,1166,1195,1159,1168,1207,1221,1293,1116,1197,1189,1104,1159,1171,1204,1171,1113,1140,1170,1153,1114,1186,1192,1060,1126,1134,1085,1122,1130,1121,1133,1170,1104,1095,1080,1068,1058,1024,1043,989,947,1018,949,932,952,832,910,796,809,679,698,623,588,566,469]}}}],\"fScripts\":\"\",\"fHighlightConnect\":false,\"fFixedSize\":false});\n",
       "   Core.settings.HandleKeys = false;\n",
       "   Core.draw(\"root_plot_1753430155788\", obj, \"\");\n",
       "}\n",
       "\n",
       "function script_load_root_plot_1753430155788(src, on_error) {\n",
       "    let script = document.createElement('script');\n",
       "    script.src = src;\n",
       "    script.onload = function() { display_root_plot_1753430155788(JSROOT); };\n",
       "    script.onerror = function() { script.remove(); on_error(); };\n",
       "    document.head.appendChild(script);\n",
       "}\n",
       "\n",
       "if (typeof requirejs !== 'undefined') {\n",
       "\n",
       "    // We are in jupyter notebooks, use require.js which should be configured already\n",
       "    requirejs.config({\n",
       "       paths: { 'JSRootCore' : [ 'build/jsroot', 'https://root.cern/js/7.7.4/build/jsroot', 'https://jsroot.gsi.de/7.7.4/build/jsroot' ] }\n",
       "    })(['JSRootCore'],  function(Core) {\n",
       "       display_root_plot_1753430155788(Core);\n",
       "    });\n",
       "\n",
       "} else if (typeof JSROOT !== 'undefined') {\n",
       "\n",
       "   // JSROOT already loaded, just use it\n",
       "   display_root_plot_1753430155788(JSROOT);\n",
       "\n",
       "} else {\n",
       "\n",
       "    // We are in jupyterlab without require.js, directly loading jsroot\n",
       "    // Jupyterlab might be installed in a different base_url so we need to know it.\n",
       "    try {\n",
       "        var base_url = JSON.parse(document.getElementById('jupyter-config-data').innerHTML).baseUrl;\n",
       "    } catch(_) {\n",
       "        var base_url = '/';\n",
       "    }\n",
       "\n",
       "    // Try loading a local version of requirejs and fallback to cdn if not possible.\n",
       "    script_load_root_plot_1753430155788(base_url + 'static/build/jsroot.js', function(){\n",
       "        console.error('Fail to load JSROOT locally, please check your jupyter_notebook_config.py file');\n",
       "        script_load_root_plot_1753430155788('https://root.cern/js/7.7.4/build/jsroot.js', function(){\n",
       "            document.getElementById(\"root_plot_1753430155788\").innerHTML = \"Failed to load JSROOT\";\n",
       "        });\n",
       "    });\n",
       "}\n",
       "\n",
       "</script>\n"
      ],
      "text/plain": [
       "<IPython.core.display.HTML object>"
      ]
     },
     "metadata": {},
     "output_type": "display_data"
    }
   ],
   "source": [
    "cctk = ROOT.TCanvas(\"cctk\", \"cctk\", 400, 300)\n",
    "hctk.Draw()\n",
    "cctk.Draw()"
   ]
  },
  {
   "cell_type": "code",
   "execution_count": 40,
   "id": "28452110-dab5-4bbb-bcb5-296ceaf230d3",
   "metadata": {},
   "outputs": [
    {
     "data": {
      "text/html": [
       "\n",
       "\n",
       "<div id=\"root_plot_1753430157739\" style=\"width: 400px; height: 300px; position: relative\">\n",
       "</div>\n",
       "\n",
       "<script>\n",
       "\n",
       "function display_root_plot_1753430157739(Core) {\n",
       "   let obj = Core.parse({\"_typename\":\"TCanvasWebSnapshot\",\"fUniqueID\":0,\"fBits\":0,\"fObjectID\":\"\",\"fOption\":\"\",\"fKind\":3,\"fSnapshot\":{\"_typename\":\"TCanvas\",\"fUniqueID\":0,\"fBits\":3342344,\"fLineColor\":1,\"fLineStyle\":1,\"fLineWidth\":1,\"fFillColor\":0,\"fFillStyle\":1001,\"fLeftMargin\":0.1,\"fRightMargin\":0.1,\"fBottomMargin\":0.1,\"fTopMargin\":0.1,\"fXfile\":2,\"fYfile\":2,\"fAfile\":1,\"fXstat\":0.99,\"fYstat\":0.99,\"fAstat\":2,\"fFrameFillColor\":0,\"fFrameLineColor\":1,\"fFrameFillStyle\":1001,\"fFrameLineStyle\":1,\"fFrameLineWidth\":1,\"fFrameBorderSize\":1,\"fFrameBorderMode\":0,\"fX1\":-3.92500005848706,\"fY1\":1079.10280971742,\"fX2\":3.92500005848706,\"fY2\":1452.57469028258,\"fXtoAbsPixelk\":198,\"fXtoPixelk\":198,\"fXtoPixel\":50.4458591209095,\"fYtoAbsPixelk\":1057.91181697259,\"fYtoPixelk\":1057.91181697259,\"fYtoPixel\":-0.728301149710093,\"fUtoAbsPixelk\":0,\"fUtoPixelk\":0,\"fUtoPixel\":396,\"fVtoAbsPixelk\":272,\"fVtoPixelk\":272,\"fVtoPixel\":-272,\"fAbsPixeltoXk\":-3.92500005848706,\"fPixeltoXk\":-3.92500005848706,\"fPixeltoX\":0.0198232326186215,\"fAbsPixeltoYk\":1452.57469028258,\"fPixeltoYk\":1079.10280971742,\"fPixeltoY\":-1.37305838443075,\"fXlowNDC\":0,\"fYlowNDC\":0,\"fXUpNDC\":1,\"fYUpNDC\":1,\"fWNDC\":1,\"fHNDC\":1,\"fAbsXlowNDC\":0,\"fAbsYlowNDC\":0,\"fAbsWNDC\":1,\"fAbsHNDC\":1,\"fUxmin\":-3.14,\"fUymin\":1116.45,\"fUxmax\":3.14,\"fUymax\":1415.2275,\"fTheta\":30,\"fPhi\":30,\"fAspectRatio\":0,\"fNumber\":0,\"fTickx\":0,\"fTicky\":0,\"fLogx\":0,\"fLogy\":0,\"fLogz\":0,\"fPadPaint\":0,\"fCrosshair\":0,\"fCrosshairPos\":0,\"fBorderSize\":2,\"fBorderMode\":0,\"fModified\":false,\"fGridx\":false,\"fGridy\":false,\"fAbsCoord\":false,\"fEditable\":true,\"fFixedAspectRatio\":false,\"fPrimitives\":{\"_typename\":\"TList\",\"name\":\"TList\",\"arr\":[],\"opt\":[]},\"fExecs\":null,\"fName\":\"cphi\",\"fTitle\":\"cphi\",\"fNumPaletteColor\":0,\"fNextPaletteColor\":0,\"fDISPLAY\":\"$DISPLAY\",\"fDoubleBuffer\":0,\"fRetained\":true,\"fXsizeUser\":0,\"fYsizeUser\":0,\"fXsizeReal\":20,\"fYsizeReal\":15,\"fWindowTopX\":0,\"fWindowTopY\":0,\"fWindowWidth\":0,\"fWindowHeight\":0,\"fCw\":396,\"fCh\":272,\"fCatt\":{\"_typename\":\"TAttCanvas\",\"fXBetween\":2,\"fYBetween\":2,\"fTitleFromTop\":1.2,\"fXdate\":0.2,\"fYdate\":0.3,\"fAdate\":1},\"kMoveOpaque\":true,\"kResizeOpaque\":true,\"fHighLightColor\":2,\"fBatch\":true,\"kShowEventStatus\":false,\"kAutoExec\":true,\"kMenuBar\":true},\"fActive\":false,\"fReadOnly\":true,\"fWithoutPrimitives\":false,\"fHasExecs\":false,\"fPrimitives\":[{\"_typename\":\"TWebSnapshot\",\"fUniqueID\":0,\"fBits\":0,\"fObjectID\":\"\",\"fOption\":\"\",\"fKind\":4,\"fSnapshot\":{\"_typename\":\"TWebPainting\",\"fUniqueID\":0,\"fBits\":0,\"fOper\":\"0:255,255,255;1:0,0,0;2:255,0,0;3:0,255,0;4:0,0,255;5:255,255,0;6:255,0,255;7:0,255,255;8:89,211,84;9:89,84,216;10:254,254,254;11:192,182,172;12:76,76,76;13:102,102,102;14:127,127,127;15:153,153,153;16:178,178,178;17:204,204,204;18:229,229,229;19:242,242,242;20:204,198,170;21:204,198,170;22:193,191,168;23:186,181,163;24:178,165,150;25:183,163,155;26:173,153,140;27:155,142,130;28:135,102,86;29:175,206,198;30:132,193,163;31:137,168,160;32:130,158,140;33:173,188,198;34:122,142,153;35:117,137,145;36:104,130,150;37:109,122,132;38:124,153,209;39:127,127,155;40:170,165,191;41:211,206,135;42:221,186,135;43:188,158,130;44:198,153,124;45:191,130,119;46:206,94,96;47:170,142,147;48:165,119,122;49:147,104,112;50:211,89,84;51:146,0,255;52:122,0,255;53:98,0,255;54:74,0,255;55:51,0,255;56:27,0,255;57:3,0,255;58:0,20,255;59:0,44,255;60:0,68,255;61:0,91,255;62:0,115,255;63:0,139,255;64:0,163,255;65:0,187,255;66:0,210,255;67:0,234,255;68:0,255,251;69:0,255,227;70:0,255,204;71:0,255,180;72:0,255,156;73:0,255,132;74:0,255,108;75:0,255,85;76:0,255,61;77:0,255,37;78:0,255,13;79:10,255,0;80:34,255,0;81:57,255,0;82:81,255,0;83:105,255,0;84:129,255,0;85:153,255,0;86:176,255,0;87:200,255,0;88:224,255,0;89:248,255,0;90:255,238,0;91:255,214,0;92:255,190,0;93:255,166,0;94:255,142,0;95:255,119,0;96:255,95,0;97:255,71,0;98:255,47,0;99:255,23,0;100:111,45,168;101:165,42,42;102:178,190,181;103:87,144,252;104:248,156,32;105:228,37,54;106:150,74,139;107:156,156,161;108:122,33,221;109:24,69,251;110:255,94,2;111:201,31,22;112:200,73,169;113:173,173,125;114:134,200,221;115:87,141,255;116:101,99,100;117:63,144,218;118:255,169,14;119:189,31,1;120:148,164,162;121:131,45,182;122:169,107,89;123:231,99,0;124:185,172,112;125:113,117,129;126:146,218,221;127:178,178,178;201:91,91,91;202:122,122,122;203:183,183,183;204:214,214,214;205:137,15,15;206:183,20,20;207:234,71,71;208:239,117,117;209:15,137,15;210:20,183,20;211:71,234,71;212:117,239,117;213:15,15,137;214:20,20,183;215:71,71,234;216:117,117,239;217:137,137,15;218:183,183,20;219:234,234,71;220:239,239,117;221:137,15,137;222:183,20,183;223:234,71,234;224:239,117,239;225:15,137,137;226:20,183,183;227:71,234,234;228:117,239,239;390:255,255,204;391:255,255,153;392:204,204,153;393:255,255,102;394:204,204,102;395:153,153,102;396:255,255,51;397:204,204,51;398:153,153,51;399:102,102,51;400:255,255,0;401:204,204,0;402:153,153,0;403:102,102,0;404:51,51,0;406:204,255,204;407:153,255,153;408:153,204,153;409:102,255,102;410:102,204,102;411:102,153,102;412:51,255,51;413:51,204,51;414:51,153,51;415:51,102,51;416:0,255,0;417:0,204,0;418:0,153,0;419:0,102,0;420:0,51,0;422:204,255,255;423:153,255,255;424:153,204,204;425:102,255,255;426:102,204,204;427:102,153,153;428:51,255,255;429:51,204,204;430:51,153,153;431:51,102,102;432:0,255,255;433:0,204,204;434:0,153,153;435:0,102,102;436:0,51,51;590:204,204,255;591:153,153,255;592:153,153,204;593:102,102,255;594:102,102,204;595:102,102,153;596:51,51,255;597:51,51,204;598:51,51,153;599:51,51,102;600:0,0,255;601:0,0,204;602:0,0,153;603:0,0,102;604:0,0,51;606:255,204,255;607:255,153,255;608:204,153,204;609:255,102,255;610:204,102,204;611:153,102,153;612:255,51,255;613:204,51,204;614:153,51,153;615:102,51,102;616:255,0,255;617:204,0,204;618:153,0,153;619:102,0,102;620:51,0,51;622:255,204,204;623:255,153,153;624:204,153,153;625:255,102,102;626:204,102,102;627:153,102,102;628:255,51,51;629:204,51,51;630:153,51,51;631:102,51,51;632:255,0,0;633:204,0,0;634:153,0,0;635:102,0,0;636:51,0,0;791:255,204,153;792:204,153,102;793:153,102,51;794:153,102,0;795:204,153,51;796:255,204,102;797:255,153,0;798:255,204,51;799:204,153,0;800:255,204,0;801:255,153,51;802:204,102,0;803:102,51,0;804:153,51,0;805:204,102,51;806:255,153,102;807:255,102,0;808:255,102,51;809:204,51,0;810:255,51,0;811:153,255,51;812:102,204,0;813:51,102,0;814:51,153,0;815:102,204,51;816:153,255,102;817:102,255,0;818:102,255,51;819:51,204,0;820:51,255,0;821:204,255,153;822:153,204,102;823:102,153,51;824:102,153,0;825:153,204,51;826:204,255,102;827:153,255,0;828:204,255,51;829:153,204,0;830:204,255,0;831:153,255,204;832:102,204,153;833:51,153,102;834:0,153,102;835:51,204,153;836:102,255,204;837:0,255,102;838:51,255,204;839:0,204,153;840:0,255,204;841:51,255,153;842:0,204,102;843:0,102,51;844:0,153,51;845:51,204,102;846:102,255,153;847:0,255,153;848:51,255,102;849:0,204,51;850:0,255,51;851:153,204,255;852:102,153,204;853:51,102,153;854:0,51,153;855:51,102,204;856:102,153,255;857:0,102,255;858:51,102,255;859:0,51,204;860:0,51,255;861:51,153,255;862:0,102,204;863:0,51,102;864:0,102,153;865:51,153,204;866:102,204,255;867:0,153,255;868:51,204,255;869:0,153,204;870:0,204,255;871:204,153,255;872:153,102,204;873:102,51,153;874:102,0,153;875:153,51,204;876:204,102,255;877:153,0,255;878:204,51,255;879:153,0,204;880:204,0,255;881:153,51,255;882:102,0,204;883:51,0,102;884:51,0,153;885:102,51,204;886:153,102,255;887:102,0,255;888:102,51,255;889:51,0,204;890:51,0,255;891:255,51,153;892:204,0,102;893:102,0,51;894:153,0,51;895:204,51,102;896:255,102,153;897:255,0,102;898:255,51,102;899:204,0,51;900:255,0,51;901:255,153,204;902:204,102,153;903:153,51,102;904:153,0,102;905:204,51,153;906:255,102,204;907:255,0,153;908:204,0,153;909:255,51,204;910:255,0,153;920:204,204,204;921:153,153,153;922:102,102,102;923:51,51,51;924:53,42,134;925:51,44,137;926:50,45,140;927:49,47,143;928:48,48,146;929:46,50,148;930:45,51,151;931:44,53,154;932:43,55,157;933:42,56,160;934:40,58,162;935:39,59,165;936:38,61,168;937:37,63,171;938:35,64,174;939:34,66,176;940:33,67,179;941:32,69,182;942:31,71,185;943:29,72,187;944:28,74,190;945:27,75,193;946:26,77,196;947:24,79,199;948:23,80,201;949:22,82,204;950:21,83,207;951:19,85,210;952:18,86,213;953:17,88,215;954:16,90,218;955:15,91,221;956:15,92,221;957:15,94,220;958:15,95,220;959:15,96,220;960:15,97,220;961:15,98,220;962:16,99,219;963:16,100,219;964:16,102,219;965:16,103,219;966:16,104,218;967:16,105,218;968:17,106,218;969:17,107,218;970:17,109,217;971:17,110,217;972:17,111,217;973:17,112,217;974:17,113,216;975:18,114,216;976:18,115,216;977:18,117,216;978:18,118,215;979:18,119,215;980:18,120,215;981:18,121,215;982:19,122,215;983:19,123,214;984:19,125,214;985:19,126,214;986:19,127,214;987:19,128,213;988:19,129,213;989:19,130,213;990:18,131,212;991:18,132,212;992:17,134,211;993:17,135,211;994:16,136,211;995:16,137,210;996:15,138,210;997:15,139,210;998:15,140,209;999:14,141,209;1000:14,142,208;1001:13,143,208;1002:13,145,208;1003:12,146,207;1004:12,147,207;1005:12,148,207;1006:11,149,206;1007:11,150,206;1008:10,151,205;1009:10,152,205;1010:9,153,205;1011:9,154,204;1012:8,155,204;1013:8,157,204;1014:8,158,203;1015:7,159,203;1016:7,160,202;1017:6,161,202;1018:6,162,202;1019:5,163,201;1020:7,164,200;1021:8,164,199;1022:9,165,198;1023:10,166,197;1024:12,166,195;1025:13,167,194;1026:14,167,193;1027:15,168,192;1028:17,169,191;1029:18,169,189;1030:19,170,188;1031:20,170,187;1032:22,171,186;1033:23,172,185;1034:24,172,184;1035:25,173,182;1036:27,173,181;1037:28,174,180;1038:29,175,179;1039:30,175,178;1040:32,176,176;1041:33,176,175;1042:34,177,174;1043:35,178,173;1044:37,178,172;1045:38,179,170;1046:39,180,169;1047:40,180,168;1048:42,181,167;1049:43,181,166;1050:44,182,165;1051:45,183,163;1052:48,183,162;1053:51,183,161;1054:54,183,159;1055:57,184,158;1056:59,184,156;1057:62,184,155;1058:65,184,154;1059:68,185,152;1060:71,185,151;1061:73,185,149;1062:76,185,148;1063:79,186,146;1064:82,186,145;1065:84,186,144;1066:87,186,142;1067:90,187,141;1068:93,187,139;1069:96,187,138;1070:98,187,137;1071:101,188,135;1072:104,188,134;1073:107,188,132;1074:110,188,131;1075:112,189,130;1076:115,189,128;1077:118,189,127;1078:121,189,125;1079:124,190,124;1080:126,190,123;1081:129,190,121;1082:132,190,120;1083:135,191,118;1084:137,190,117;1085:139,190,117;1086:142,190,116;1087:144,190,115;1088:146,190,114;1089:148,190,113;1090:151,190,112;1091:153,190,111;1092:155,189,110;1093:158,189,109;1094:160,189,108;1095:162,189,107;1096:165,189,106;1097:167,189,105;1098:169,189,104;1099:171,188,104;1100:174,188,103;1101:176,188,102;1102:178,188,101;1103:181,188,100;1104:183,188,99;1105:185,188,98;1106:188,188,97;1107:190,187,96;1108:192,187,95;1109:194,187,94;1110:197,187,93;1111:199,187,92;1112:201,187,92;1113:204,187,91;1114:206,186,90;1115:208,186,89;1116:210,187,88;1117:211,187,86;1118:212,188,85;1119:214,188,84;1120:215,188,83;1121:217,189,81;1122:218,189,80;1123:220,190,79;1124:221,190,78;1125:222,191,77;1126:224,191,75;1127:225,191,74;1128:227,192,73;1129:228,192,72;1130:229,193,70;1131:231,193,69;1132:232,194,68;1133:234,194,67;1134:235,194,66;1135:236,195,64;1136:238,195,63;1137:239,196,62;1138:241,196,61;1139:242,197,59;1140:244,197,58;1141:245,197,57;1142:246,198,56;1143:248,198,55;1144:249,199,53;1145:251,199,52;1146:252,200,51;1147:253,200,50;1148:253,202,49;1149:253,203,47;1150:253,205,46;1151:253,206,45;1152:253,208,44;1153:252,209,43;1154:252,211,42;1155:252,213,41;1156:252,214,39;1157:252,216,38;1158:252,217,37;1159:252,219,36;1160:251,220,35;1161:251,222,34;1162:251,224,33;1163:251,225,31;1164:251,227,30;1165:251,228,29;1166:250,230,28;1167:250,231,27;1168:250,233,26;1169:250,235,25;1170:250,236,23;1171:250,238,22;1172:250,239,21;1173:249,241,20;1174:249,242,19;1175:249,244,18;1176:249,246,17;1177:249,247,16;1178:249,249,14\",\"fBuf\":{\"$arr\":\"Float32\",\"len\":255,\"v\":[924,925,926,927,928,929,930,931,932,933,934,935,936,937,938,939,940,941,942,943,944,945,946,947,948,949,950,951,952,953,954,955,956,957,958,959,960,961,962,963,964,965,966,967,968,969,970,971,972,973,974,975,976,977,978,979,980,981,982,983,984,985,986,987,988,989,990,991,992,993,994,995,996,997,998,999,1000,1001,1002,1003,1004,1005,1006,1007,1008,1009,1010,1011,1012,1013,1014,1015,1016,1017,1018,1019,1020,1021,1022,1023,1024,1025,1026,1027,1028,1029,1030,1031,1032,1033,1034,1035,1036,1037,1038,1039,1040,1041,1042,1043,1044,1045,1046,1047,1048,1049,1050,1051,1052,1053,1054,1055,1056,1057,1058,1059,1060,1061,1062,1063,1064,1065,1066,1067,1068,1069,1070,1071,1072,1073,1074,1075,1076,1077,1078,1079,1080,1081,1082,1083,1084,1085,1086,1087,1088,1089,1090,1091,1092,1093,1094,1095,1096,1097,1098,1099,1100,1101,1102,1103,1104,1105,1106,1107,1108,1109,1110,1111,1112,1113,1114,1115,1116,1117,1118,1119,1120,1121,1122,1123,1124,1125,1126,1127,1128,1129,1130,1131,1132,1133,1134,1135,1136,1137,1138,1139,1140,1141,1142,1143,1144,1145,1146,1147,1148,1149,1150,1151,1152,1153,1154,1155,1156,1157,1158,1159,1160,1161,1162,1163,1164,1165,1166,1167,1168,1169,1170,1171,1172,1173,1174,1175,1176,1177,1178]}}},{\"_typename\":\"TWebSnapshot\",\"fUniqueID\":0,\"fBits\":0,\"fObjectID\":\"\",\"fOption\":\"\",\"fKind\":5,\"fSnapshot\":{\"_typename\":\"TStyle\",\"fUniqueID\":0,\"fBits\":0,\"fName\":\"Modern\",\"fTitle\":\"Modern Style\",\"fLineColor\":1,\"fLineStyle\":1,\"fLineWidth\":1,\"fFillColor\":19,\"fFillStyle\":1001,\"fMarkerColor\":1,\"fMarkerStyle\":1,\"fMarkerSize\":1,\"fTextAngle\":0,\"fTextSize\":0.05,\"fTextAlign\":11,\"fTextColor\":1,\"fTextFont\":62,\"fXaxis\":{\"_typename\":\"TAttAxis\",\"fNdivisions\":510,\"fAxisColor\":1,\"fLabelColor\":1,\"fLabelFont\":42,\"fLabelOffset\":0.005,\"fLabelSize\":0.035,\"fTickLength\":0.03,\"fTitleOffset\":1,\"fTitleSize\":0.035,\"fTitleColor\":1,\"fTitleFont\":42},\"fYaxis\":{\"_typename\":\"TAttAxis\",\"fNdivisions\":510,\"fAxisColor\":1,\"fLabelColor\":1,\"fLabelFont\":42,\"fLabelOffset\":0.005,\"fLabelSize\":0.035,\"fTickLength\":0.03,\"fTitleOffset\":0,\"fTitleSize\":0.035,\"fTitleColor\":1,\"fTitleFont\":42},\"fZaxis\":{\"_typename\":\"TAttAxis\",\"fNdivisions\":510,\"fAxisColor\":1,\"fLabelColor\":1,\"fLabelFont\":42,\"fLabelOffset\":0.005,\"fLabelSize\":0.035,\"fTickLength\":0.03,\"fTitleOffset\":1,\"fTitleSize\":0.035,\"fTitleColor\":1,\"fTitleFont\":42},\"fBarWidth\":1,\"fBarOffset\":0,\"fColorModelPS\":0,\"fDrawBorder\":0,\"fOptLogx\":0,\"fOptLogy\":0,\"fOptLogz\":0,\"fOptDate\":0,\"fOptStat\":1111,\"fOptTitle\":1,\"fOptFile\":0,\"fOptFit\":0,\"fShowEventStatus\":0,\"fShowEditor\":0,\"fShowToolBar\":0,\"fNumberContours\":20,\"fAttDate\":{\"_typename\":\"TAttText\",\"fTextAngle\":0,\"fTextSize\":0.025,\"fTextAlign\":11,\"fTextColor\":1,\"fTextFont\":62},\"fDateX\":0.01,\"fDateY\":0.01,\"fEndErrorSize\":2,\"fErrorX\":0.5,\"fFuncColor\":2,\"fFuncStyle\":1,\"fFuncWidth\":2,\"fGridColor\":0,\"fGridStyle\":3,\"fGridWidth\":1,\"fLegendBorderSize\":1,\"fLegendFillColor\":0,\"fLegendFillStyle\":1001,\"fLegendFont\":42,\"fLegendTextSize\":0,\"fHatchesLineWidth\":1,\"fHatchesSpacing\":1,\"fFrameFillColor\":0,\"fFrameLineColor\":1,\"fFrameFillStyle\":1001,\"fFrameLineStyle\":1,\"fFrameLineWidth\":1,\"fFrameBorderSize\":1,\"fFrameBorderMode\":0,\"fHistFillColor\":0,\"fHistLineColor\":602,\"fHistFillStyle\":1001,\"fHistLineStyle\":1,\"fHistLineWidth\":1,\"fHistMinimumZero\":false,\"fHistTopMargin\":0.05,\"fCanvasPreferGL\":false,\"fCanvasColor\":0,\"fCanvasBorderSize\":2,\"fCanvasBorderMode\":0,\"fCanvasDefH\":500,\"fCanvasDefW\":700,\"fCanvasDefX\":10,\"fCanvasDefY\":10,\"fPadColor\":0,\"fPadBorderSize\":2,\"fPadBorderMode\":0,\"fPadBottomMargin\":0.1,\"fPadTopMargin\":0.1,\"fPadLeftMargin\":0.1,\"fPadRightMargin\":0.1,\"fPadGridX\":false,\"fPadGridY\":false,\"fPadTickX\":0,\"fPadTickY\":0,\"fPaperSizeX\":20,\"fPaperSizeY\":26,\"fScreenFactor\":1,\"fStatColor\":0,\"fStatTextColor\":1,\"fStatBorderSize\":1,\"fStatFont\":42,\"fStatFontSize\":0,\"fStatStyle\":1001,\"fStatFormat\":\"6.4g\",\"fStatX\":0.98,\"fStatY\":0.935,\"fStatW\":0.2,\"fStatH\":0.16,\"fStripDecimals\":true,\"fTitleAlign\":23,\"fTitleColor\":0,\"fTitleTextColor\":1,\"fTitleBorderSize\":0,\"fTitleFont\":42,\"fTitleFontSize\":0.05,\"fTitleStyle\":0,\"fTitleX\":0.5,\"fTitleY\":0.995,\"fTitleW\":0,\"fTitleH\":0,\"fLegoInnerR\":0.5,\"fLineStyles\":[\"\",\"  \",\" 12 12\",\" 4 8\",\" 12 16 4 16\",\" 20 12 4 12\",\" 20 12 4 12 4 12 4 12\",\" 20 20\",\" 20 12 4 12 4 12\",\" 80 20\",\" 80 40 4 40\",\"  \",\"  \",\"  \",\"  \",\"  \",\"  \",\"  \",\"  \",\"  \",\"  \",\"  \",\"  \",\"  \",\"  \",\"  \",\"  \",\"  \",\"  \",\"  \"],\"fHeaderPS\":\"\",\"fTitlePS\":\"\",\"fFitFormat\":\"5.4g\",\"fPaintTextFormat\":\"g\",\"fLineScalePS\":3,\"fJoinLinePS\":0,\"fCapLinePS\":0,\"fTimeOffset\":788918400,\"fImageScaling\":1,\"fCandleWhiskerRange\":1,\"fCandleBoxRange\":0.5,\"fCandleScaled\":false,\"fViolinScaled\":true,\"fXAxisExpXOffset\":0,\"fXAxisExpYOffset\":0,\"fYAxisExpXOffset\":0,\"fYAxisExpYOffset\":0,\"fAxisMaxDigits\":5,\"fOrthoCamera\":false}},{\"_typename\":\"TWebSnapshot\",\"fUniqueID\":0,\"fBits\":0,\"fObjectID\":\"\",\"fOption\":\"\",\"fKind\":1,\"fSnapshot\":{\"_typename\":\"TFrame\",\"fUniqueID\":0,\"fBits\":8,\"fLineColor\":1,\"fLineStyle\":1,\"fLineWidth\":1,\"fFillColor\":0,\"fFillStyle\":1001,\"fX1\":-3.14,\"fY1\":1116.45,\"fX2\":3.14,\"fY2\":1415.2275,\"fBorderSize\":1,\"fBorderMode\":0}},{\"_typename\":\"TWebSnapshot\",\"fUniqueID\":0,\"fBits\":0,\"fObjectID\":\"\",\"fOption\":\"\",\"fKind\":1,\"fSnapshot\":{\"_typename\":\"TH1D\",\"fUniqueID\":0,\"fBits\":8,\"fName\":\"hphi\",\"fTitle\":\"\",\"fLineColor\":602,\"fLineStyle\":1,\"fLineWidth\":1,\"fFillColor\":0,\"fFillStyle\":1001,\"fMarkerColor\":1,\"fMarkerStyle\":1,\"fMarkerSize\":1,\"fNcells\":102,\"fXaxis\":{\"_typename\":\"TAxis\",\"fUniqueID\":0,\"fBits\":0,\"fName\":\"xaxis\",\"fTitle\":\"#it{#phi}\",\"fNdivisions\":510,\"fAxisColor\":1,\"fLabelColor\":1,\"fLabelFont\":42,\"fLabelOffset\":0.005,\"fLabelSize\":0.035,\"fTickLength\":0.03,\"fTitleOffset\":1,\"fTitleSize\":0.035,\"fTitleColor\":1,\"fTitleFont\":42,\"fNbins\":100,\"fXmin\":-3.14,\"fXmax\":3.14,\"fXbins\":[],\"fFirst\":0,\"fLast\":0,\"fBits2\":0,\"fTimeDisplay\":false,\"fTimeFormat\":\"\",\"fLabels\":null,\"fModLabs\":null},\"fYaxis\":{\"_typename\":\"TAxis\",\"fUniqueID\":0,\"fBits\":0,\"fName\":\"yaxis\",\"fTitle\":\"Counts\",\"fNdivisions\":510,\"fAxisColor\":1,\"fLabelColor\":1,\"fLabelFont\":42,\"fLabelOffset\":0.005,\"fLabelSize\":0.035,\"fTickLength\":0.03,\"fTitleOffset\":0,\"fTitleSize\":0.035,\"fTitleColor\":1,\"fTitleFont\":42,\"fNbins\":1,\"fXmin\":0,\"fXmax\":1,\"fXbins\":[],\"fFirst\":0,\"fLast\":0,\"fBits2\":0,\"fTimeDisplay\":false,\"fTimeFormat\":\"\",\"fLabels\":null,\"fModLabs\":null},\"fZaxis\":{\"_typename\":\"TAxis\",\"fUniqueID\":0,\"fBits\":0,\"fName\":\"zaxis\",\"fTitle\":\"\",\"fNdivisions\":510,\"fAxisColor\":1,\"fLabelColor\":1,\"fLabelFont\":42,\"fLabelOffset\":0.005,\"fLabelSize\":0.035,\"fTickLength\":0.03,\"fTitleOffset\":1,\"fTitleSize\":0.035,\"fTitleColor\":1,\"fTitleFont\":42,\"fNbins\":1,\"fXmin\":0,\"fXmax\":1,\"fXbins\":[],\"fFirst\":0,\"fLast\":0,\"fBits2\":0,\"fTimeDisplay\":false,\"fTimeFormat\":\"\",\"fLabels\":null,\"fModLabs\":null},\"fBarOffset\":0,\"fBarWidth\":1000,\"fEntries\":128208,\"fTsumw\":128168,\"fTsumw2\":128168,\"fTsumwx\":339.495440281258,\"fTsumwx2\":435883.779236959,\"fMaximum\":-1111,\"fMinimum\":-1111,\"fNormFactor\":0,\"fContour\":[],\"fSumw2\":[],\"fOption\":\"\",\"fFunctions\":{\"_typename\":\"TList\",\"name\":\"TList\",\"arr\":[{\"_typename\":\"TPaveStats\",\"fUniqueID\":0,\"fBits\":9,\"fLineColor\":1,\"fLineStyle\":1,\"fLineWidth\":1,\"fFillColor\":0,\"fFillStyle\":1001,\"fX1\":2.1980001590848,\"fY1\":1368.54351938149,\"fX2\":3.76800020587445,\"fY2\":1428.29901893627,\"fX1NDC\":0.780000016093254,\"fY1NDC\":0.775000005960464,\"fX2NDC\":0.980000019073486,\"fY2NDC\":0.935000002384186,\"fBorderSize\":1,\"fInit\":1,\"fShadowColor\":1,\"fCornerRadius\":0,\"fOption\":\"brNDC\",\"fName\":\"stats\",\"fTextAngle\":0,\"fTextSize\":0,\"fTextAlign\":12,\"fTextColor\":1,\"fTextFont\":42,\"fLabel\":\"\",\"fLongest\":18,\"fMargin\":0.05,\"fLines\":{\"_typename\":\"TList\",\"name\":\"TList\",\"arr\":[{\"_typename\":\"TLatex\",\"fUniqueID\":0,\"fBits\":0,\"fName\":\"\",\"fTitle\":\"hphi\",\"fTextAngle\":0,\"fTextSize\":0.0368,\"fTextAlign\":0,\"fTextColor\":0,\"fTextFont\":0,\"fX\":0,\"fY\":0,\"fLineColor\":1,\"fLineStyle\":1,\"fLineWidth\":2,\"fLimitFactorSize\":3,\"fOriginSize\":0.0368000008165836},{\"_typename\":\"TLatex\",\"fUniqueID\":0,\"fBits\":0,\"fName\":\"\",\"fTitle\":\"Entries = 128208 \",\"fTextAngle\":0,\"fTextSize\":0,\"fTextAlign\":0,\"fTextColor\":0,\"fTextFont\":0,\"fX\":0,\"fY\":0,\"fLineColor\":1,\"fLineStyle\":1,\"fLineWidth\":2,\"fLimitFactorSize\":3,\"fOriginSize\":0.04},{\"_typename\":\"TLatex\",\"fUniqueID\":0,\"fBits\":0,\"fName\":\"\",\"fTitle\":\"Mean  = 0.002649\",\"fTextAngle\":0,\"fTextSize\":0,\"fTextAlign\":0,\"fTextColor\":0,\"fTextFont\":0,\"fX\":0,\"fY\":0,\"fLineColor\":1,\"fLineStyle\":1,\"fLineWidth\":2,\"fLimitFactorSize\":3,\"fOriginSize\":0.04},{\"_typename\":\"TLatex\",\"fUniqueID\":0,\"fBits\":0,\"fName\":\"\",\"fTitle\":\"Std Dev   =  1.844\",\"fTextAngle\":0,\"fTextSize\":0,\"fTextAlign\":0,\"fTextColor\":0,\"fTextFont\":0,\"fX\":0,\"fY\":0,\"fLineColor\":1,\"fLineStyle\":1,\"fLineWidth\":2,\"fLimitFactorSize\":3,\"fOriginSize\":0.04}],\"opt\":[\"\",\"\",\"\",\"\"]},\"fOptFit\":0,\"fOptStat\":1111,\"fFitFormat\":\"5.4g\",\"fStatFormat\":\"6.4g\",\"fParent\":{\"$ref\":15}}],\"opt\":[\"brNDC\"]},\"fBufferSize\":0,\"fBuffer\":[],\"fBinStatErrOpt\":0,\"fStatOverflows\":2,\"fArray\":{\"$arr\":\"Float64\",\"len\":102,\"v\":[21,1337,1343,1371,1356,1342,1340,1339,1318,1260,1379,1350,1337,1314,1311,1290,1316,1316,1352,1271,1311,1364,1309,1303,1358,1298,1311,1329,1291,1311,1285,1227,1229,1253,1294,1234,1235,1218,1201,1224,1207,1223,1175,1183,1181,1130,1185,1198,1199,1170,1324,1364,1161,1218,1192,1187,1155,1165,1182,1141,1202,1207,1234,1230,1205,1255,1288,1274,1237,1305,1277,1207,1234,1261,1328,1252,1333,1349,1295,1338,1335,1277,1329,1321,1347,1290,1380,1271,1401,1352,1363,1312,1357,1307,1358,1348,1304,1332,1391,1383,1332,19]}}}],\"fScripts\":\"\",\"fHighlightConnect\":false,\"fFixedSize\":false});\n",
       "   Core.settings.HandleKeys = false;\n",
       "   Core.draw(\"root_plot_1753430157739\", obj, \"\");\n",
       "}\n",
       "\n",
       "function script_load_root_plot_1753430157739(src, on_error) {\n",
       "    let script = document.createElement('script');\n",
       "    script.src = src;\n",
       "    script.onload = function() { display_root_plot_1753430157739(JSROOT); };\n",
       "    script.onerror = function() { script.remove(); on_error(); };\n",
       "    document.head.appendChild(script);\n",
       "}\n",
       "\n",
       "if (typeof requirejs !== 'undefined') {\n",
       "\n",
       "    // We are in jupyter notebooks, use require.js which should be configured already\n",
       "    requirejs.config({\n",
       "       paths: { 'JSRootCore' : [ 'build/jsroot', 'https://root.cern/js/7.7.4/build/jsroot', 'https://jsroot.gsi.de/7.7.4/build/jsroot' ] }\n",
       "    })(['JSRootCore'],  function(Core) {\n",
       "       display_root_plot_1753430157739(Core);\n",
       "    });\n",
       "\n",
       "} else if (typeof JSROOT !== 'undefined') {\n",
       "\n",
       "   // JSROOT already loaded, just use it\n",
       "   display_root_plot_1753430157739(JSROOT);\n",
       "\n",
       "} else {\n",
       "\n",
       "    // We are in jupyterlab without require.js, directly loading jsroot\n",
       "    // Jupyterlab might be installed in a different base_url so we need to know it.\n",
       "    try {\n",
       "        var base_url = JSON.parse(document.getElementById('jupyter-config-data').innerHTML).baseUrl;\n",
       "    } catch(_) {\n",
       "        var base_url = '/';\n",
       "    }\n",
       "\n",
       "    // Try loading a local version of requirejs and fallback to cdn if not possible.\n",
       "    script_load_root_plot_1753430157739(base_url + 'static/build/jsroot.js', function(){\n",
       "        console.error('Fail to load JSROOT locally, please check your jupyter_notebook_config.py file');\n",
       "        script_load_root_plot_1753430157739('https://root.cern/js/7.7.4/build/jsroot.js', function(){\n",
       "            document.getElementById(\"root_plot_1753430157739\").innerHTML = \"Failed to load JSROOT\";\n",
       "        });\n",
       "    });\n",
       "}\n",
       "\n",
       "</script>\n"
      ],
      "text/plain": [
       "<IPython.core.display.HTML object>"
      ]
     },
     "metadata": {},
     "output_type": "display_data"
    }
   ],
   "source": [
    "cphi = ROOT.TCanvas(\"cphi\", \"cphi\", 400, 300)\n",
    "hphi.Draw()\n",
    "cphi.Draw()"
   ]
  },
  {
   "cell_type": "markdown",
   "id": "61d0e583-764e-46aa-b160-f2a3f28387a5",
   "metadata": {},
   "source": [
    "#### Saving new branches with Snapshots\n",
    "\n",
    "The RDataFrame `Snapshot()` method allows specific columns of the dataframe to be saved directly to a ROOT file in TTree format.\n",
    "\n",
    "These trees can then be used added as friend trees when creating the dataframe next time to avoid recomputing things."
   ]
  },
  {
   "cell_type": "code",
   "execution_count": 41,
   "id": "9d37ad64",
   "metadata": {},
   "outputs": [
    {
     "data": {
      "text/plain": [
       "<cppyy.gbl.ROOT.RDF.RResultPtr<ROOT::RDF::RInterface<ROOT::Detail::RDF::RLoopManager,void> > object at 0x558b9fe3f040>"
      ]
     },
     "execution_count": 41,
     "metadata": {},
     "output_type": "execute_result"
    },
    {
     "name": "stderr",
     "output_type": "stream",
     "text": [
      "Info in <[ROOT.RDF] Info /home/conda/feedstock_root/build_artifacts/bld/rattler-build_root_base_1740585294/work/root-source/tree/dataframe/src/RLoopManager.cxx:894 in void ROOT::Detail::RDF::RLoopManager::Run(bool)>: Starting event loop number 4.\n",
      "Info in <[ROOT.RDF] Info /home/conda/feedstock_root/build_artifacts/bld/rattler-build_root_base_1740585294/work/root-source/tree/dataframe/src/RLoopManager.cxx:867 in void ROOT::Detail::RDF::RLoopManager::Jit()>: Just-in-time compilation phase completed in 1.900425 seconds.\n",
      "Info in <[ROOT.RDF] Info /home/conda/feedstock_root/build_artifacts/bld/rattler-build_root_base_1740585294/work/root-source/tree/dataframe/src/RLoopManager.cxx:931 in void ROOT::Detail::RDF::RLoopManager::Run(bool)>: Finished event loop number 4 (0.82s CPU, 0.815272s elapsed).\n"
     ]
    }
   ],
   "source": [
    "# Save the angles to a new TTree\n",
    "df.Snapshot(\"DecayTree\", \"angles_tree.root\", [\"cosThetaL\", \"cosThetaK\", \"phi\"])"
   ]
  },
  {
   "cell_type": "markdown",
   "id": "549ab122-fa5a-4a01-bd65-340897bbdd7b",
   "metadata": {},
   "source": [
    "#### Friend trees with RDataFrame\n",
    "\n",
    "RDataFrame can easily handle friend trees.\n",
    "\n",
    "All that is required is to setup a tree with friends *first*, then create the RDataFrame from it."
   ]
  },
  {
   "cell_type": "code",
   "execution_count": 42,
   "id": "95314e45",
   "metadata": {},
   "outputs": [
    {
     "name": "stderr",
     "output_type": "stream",
     "text": [
      "Info in <[ROOT.RDF] Info /home/conda/feedstock_root/build_artifacts/bld/rattler-build_root_base_1740585294/work/root-source/tree/dataframe/src/RLoopManager.cxx:853 in void ROOT::Detail::RDF::RLoopManager::Jit()>: Nothing to jit and execute.\n"
     ]
    }
   ],
   "source": [
    "# Open the main file\n",
    "inFile = ROOT.TFile.Open(\"B02KstMuMu_w40_42_magup.root\")\n",
    "\n",
    "# Extract the main TTree object\n",
    "tree = inFile.Get(\"DecayTree\")\n",
    "\n",
    "# Add the q2 tree as a friend to the main tree\n",
    "tree.AddFriend(\"newTree\", \"q2_tree_py.root\")\n",
    "\n",
    "# Create a dataframe to directly read the tree including its friends\n",
    "df_friend = ROOT.RDataFrame(tree)"
   ]
  },
  {
   "cell_type": "code",
   "execution_count": 43,
   "id": "0e7a86eb",
   "metadata": {},
   "outputs": [
    {
     "name": "stdout",
     "output_type": "stream",
     "text": [
      "+-----+-------------+-----------+\n",
      "| Row | B_M         | q2        | \n",
      "+-----+-------------+-----------+\n",
      "| 0   | 5299.243164 | 9.140768  | \n",
      "+-----+-------------+-----------+\n",
      "| 1   | 5270.494629 | 12.046855 | \n",
      "+-----+-------------+-----------+\n",
      "| 2   | 5208.887207 | 15.363330 | \n",
      "+-----+-------------+-----------+\n",
      "| 3   | 5278.687500 | 0.236994  | \n",
      "+-----+-------------+-----------+\n",
      "| 4   | 5285.071289 | 13.762801 | \n",
      "+-----+-------------+-----------+\n",
      "| 5   | 5160.005859 | 3.440733  | \n",
      "+-----+-------------+-----------+\n",
      "| 6   | 5288.348145 | 3.440733  | \n",
      "+-----+-------------+-----------+\n",
      "| 7   | 5257.195801 | 9.293385  | \n",
      "+-----+-------------+-----------+\n",
      "| 8   | 5260.979492 | 14.631278 | \n",
      "+-----+-------------+-----------+\n",
      "| 9   | 5283.066895 | 14.809097 | \n",
      "+-----+-------------+-----------+\n"
     ]
    },
    {
     "name": "stderr",
     "output_type": "stream",
     "text": [
      "Info in <[ROOT.RDF] Info /home/conda/feedstock_root/build_artifacts/bld/rattler-build_root_base_1740585294/work/root-source/tree/dataframe/src/RLoopManager.cxx:894 in void ROOT::Detail::RDF::RLoopManager::Run(bool)>: Starting event loop number 0.\n",
      "Info in <[ROOT.RDF] Info /home/conda/feedstock_root/build_artifacts/bld/rattler-build_root_base_1740585294/work/root-source/tree/dataframe/src/RLoopManager.cxx:867 in void ROOT::Detail::RDF::RLoopManager::Jit()>: Just-in-time compilation phase completed in 0.286488 seconds.\n",
      "Info in <[ROOT.RDF] Info /home/conda/feedstock_root/build_artifacts/bld/rattler-build_root_base_1740585294/work/root-source/tree/dataframe/src/RLoopManager.cxx:931 in void ROOT::Detail::RDF::RLoopManager::Run(bool)>: Finished event loop number 0 (0.01s CPU, 0.00589204s elapsed).\n"
     ]
    }
   ],
   "source": [
    "# The datframe contains the B_M and q2 branches, which are from the main tree and the friend tree, respectively\n",
    "df_friend.Display([\"B_M\", \"q2\"], 10).Print()"
   ]
  },
  {
   "cell_type": "markdown",
   "id": "2ff87dc4-5522-4b03-80bc-8775dbb3cc16",
   "metadata": {},
   "source": [
    "#### Converting from RDataFrame to numpy\n",
    "\n",
    "RDataFrame has built in methods for extracting columns into numpy arrays.\n",
    "The output is a dictionary with the keys corresponding to column names from the data frame and the values being numpy arrays corresponding to the rows."
   ]
  },
  {
   "cell_type": "code",
   "execution_count": 44,
   "id": "1e691c48",
   "metadata": {},
   "outputs": [
    {
     "name": "stdout",
     "output_type": "stream",
     "text": [
      "{'B_M': ndarray([5299.24316406, 5270.49462891, 5208.88720703, ..., 5453.44384766,\n",
      "         5281.71972656, 5276.64501953]), 'q2': ndarray([ 9.1407672 , 12.04758033, 15.36488595, ..., 13.31848574,\n",
      "          3.12169111,  9.998114  ]), 'cosThetaL': ndarray([-0.58960084, -0.91436654, -0.59585357, ..., -0.99908944,\n",
      "         -0.03634533,  0.11154538]), 'cosThetaK': ndarray([ 0.16040565, -0.40786084,  0.68752272, ..., -0.31964939,\n",
      "         -0.89576481, -0.75768869]), 'phi': ndarray([-0.88792774,  2.19772562,  2.00955665, ..., -1.55627087,\n",
      "         -0.29027498, -0.69841788])}\n"
     ]
    },
    {
     "name": "stderr",
     "output_type": "stream",
     "text": [
      "Info in <[ROOT.RDF] Info /home/conda/feedstock_root/build_artifacts/bld/rattler-build_root_base_1740585294/work/root-source/tree/dataframe/src/RLoopManager.cxx:894 in void ROOT::Detail::RDF::RLoopManager::Run(bool)>: Starting event loop number 5.\n",
      "Info in <[ROOT.RDF] Info /home/conda/feedstock_root/build_artifacts/bld/rattler-build_root_base_1740585294/work/root-source/tree/dataframe/src/RLoopManager.cxx:853 in void ROOT::Detail::RDF::RLoopManager::Jit()>: Nothing to jit and execute.\n",
      "Info in <[ROOT.RDF] Info /home/conda/feedstock_root/build_artifacts/bld/rattler-build_root_base_1740585294/work/root-source/tree/dataframe/src/RLoopManager.cxx:931 in void ROOT::Detail::RDF::RLoopManager::Run(bool)>: Finished event loop number 5 (0.8s CPU, 0.795093s elapsed).\n"
     ]
    }
   ],
   "source": [
    "colList = [\"B_M\", \"q2\", \"cosThetaL\", \"cosThetaK\", \"phi\"]\n",
    "np_df = df.AsNumpy(colList)\n",
    "print(np_df)"
   ]
  },
  {
   "cell_type": "markdown",
   "id": "f9b156c9",
   "metadata": {},
   "source": [
    "#### Converting to a Pandas dataframe\n",
    "\n",
    "The `AsNumpy()` format is particularly well suited for quickly converting from an RDataFrame to a Pandas dataframe, which can be a useful data format for interfacing with libraries such as XGBoost for training multivariate analysis tools as well as for other basic data processing and visualisation tasks."
   ]
  },
  {
   "cell_type": "code",
   "execution_count": 45,
   "id": "a1c6b60e",
   "metadata": {},
   "outputs": [
    {
     "name": "stdout",
     "output_type": "stream",
     "text": [
      "                B_M         q2  cosThetaL  cosThetaK       phi\n",
      "0       5299.243164   9.140767  -0.589601   0.160406 -0.887928\n",
      "1       5270.494629  12.047580  -0.914367  -0.407861  2.197726\n",
      "2       5208.887207  15.364886  -0.595854   0.687523  2.009557\n",
      "3       5278.687500   0.237046   0.566820   0.699477 -2.535142\n",
      "4       5285.071289  13.763329  -0.180680   0.949084  0.437597\n",
      "...             ...        ...        ...        ...       ...\n",
      "128203  5280.011230  14.045481  -0.667104   0.351620  1.011648\n",
      "128204  5275.769531  16.680103  -0.138786  -0.383946 -2.600670\n",
      "128205  5453.443848  13.318486  -0.999089  -0.319649 -1.556271\n",
      "128206  5281.719727   3.121691  -0.036345  -0.895765 -0.290275\n",
      "128207  5276.645020   9.998114   0.111545  -0.757689 -0.698418\n",
      "\n",
      "[128208 rows x 5 columns]\n"
     ]
    }
   ],
   "source": [
    "import pandas as pd\n",
    "\n",
    "pd_df = pd.DataFrame(np_df)\n",
    "print(pd_df)"
   ]
  },
  {
   "cell_type": "code",
   "execution_count": 46,
   "id": "c899a77c",
   "metadata": {},
   "outputs": [
    {
     "name": "stdout",
     "output_type": "stream",
     "text": [
      "                B_M        q2  cosThetaL  cosThetaK       phi\n",
      "B_M        1.000000  0.115042   0.025235   0.007305 -0.001362\n",
      "q2         0.115042  1.000000  -0.222999   0.025984  0.000066\n",
      "cosThetaL  0.025235 -0.222999   1.000000  -0.044405 -0.005484\n",
      "cosThetaK  0.007305  0.025984  -0.044405   1.000000 -0.009327\n",
      "phi       -0.001362  0.000066  -0.005484  -0.009327  1.000000\n"
     ]
    }
   ],
   "source": [
    "# Example of computing the correlation matrix between columns with pandas\n",
    "corr = pd_df.corr(numeric_only=False)\n",
    "print(corr)"
   ]
  },
  {
   "cell_type": "code",
   "execution_count": 47,
   "id": "69bb3534",
   "metadata": {},
   "outputs": [
    {
     "data": {
      "image/png": "[encoded data removed]",
      "text/plain": [
       "<Figure size 640x480 with 2 Axes>"
      ]
     },
     "metadata": {},
     "output_type": "display_data"
    }
   ],
   "source": [
    "fig, ax = plt.subplots(tight_layout=True)\n",
    "cax = ax.matshow(corr, cmap='coolwarm')\n",
    "cb = fig.colorbar(cax, ax=ax)\n",
    "ax.set_title(f\"Correlation matrix between df columns\")\n",
    "ax.set_xticks(range(len(colList)), labels=colList, rotation=45, ha='left', rotation_mode='anchor')\n",
    "ax.set_yticks(range(len(colList)), labels=colList)\n",
    "ax.tick_params(axis='x', labelrotation=45, labelright=True)\n",
    "plt.show()"
   ]
  }
 ],
 "metadata": {
  "kernelspec": {
   "display_name": "Python 3 (ipykernel)",
   "language": "python",
   "name": "python3"
  },
  "language_info": {
   "codemirror_mode": {
    "name": "ipython",
    "version": 3
   },
   "file_extension": ".py",
   "mimetype": "text/x-python",
   "name": "python",
   "nbconvert_exporter": "python",
   "pygments_lexer": "ipython3",
   "version": "3.11.11"
  }
 },
 "nbformat": 4,
 "nbformat_minor": 5
}
